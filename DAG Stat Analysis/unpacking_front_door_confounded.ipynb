{
 "cells": [
  {
   "cell_type": "markdown",
   "metadata": {},
   "source": [
    "## Unpacking - Front Door Confounded\n",
    "---"
   ]
  },
  {
   "cell_type": "code",
   "execution_count": 1,
   "metadata": {},
   "outputs": [
    {
     "name": "stdout",
     "output_type": "stream",
     "text": [
      "Set parameter Username\n",
      "Academic license - for non-commercial use only - expires 2025-01-09\n",
      "Set parameter NonConvex to value 2\n"
     ]
    }
   ],
   "source": [
    "import gurobipy as gp\n",
    "from gurobipy import GRB\n",
    "import itertools\n",
    "import numpy as np\n",
    "\n",
    "model = gp.Model()\n",
    "model.params.NonConvex = 2"
   ]
  },
  {
   "cell_type": "code",
   "execution_count": 2,
   "metadata": {},
   "outputs": [],
   "source": [
    "(cardZ, cardA, cardM, cardY) = (2,2,2,2)"
   ]
  },
  {
   "cell_type": "markdown",
   "metadata": {},
   "source": [
    "sample probabilitiy distribution generation of P_AMY|Z:  \n",
    "irrelevant to rest of code"
   ]
  },
  {
   "cell_type": "code",
   "execution_count": 3,
   "metadata": {},
   "outputs": [],
   "source": [
    "# Define the conditional probabilities\n",
    "P_A_given_Z = {0: 0.3, 1: 0.7}  # Probability of A given Z\n",
    "P_M_given_A = {0: 0.4, 1: 0.6}  # Probability of M given A\n",
    "P_Y_given_M = {0: 0.2, 1: 0.8}  # Probability of Y given M\n",
    "P_Z = {0: 0.5, 1: 0.5}         # Probability of Z\n",
    "\n",
    "# Generate all combinations of Z, A, M, Y\n",
    "combinations = list(itertools.product([0, 1], repeat=4))\n",
    "\n",
    "# Calculate the joint probability distribution\n",
    "P_ZAMY = {}\n",
    "for z, a, m, y in combinations:\n",
    "    P_ZAMY[(z, a, m, y)] = P_Z[z] * \\\n",
    "                           (P_A_given_Z[z] if a == 1 else 1 - P_A_given_Z[z]) * \\\n",
    "                           (P_M_given_A[a] if m == 1 else 1 - P_M_given_A[a]) * \\\n",
    "                           (P_Y_given_M[m] if y == 1 else 1 - P_Y_given_M[m])\n",
    "\n",
    "# Normalize the distribution to ensure it sums to 1\n",
    "total_prob = sum(P_ZAMY.values())\n",
    "P_ZAMY_normalized = {k: v / total_prob for k, v in P_ZAMY.items()}\n"
   ]
  },
  {
   "cell_type": "code",
   "execution_count": 4,
   "metadata": {},
   "outputs": [],
   "source": [
    "# rounding\n",
    "P_ZAMY_normalized = {k: round(v, 3) for k, v in P_ZAMY_normalized.items()}"
   ]
  },
  {
   "cell_type": "code",
   "execution_count": 5,
   "metadata": {},
   "outputs": [],
   "source": [
    "# Initialize dictionary to store P(Z)\n",
    "P_Z_calculated = {0: 0, 1: 0}\n",
    "\n",
    "# Calculate P(Z) for each value of Z by summing over all A, M, Y combinations\n",
    "for z in [0, 1]:\n",
    "    P_Z_calculated[z] = sum(P_ZAMY_normalized[(z, a, m, y)] for a, m, y in itertools.product([0, 1], repeat=3))\n",
    "\n",
    "# Calculate P_AMY|Z as a new dictionary, ensuring no division by zero\n",
    "P_AMY_given_Z = {}\n",
    "for z in [0, 1]:\n",
    "    # Check to prevent division by zero\n",
    "    for a, m, y in itertools.product([0, 1], repeat=3):\n",
    "        joint_prob = P_ZAMY_normalized[(z, a, m, y)]\n",
    "        conditional_prob = joint_prob / P_Z_calculated[z]\n",
    "        P_AMY_given_Z[(a, m, y, z)] = conditional_prob\n",
    "\n",
    "P_AMY_giv_Z = P_AMY_given_Z"
   ]
  },
  {
   "cell_type": "code",
   "execution_count": 6,
   "metadata": {},
   "outputs": [
    {
     "data": {
      "text/plain": [
       "{(0, 0, 0, 0): 0.336,\n",
       " (0, 0, 1, 0): 0.084,\n",
       " (0, 1, 0, 0): 0.056,\n",
       " (0, 1, 1, 0): 0.224,\n",
       " (1, 0, 0, 0): 0.096,\n",
       " (1, 0, 1, 0): 0.024,\n",
       " (1, 1, 0, 0): 0.036,\n",
       " (1, 1, 1, 0): 0.144,\n",
       " (0, 0, 0, 1): 0.144,\n",
       " (0, 0, 1, 1): 0.036,\n",
       " (0, 1, 0, 1): 0.024,\n",
       " (0, 1, 1, 1): 0.096,\n",
       " (1, 0, 0, 1): 0.224,\n",
       " (1, 0, 1, 1): 0.056,\n",
       " (1, 1, 0, 1): 0.084,\n",
       " (1, 1, 1, 1): 0.336}"
      ]
     },
     "execution_count": 6,
     "metadata": {},
     "output_type": "execute_result"
    }
   ],
   "source": [
    "P_AMY_giv_Z"
   ]
  },
  {
   "cell_type": "code",
   "execution_count": 7,
   "metadata": {},
   "outputs": [],
   "source": [
    "# observable_probs = np.arange(cardZ * cardA * cardM * cardY)\n",
    "# observable_probs = observable_probs / observable_probs.sum()\n",
    "# observable_probs = observable_probs.reshape(cardZ, cardA, cardM, cardY)\n",
    "\n",
    "\n",
    "# P_ZAMY = {}\n",
    "# # defining a p distribution based on cardinality\n",
    "# for z, a, m, y in itertools.product(range(cardZ), range(cardA), range(cardM), range(cardY)):    \n",
    "#     prob = observable_probs[z, a, m, y]\n",
    "#     P_ZAMY[(z, a, m, y)] = prob\n",
    "\n",
    "# # given distribution P_ZAMY get P_AMY|Z:\n",
    "# P_AMY_giv_Z = {}\n",
    "# for z, a, m, y in itertools.product(range(cardZ), range(cardA), range(cardM), range(cardY)):    \n",
    "#     prob = P_ZAMY[(z, a, m, y)]\n",
    "#     P_AMY_giv_Z[(z, a, m, y)] = prob / observable_probs[z, :, :, :].sum()\n",
    "\n",
    "# print(sum(P_ZAMY.values()) == 1)"
   ]
  },
  {
   "cell_type": "markdown",
   "metadata": {},
   "source": [
    "## consistency requirement"
   ]
  },
  {
   "cell_type": "markdown",
   "metadata": {},
   "source": [
    "declaring mvar $Q(A_{Z=0}= , A_{Z=1} = , M_{A=0} = , M_{A=1}, Y_{M=0} = , Y_{M=1})$:"
   ]
  },
  {
   "cell_type": "code",
   "execution_count": 8,
   "metadata": {},
   "outputs": [],
   "source": [
    "Q_AzAz_MaMa_YmYm = model.addMVar(shape = (cardA, cardA, cardM, cardM, cardY, cardY), \n",
    "                             vtype=GRB.CONTINUOUS, name=\"Q_(A0,A1,M0,M1,Y0,Y1)\", lb=0, ub=1)"
   ]
  },
  {
   "cell_type": "code",
   "execution_count": 9,
   "metadata": {},
   "outputs": [],
   "source": [
    "# used to print constraint names in a readable way\n",
    "\n",
    "# works by listing symbolic variable name for the variables that are iterated through in the same for all possibilities,\n",
    "# and an actual value for the fixed variables\n",
    "def print_pretty(a, m, y, z):\n",
    "    if z == 0:\n",
    "        posA = 0\n",
    "    elif z == 1:\n",
    "        posA = 1\n",
    "    \n",
    "    if a == 0:\n",
    "        posM = 2\n",
    "    elif a == 1:\n",
    "        posM = 3\n",
    "\n",
    "    if m == 0:\n",
    "        posY = 4\n",
    "    elif m == 1:\n",
    "        posY = 5\n",
    "\n",
    "    lst = ['a', 'a', 'm', 'm', 'y', 'y']\n",
    "    # lst = [':', ':', ':', ':', ':', ':']\n",
    "    lst[posA] = a\n",
    "    lst[posM] = m\n",
    "    lst[posY] = y\n",
    "\n",
    "    return lst\n",
    "\n",
    "# m.addConstr(P_AMY_giv_Z[(0, 1, 0, 1)] == sum([Q_AzAz_MaMa_YmYm[:,0,1,:,:,0]]).sum())    "
   ]
  },
  {
   "cell_type": "code",
   "execution_count": 10,
   "metadata": {},
   "outputs": [],
   "source": [
    "# coordinate finder used for P(a,m,y|z) = Σ_(a',m',y')[Q_(a,a',m,m',y,y')]\n",
    "def Q_pos_from_P(a, m, y, z):\n",
    "    if z == 0:\n",
    "        posA0 = a\n",
    "        posA1 = slice(None)  # Represents ':'\n",
    "    else:  # z == 1\n",
    "        posA0 = slice(None)\n",
    "        posA1 = a\n",
    "    \n",
    "    if a==0:\n",
    "        posM0 = m\n",
    "        posM1 = slice(None)\n",
    "    elif a==1:\n",
    "        posM0 = slice(None)\n",
    "        posM1 = m\n",
    "\n",
    "    if m==0:\n",
    "        posY0 = y\n",
    "        posY1 = slice(None)\n",
    "    elif m==1:\n",
    "        posY0 = slice(None)\n",
    "        posY1 = y\n",
    "\n",
    "    # Creating a tuple that properly represents the slicing\n",
    "    return (posA0, posA1, posM0, posM1, posY0, posY1)"
   ]
  },
  {
   "cell_type": "markdown",
   "metadata": {},
   "source": [
    "adding constraints:  \n",
    "$P(A=a, M=m, Y=y | Z = z) = \\sum Q(A_{Z=0}= , A_{Z=1} = , M_{A=0} = , M_{A=1}, Y_{M=0} = , Y_{M=1})$"
   ]
  },
  {
   "cell_type": "code",
   "execution_count": 11,
   "metadata": {},
   "outputs": [],
   "source": [
    "# consistency constraints\n",
    "for a, m, y, z in itertools.product(range(cardA), range(cardM), range(cardY), range(cardZ)):\n",
    "    model.addConstr( Q_AzAz_MaMa_YmYm[Q_pos_from_P(a,m,y,z)].sum() == P_AMY_giv_Z[(a,m,y,z)], name=f\"{P_AMY_giv_Z[(a,m,y,z)]} = P_AMY|Z[{a,m,y}|{z}] = ΣQ{print_pretty(a,m,y,z)}\")"
   ]
  },
  {
   "cell_type": "code",
   "execution_count": 12,
   "metadata": {},
   "outputs": [
    {
     "data": {
      "text/plain": [
       "[<gurobi.Constr 0.336 = P_AMY|Z[(0, 0, 0)|0] = ΣQ[0, 'a', 0, 'm', 0, 'y']>,\n",
       " <gurobi.Constr 0.144 = P_AMY|Z[(0, 0, 0)|1] = ΣQ['a', 0, 0, 'm', 0, 'y']>,\n",
       " <gurobi.Constr 0.084 = P_AMY|Z[(0, 0, 1)|0] = ΣQ[0, 'a', 0, 'm', 1, 'y']>,\n",
       " <gurobi.Constr 0.036 = P_AMY|Z[(0, 0, 1)|1] = ΣQ['a', 0, 0, 'm', 1, 'y']>,\n",
       " <gurobi.Constr 0.056 = P_AMY|Z[(0, 1, 0)|0] = ΣQ[0, 'a', 1, 'm', 'y', 0]>,\n",
       " <gurobi.Constr 0.024 = P_AMY|Z[(0, 1, 0)|1] = ΣQ['a', 0, 1, 'm', 'y', 0]>,\n",
       " <gurobi.Constr 0.224 = P_AMY|Z[(0, 1, 1)|0] = ΣQ[0, 'a', 1, 'm', 'y', 1]>,\n",
       " <gurobi.Constr 0.096 = P_AMY|Z[(0, 1, 1)|1] = ΣQ['a', 0, 1, 'm', 'y', 1]>,\n",
       " <gurobi.Constr 0.096 = P_AMY|Z[(1, 0, 0)|0] = ΣQ[1, 'a', 'm', 0, 0, 'y']>,\n",
       " <gurobi.Constr 0.224 = P_AMY|Z[(1, 0, 0)|1] = ΣQ['a', 1, 'm', 0, 0, 'y']>,\n",
       " <gurobi.Constr 0.024 = P_AMY|Z[(1, 0, 1)|0] = ΣQ[1, 'a', 'm', 0, 1, 'y']>,\n",
       " <gurobi.Constr 0.056 = P_AMY|Z[(1, 0, 1)|1] = ΣQ['a', 1, 'm', 0, 1, 'y']>,\n",
       " <gurobi.Constr 0.036 = P_AMY|Z[(1, 1, 0)|0] = ΣQ[1, 'a', 'm', 1, 'y', 0]>,\n",
       " <gurobi.Constr 0.084 = P_AMY|Z[(1, 1, 0)|1] = ΣQ['a', 1, 'm', 1, 'y', 0]>,\n",
       " <gurobi.Constr 0.144 = P_AMY|Z[(1, 1, 1)|0] = ΣQ[1, 'a', 'm', 1, 'y', 1]>,\n",
       " <gurobi.Constr 0.336 = P_AMY|Z[(1, 1, 1)|1] = ΣQ['a', 1, 'm', 1, 'y', 1]>]"
      ]
     },
     "execution_count": 12,
     "metadata": {},
     "output_type": "execute_result"
    }
   ],
   "source": [
    "model.update()\n",
    "model.getConstrs()"
   ]
  },
  {
   "cell_type": "markdown",
   "metadata": {},
   "source": [
    "## Do cond"
   ]
  },
  {
   "cell_type": "markdown",
   "metadata": {},
   "source": [
    "$P_{Y,M|\\text{do}(A)}(y,m|\\text{do}(a)) = Q(Y_{M=m}=y, M_{A=a}=m)$ from $Q(A_0,A_1,M_0,M_1,Y_0,Y_1)$"
   ]
  },
  {
   "cell_type": "markdown",
   "metadata": {},
   "source": [
    "done by:\n",
    "$Q(Y_{M=m}=y, M_{A=a}=m) = \\sum_{A_0, A_1, M_{A \\not = a}, Y_{M \\not = m}} Q(A_0,A_1,M_0,M_1,Y_0,Y_1)$ with given fixed values $(y,m,a)$"
   ]
  },
  {
   "cell_type": "code",
   "execution_count": 13,
   "metadata": {},
   "outputs": [],
   "source": [
    "# coordinate finder used for P_YM_doA[y,m,a] = Σ_(A0, A1, M_A\\not=a, Y_M\\not=m)[Q_(a,a',m,m',y,y')]\n",
    "def do_pos(y,m,a):\n",
    "    # sliced means iterate through in the sum\n",
    "    \n",
    "    # keep M such that M_A=m, slice other\n",
    "    if a == 0:\n",
    "        posM0 = m\n",
    "        posM1 = slice(None)\n",
    "    elif a == 1:    \n",
    "        posM0 = slice(None)\n",
    "        posM1 = m\n",
    "\n",
    "\n",
    "    if m == 0:\n",
    "        posY0 = y\n",
    "        posY1 = slice(None)\n",
    "    elif m == 1:\n",
    "        posY0 = slice(None)\n",
    "        posY1 = y\n",
    "\n",
    "\n",
    "    # Creating a tuple that properly represents the slicing\n",
    "    return (slice(None), slice(None), posM0, posM1, posY0, posY1) \n",
    "\n",
    "# Confirming:\n",
    "# str(Q_AzAz_MaMa_YmYm[:, :, :, 1, :, 0]) == str(Q_AzAz_MaMa_YmYm[do_pos(0,1,1)])\n",
    "# str(Q_AzAz_MaMa_YmYm[:, :, 0, :, 1, :]) == str(Q_AzAz_MaMa_YmYm[do_pos(1,0,0)])\n",
    "\n",
    "\n",
    "# works by listing symbolic variable name for the variables that are iterated through in the same for all possibilities,\n",
    "# and an actual value for the fixed variables\n",
    "def print_pretty2(y,m,a):   \n",
    "    if a == 0:\n",
    "        posM = 2\n",
    "    elif a == 1:\n",
    "        posM = 3\n",
    "\n",
    "    if m == 0:\n",
    "        posY = 4\n",
    "    elif m == 1:\n",
    "        posY = 5\n",
    "\n",
    "    lst = ['a0', 'a1', 'm', 'm', 'y', 'y']\n",
    "    lst[posM] = m\n",
    "    lst[posY] = y\n",
    "\n",
    "    return lst"
   ]
  },
  {
   "cell_type": "markdown",
   "metadata": {},
   "source": [
    "do conditionals $P_{Y,M|\\text{do}(A)}$ and $P_{Y|\\text{do}(A)}$ from $Q(A_0,A_1,M_0,M_1,Y_0,Y_1)$:"
   ]
  },
  {
   "cell_type": "code",
   "execution_count": 14,
   "metadata": {},
   "outputs": [],
   "source": [
    "# do conditional P_YM_doA from Q_AzAz_MaMa_YmYm\n",
    "def P_YM_doA(y, m, a):\n",
    "    return Q_AzAz_MaMa_YmYm[do_pos(y,m,a)].sum() # the do_pos slices AzAz out and choses Ma based on a\n",
    "\n",
    "def P_Y_doA(y, a):\n",
    "    # P_YM_doA(y, 0, a) + P_YM_doA(y, 1, a)\n",
    "    return (Q_AzAz_MaMa_YmYm[do_pos(y,0,a)] + Q_AzAz_MaMa_YmYm[do_pos(y,1,a)]).sum().item()"
   ]
  },
  {
   "cell_type": "markdown",
   "metadata": {},
   "source": [
    "## Seperability"
   ]
  },
  {
   "cell_type": "markdown",
   "metadata": {},
   "source": [
    "now need $Q(A_0, A_1, M_0, M_1) = Q(A_0, A_1) Q(M_0, M_1)$"
   ]
  },
  {
   "cell_type": "markdown",
   "metadata": {},
   "source": [
    "$Q(A_0, A_1, M_0, M_1) = \\sum_{Y_0, Y_1} Q(A_0,A_1,M_0,M_1,Y_0,Y_1)$  \n",
    "$Q(A_0, A_1) = \\sum_{M_0,M_1,Y_0,Y_1} Q(A_0,A_1,M_0,M_1,Y_0,Y_1)$  \n",
    "$Q(M_0, M_1) = \\sum_{A_0,A_1,Y_0,Y_1} Q(A_0,A_1,M_0,M_1,Y_0,Y_1)$"
   ]
  },
  {
   "cell_type": "code",
   "execution_count": 15,
   "metadata": {},
   "outputs": [],
   "source": [
    "def Q_A0_A1_M0_M1(A0, A1, M0, M1):\n",
    "    return Q_AzAz_MaMa_YmYm[A0, A1, M0, M1, :, :].sum().item()\n",
    "\n",
    "def Q_A0_A1(A0, A1):\n",
    "    return Q_AzAz_MaMa_YmYm[A0, A1, :, :, :, :].sum().item()\n",
    "\n",
    "def Q_M0_M1(M0, M1):\n",
    "    return Q_AzAz_MaMa_YmYm[:, :, M0, M1, :, :].sum().item()"
   ]
  },
  {
   "cell_type": "code",
   "execution_count": 16,
   "metadata": {},
   "outputs": [],
   "source": [
    "# seperability constraints\n",
    "for a0, a1, m0, m1 in itertools.product(range(cardA), range(cardA), range(cardM), range(cardM)):\n",
    "    # MQuadExpr \n",
    "    model.addConstr(Q_A0_A1_M0_M1(a0, a1, m0, m1) == Q_A0_A1(a0, a1)*Q_M0_M1(m0, m1), name=f\"Q_A0_A1_M0_M1[{a0},{a1},{m0},{m1}] = Q_A0_A1[{a0},{a1}] * Q_M0_M1[{m0},{m1}]\")\n",
    "\n",
    "model.update()"
   ]
  },
  {
   "cell_type": "markdown",
   "metadata": {},
   "source": [
    "$P_{Y\\text{do}A}(a,y) == P_{Y,M_\\text{do}A}(y,0,a) + P_{Y,M_\\text{do}A}(y,1,a)$ all defined from $Q_{..}$"
   ]
  },
  {
   "cell_type": "code",
   "execution_count": 17,
   "metadata": {},
   "outputs": [],
   "source": [
    "for a,y in np.ndindex(cardA, cardY):\n",
    "    model.addConstr(P_Y_doA(a,y) == P_YM_doA(y,0,a) + P_YM_doA(y,1,a), name=f\"P_Y_doA[{a},{y}] = P_YM_doA[{y},0,{a}] + P_YM_doA[{y},1,{a}]\")\n",
    "\n",
    "model.update()"
   ]
  },
  {
   "cell_type": "markdown",
   "metadata": {},
   "source": [
    "## Model Constraints:\n",
    "\n",
    "Linear:"
   ]
  },
  {
   "cell_type": "code",
   "execution_count": 18,
   "metadata": {},
   "outputs": [
    {
     "data": {
      "text/plain": [
       "[<gurobi.Constr 0.336 = P_AMY|Z[(0, 0, 0)|0] = ΣQ[0, 'a', 0, 'm', 0, 'y']>,\n",
       " <gurobi.Constr 0.144 = P_AMY|Z[(0, 0, 0)|1] = ΣQ['a', 0, 0, 'm', 0, 'y']>,\n",
       " <gurobi.Constr 0.084 = P_AMY|Z[(0, 0, 1)|0] = ΣQ[0, 'a', 0, 'm', 1, 'y']>,\n",
       " <gurobi.Constr 0.036 = P_AMY|Z[(0, 0, 1)|1] = ΣQ['a', 0, 0, 'm', 1, 'y']>,\n",
       " <gurobi.Constr 0.056 = P_AMY|Z[(0, 1, 0)|0] = ΣQ[0, 'a', 1, 'm', 'y', 0]>,\n",
       " <gurobi.Constr 0.024 = P_AMY|Z[(0, 1, 0)|1] = ΣQ['a', 0, 1, 'm', 'y', 0]>,\n",
       " <gurobi.Constr 0.224 = P_AMY|Z[(0, 1, 1)|0] = ΣQ[0, 'a', 1, 'm', 'y', 1]>,\n",
       " <gurobi.Constr 0.096 = P_AMY|Z[(0, 1, 1)|1] = ΣQ['a', 0, 1, 'm', 'y', 1]>,\n",
       " <gurobi.Constr 0.096 = P_AMY|Z[(1, 0, 0)|0] = ΣQ[1, 'a', 'm', 0, 0, 'y']>,\n",
       " <gurobi.Constr 0.224 = P_AMY|Z[(1, 0, 0)|1] = ΣQ['a', 1, 'm', 0, 0, 'y']>,\n",
       " <gurobi.Constr 0.024 = P_AMY|Z[(1, 0, 1)|0] = ΣQ[1, 'a', 'm', 0, 1, 'y']>,\n",
       " <gurobi.Constr 0.056 = P_AMY|Z[(1, 0, 1)|1] = ΣQ['a', 1, 'm', 0, 1, 'y']>,\n",
       " <gurobi.Constr 0.036 = P_AMY|Z[(1, 1, 0)|0] = ΣQ[1, 'a', 'm', 1, 'y', 0]>,\n",
       " <gurobi.Constr 0.084 = P_AMY|Z[(1, 1, 0)|1] = ΣQ['a', 1, 'm', 1, 'y', 0]>,\n",
       " <gurobi.Constr 0.144 = P_AMY|Z[(1, 1, 1)|0] = ΣQ[1, 'a', 'm', 1, 'y', 1]>,\n",
       " <gurobi.Constr 0.336 = P_AMY|Z[(1, 1, 1)|1] = ΣQ['a', 1, 'm', 1, 'y', 1]>,\n",
       " <gurobi.Constr P_Y_doA[0,0] = P_YM_doA[0,0,0] + P_YM_doA[0,1,0]>,\n",
       " <gurobi.Constr P_Y_doA[0,1] = P_YM_doA[1,0,0] + P_YM_doA[1,1,0]>,\n",
       " <gurobi.Constr P_Y_doA[1,0] = P_YM_doA[0,0,1] + P_YM_doA[0,1,1]>,\n",
       " <gurobi.Constr P_Y_doA[1,1] = P_YM_doA[1,0,1] + P_YM_doA[1,1,1]>]"
      ]
     },
     "execution_count": 18,
     "metadata": {},
     "output_type": "execute_result"
    }
   ],
   "source": [
    "model.getConstrs()"
   ]
  },
  {
   "cell_type": "markdown",
   "metadata": {},
   "source": [
    "Quadratic:"
   ]
  },
  {
   "cell_type": "code",
   "execution_count": 19,
   "metadata": {},
   "outputs": [
    {
     "data": {
      "text/plain": [
       "[<gurobi.QConstr Q_A0_A1_M0_M1[0,0,0,0] = Q_A0_A1[0,0] * Q_M0_M1[0,0]>,\n",
       " <gurobi.QConstr Q_A0_A1_M0_M1[0,0,0,1] = Q_A0_A1[0,0] * Q_M0_M1[0,1]>,\n",
       " <gurobi.QConstr Q_A0_A1_M0_M1[0,0,1,0] = Q_A0_A1[0,0] * Q_M0_M1[1,0]>,\n",
       " <gurobi.QConstr Q_A0_A1_M0_M1[0,0,1,1] = Q_A0_A1[0,0] * Q_M0_M1[1,1]>,\n",
       " <gurobi.QConstr Q_A0_A1_M0_M1[0,1,0,0] = Q_A0_A1[0,1] * Q_M0_M1[0,0]>,\n",
       " <gurobi.QConstr Q_A0_A1_M0_M1[0,1,0,1] = Q_A0_A1[0,1] * Q_M0_M1[0,1]>,\n",
       " <gurobi.QConstr Q_A0_A1_M0_M1[0,1,1,0] = Q_A0_A1[0,1] * Q_M0_M1[1,0]>,\n",
       " <gurobi.QConstr Q_A0_A1_M0_M1[0,1,1,1] = Q_A0_A1[0,1] * Q_M0_M1[1,1]>,\n",
       " <gurobi.QConstr Q_A0_A1_M0_M1[1,0,0,0] = Q_A0_A1[1,0] * Q_M0_M1[0,0]>,\n",
       " <gurobi.QConstr Q_A0_A1_M0_M1[1,0,0,1] = Q_A0_A1[1,0] * Q_M0_M1[0,1]>,\n",
       " <gurobi.QConstr Q_A0_A1_M0_M1[1,0,1,0] = Q_A0_A1[1,0] * Q_M0_M1[1,0]>,\n",
       " <gurobi.QConstr Q_A0_A1_M0_M1[1,0,1,1] = Q_A0_A1[1,0] * Q_M0_M1[1,1]>,\n",
       " <gurobi.QConstr Q_A0_A1_M0_M1[1,1,0,0] = Q_A0_A1[1,1] * Q_M0_M1[0,0]>,\n",
       " <gurobi.QConstr Q_A0_A1_M0_M1[1,1,0,1] = Q_A0_A1[1,1] * Q_M0_M1[0,1]>,\n",
       " <gurobi.QConstr Q_A0_A1_M0_M1[1,1,1,0] = Q_A0_A1[1,1] * Q_M0_M1[1,0]>,\n",
       " <gurobi.QConstr Q_A0_A1_M0_M1[1,1,1,1] = Q_A0_A1[1,1] * Q_M0_M1[1,1]>]"
      ]
     },
     "execution_count": 19,
     "metadata": {},
     "output_type": "execute_result"
    }
   ],
   "source": [
    "model.getQConstrs()"
   ]
  },
  {
   "cell_type": "markdown",
   "metadata": {},
   "source": [
    "## Execution:"
   ]
  },
  {
   "cell_type": "code",
   "execution_count": 20,
   "metadata": {},
   "outputs": [],
   "source": [
    "(y,b) = (1,1)"
   ]
  },
  {
   "cell_type": "code",
   "execution_count": 21,
   "metadata": {},
   "outputs": [],
   "source": [
    "%%capture\n",
    "\n",
    "objective = P_Y_doA(y,b)\n",
    "model.setObjective(objective, sense=GRB.MINIMIZE)\n",
    "model.optimize()\n",
    "\n",
    "minimal = P_Y_doA(y,b).getValue()\n",
    "\n",
    "\n",
    "objective = P_Y_doA(y,b)\n",
    "model.setObjective(objective, sense=GRB.MAXIMIZE)\n",
    "model.optimize()\n",
    "\n",
    "maximal = P_Y_doA(y,b).getValue()"
   ]
  },
  {
   "cell_type": "code",
   "execution_count": 22,
   "metadata": {},
   "outputs": [
    {
     "name": "stdout",
     "output_type": "stream",
     "text": [
      "min: 0.3919999960001179 \n",
      "max: 0.692 \n",
      "range: 0.300000003999882\n"
     ]
    }
   ],
   "source": [
    "print(\"min:\", minimal, \"\\nmax:\", maximal, \"\\nrange:\", maximal-minimal)"
   ]
  },
  {
   "cell_type": "code",
   "execution_count": 23,
   "metadata": {},
   "outputs": [],
   "source": [
    "# model.computeIIS()\n",
    "# model.write(\"model.ilp\")"
   ]
  }
 ],
 "metadata": {
  "kernelspec": {
   "display_name": "Python 3",
   "language": "python",
   "name": "python3"
  },
  "language_info": {
   "codemirror_mode": {
    "name": "ipython",
    "version": 3
   },
   "file_extension": ".py",
   "mimetype": "text/x-python",
   "name": "python",
   "nbconvert_exporter": "python",
   "pygments_lexer": "ipython3",
   "version": "3.11.7"
  }
 },
 "nbformat": 4,
 "nbformat_minor": 2
}
