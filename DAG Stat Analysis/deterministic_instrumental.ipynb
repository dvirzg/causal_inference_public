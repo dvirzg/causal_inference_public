{
 "cells": [
  {
   "cell_type": "code",
   "execution_count": 1,
   "metadata": {},
   "outputs": [],
   "source": [
    "import numpy as np\n",
    "import itertools\n",
    "import sympy as sp\n",
    "import gurobipy as gp\n",
    "from gurobipy import GRB"
   ]
  },
  {
   "cell_type": "code",
   "execution_count": 2,
   "metadata": {},
   "outputs": [],
   "source": [
    "# Define the four functions\n",
    "\n",
    "def identity(x):\n",
    "    return x\n",
    "\n",
    "def swap(x):\n",
    "    return 1-x\n",
    "\n",
    "def reset0(_):\n",
    "    return 0\n",
    "\n",
    "def reset1(_):\n",
    "    return 1\n",
    "\n",
    "base_strategies = [identity, swap, reset0, reset1]\n",
    "all_strategies = list(itertools.product(base_strategies, repeat=2))"
   ]
  },
  {
   "cell_type": "code",
   "execution_count": 3,
   "metadata": {},
   "outputs": [],
   "source": [
    "#generating possible deterministic P_XY|ZU values for all given u\n",
    "def generate_top(u):\n",
    "    f_u, g_u = all_strategies[u]\n",
    "    #print(f\"f_{u} = {f_u.__name__} \\ng_{u} = {g_u.__name__}\\n\")\n",
    "\n",
    "    def inner_entry(z):\n",
    "        inner = np.zeros((2,2), dtype=int)\n",
    "        x = f_u(z)\n",
    "        y = g_u(x)\n",
    "        inner[y, x] = 1\n",
    "\n",
    "        return inner\n",
    "\n",
    "    outer_level = np.array([inner_entry(0), inner_entry(1)])\n",
    "    \n",
    "    return outer_level"
   ]
  },
  {
   "cell_type": "code",
   "execution_count": 4,
   "metadata": {},
   "outputs": [
    {
     "data": {
      "text/plain": [
       "array([[[1, 0],\n",
       "        [0, 0]],\n",
       "\n",
       "       [[0, 0],\n",
       "        [0, 1]]])"
      ]
     },
     "execution_count": 4,
     "metadata": {},
     "output_type": "execute_result"
    }
   ],
   "source": [
    "generate_top(0)"
   ]
  },
  {
   "cell_type": "code",
   "execution_count": 5,
   "metadata": {},
   "outputs": [
    {
     "name": "stdout",
     "output_type": "stream",
     "text": [
      "Set parameter Username\n",
      "Academic license - for non-commercial use only - expires 2025-01-09\n"
     ]
    }
   ],
   "source": [
    "# declaring Gurobi variable W_i w/ i in card_u, and declaring v\n",
    "m = gp.Model()\n",
    "W = m.addVars(16, lb=0, ub=1, vtype=GRB.CONTINUOUS, name=\"W\")\n",
    "v = m.addVar(lb=0, ub=1, vtype=GRB.CONTINUOUS, name=\"v\")\n",
    "m.update()"
   ]
  },
  {
   "cell_type": "code",
   "execution_count": 6,
   "metadata": {},
   "outputs": [],
   "source": [
    "# sample compatible distribution\n",
    "\n",
    "prob_dist = {\n",
    "    (0, 0, 0): 0.0, \n",
    "    (0, 0, 1): 0.03571428571428571, \n",
    "    (0, 1, 0): 0.07142857142857142, \n",
    "    (0, 1, 1): 0.10714285714285714, \n",
    "    (1, 0, 0): 0.14285714285714285, \n",
    "    (1, 0, 1): 0.17857142857142858, \n",
    "    (1, 1, 0): 0.21428571428571427, \n",
    "    (1, 1, 1): 0.25}\n",
    "\n",
    "cardX, cardY, cardZ = 2, 2, 2\n",
    "\n",
    "def P_Z(z):\n",
    "    return sum([prob_dist[(z, X, Y)] for X in range(cardX) for Y in range(cardY)])\n",
    "def P_ZXY(z, x, y):\n",
    "    return prob_dist[(z, x, y)]\n",
    "def P_XY_given_Z(x,y,z):\n",
    "    return P_ZXY(z,x,y)/P_Z(z)\n"
   ]
  },
  {
   "cell_type": "code",
   "execution_count": 7,
   "metadata": {},
   "outputs": [],
   "source": [
    "internal_gurobi_expr = sum([W[i]*generate_top(i) for i in range(16)])"
   ]
  },
  {
   "cell_type": "markdown",
   "metadata": {},
   "source": [
    "internal_gurobi_expr $[z,x,y]$  \n",
    "P_XY_giv_Z $(x,y,z)$"
   ]
  },
  {
   "cell_type": "markdown",
   "metadata": {},
   "source": [
    "Found summed strategies matrices for all U! (internal_gurobi_exp)"
   ]
  },
  {
   "cell_type": "markdown",
   "metadata": {},
   "source": [
    "## Gurobi Constraints"
   ]
  },
  {
   "cell_type": "code",
   "execution_count": 8,
   "metadata": {},
   "outputs": [],
   "source": [
    "# Add the constraint to the model\n",
    "m.addConstr(W.sum() == 1, \"sum(W_i) == 1\")\n",
    "for z, x, y in itertools.product(range(2), repeat=3):\n",
    "    m.addConstr(internal_gurobi_expr[z,x,y] == P_XY_given_Z(x,y,z), f\"P({x},{y}|{z}) == {internal_gurobi_expr[z,x,y]} == {P_XY_given_Z(x,y,z)}\")\n",
    "\n",
    "\n",
    "# for cons in m.getConstrs():\n",
    "#     print(cons)\n",
    "\n",
    "# reset gurobi constraints\n",
    "# m.remove(m.getConstrs())\n",
    "\n",
    "m.update()"
   ]
  },
  {
   "cell_type": "code",
   "execution_count": 9,
   "metadata": {},
   "outputs": [
    {
     "name": "stdout",
     "output_type": "stream",
     "text": [
      "Gurobi Optimizer version 11.0.1 build v11.0.1rc0 (win64 - Windows 11.0 (22631.2))\n",
      "\n",
      "CPU model: 11th Gen Intel(R) Core(TM) i7-11800H @ 2.30GHz, instruction set [SSE2|AVX|AVX2|AVX512]\n",
      "Thread count: 8 physical cores, 16 logical processors, using up to 16 threads\n",
      "\n",
      "Optimize a model with 9 rows, 17 columns and 48 nonzeros\n",
      "Model fingerprint: 0xd7978c91\n",
      "Coefficient statistics:\n",
      "  Matrix range     [1e+00, 1e+00]\n",
      "  Objective range  [1e+00, 1e+00]\n",
      "  Bounds range     [1e+00, 1e+00]\n",
      "  RHS range        [2e-01, 1e+00]\n",
      "Presolve removed 9 rows and 17 columns\n",
      "Presolve time: 0.00s\n",
      "Presolve: All rows and columns removed\n",
      "Iteration    Objective       Primal Inf.    Dual Inf.      Time\n",
      "       0    1.0000000e+00   0.000000e+00   0.000000e+00      0s\n",
      "\n",
      "Solved in 0 iterations and 0.00 seconds (0.00 work units)\n",
      "Optimal objective  1.000000000e+00\n"
     ]
    }
   ],
   "source": [
    "# maximum v?\n",
    "# m.setObjective(v, GRB.MAXIMIZE)\n",
    "\n",
    "obj = sum([W[i] for i in range(16)])\n",
    "m.setObjective(obj, GRB.MAXIMIZE)\n",
    "m.optimize()"
   ]
  },
  {
   "cell_type": "code",
   "execution_count": 10,
   "metadata": {},
   "outputs": [
    {
     "name": "stdout",
     "output_type": "stream",
     "text": [
      "W_0 = 0.0\n",
      "W_1 = 0.2272727272727273\n",
      "W_2 = 0.0\n",
      "W_3 = 0.10606060606060602\n",
      "W_4 = 0.18181818181818182\n",
      "W_5 = 0.16666666666666674\n",
      "W_6 = 0.0\n",
      "W_7 = 0.10606060606060602\n",
      "W_8 = 0.0\n",
      "W_9 = 0.0\n",
      "W_10 = 0.0\n",
      "W_11 = 0.0\n",
      "W_12 = 0.21212121212121215\n",
      "W_13 = 0.0\n",
      "W_14 = 0.0\n",
      "W_15 = 0.0\n"
     ]
    }
   ],
   "source": [
    "for i in range(16):\n",
    "    print(f\"W_{i} = {W[i].x}\")"
   ]
  }
 ],
 "metadata": {
  "kernelspec": {
   "display_name": "Python 3",
   "language": "python",
   "name": "python3"
  },
  "language_info": {
   "codemirror_mode": {
    "name": "ipython",
    "version": 3
   },
   "file_extension": ".py",
   "mimetype": "text/x-python",
   "name": "python",
   "nbconvert_exporter": "python",
   "pygments_lexer": "ipython3",
   "version": "3.10.4"
  }
 },
 "nbformat": 4,
 "nbformat_minor": 2
}
