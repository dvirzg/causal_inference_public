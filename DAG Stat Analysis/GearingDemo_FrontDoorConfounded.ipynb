{
 "cells": [
  {
   "cell_type": "code",
   "execution_count": 1,
   "metadata": {},
   "outputs": [],
   "source": [
    "import numpy as np\n",
    "import gurobipy as gp\n",
    "from gurobipy import GRB\n",
    "\n",
    "(cardZ, cardA, cardM, cardY) = (2,2,2,2)"
   ]
  },
  {
   "cell_type": "markdown",
   "metadata": {},
   "source": [
    "Here needs $P_{ZAMY}$"
   ]
  },
  {
   "cell_type": "code",
   "execution_count": 2,
   "metadata": {},
   "outputs": [],
   "source": [
    "P_ZAMY = {(0, 0, 0, 0): 0.336, (0, 0, 1, 0): 0.084, (0, 1, 0, 0): 0.056, (0, 1, 1, 0): 0.224, (1, 0, 0, 0): 0.096, (1, 0, 1, 0): 0.024, (1, 1, 0, 0): 0.036, (1, 1, 1, 0): 0.144, (0, 0, 0, 1): 0.144, (0, 0, 1, 1): 0.036, (0, 1, 0, 1): 0.024, (0, 1, 1, 1): 0.096, (1, 0, 0, 1): 0.224, (1, 0, 1, 1): 0.056, (1, 1, 0, 1): 0.084, (1, 1, 1, 1): 0.336}\n",
    "\n",
    "\n",
    "P_obs_dict = P_ZAMY"
   ]
  },
  {
   "cell_type": "code",
   "execution_count": 3,
   "metadata": {},
   "outputs": [],
   "source": [
    "# get P_obs (P_ZAMY) as a numpy array with coordinates [z,a,m,y]\n",
    "P_obs = np.array([[[[P_obs_dict[(z,a,m,y)] for y in range(cardY)] for m in range(cardM)] for a in range(cardA)] for z in range(cardZ)])"
   ]
  },
  {
   "cell_type": "code",
   "execution_count": 4,
   "metadata": {},
   "outputs": [],
   "source": [
    "A_from_Z_strategies = np.vstack(tuple(np.ndindex(tuple(np.broadcast_to(cardA, cardZ)))))\n",
    "cardUAY = len(A_from_Z_strategies)\n",
    "\n",
    "M_from_A_strategies = np.vstack(tuple(np.ndindex(tuple(np.broadcast_to(cardM, cardA)))))\n",
    "\n",
    "Y_from_M_and_UAY_strategies = np.vstack(tuple(np.ndindex(tuple(np.broadcast_to(cardY, cardM*cardUAY)))))\n",
    "Y_from_M_and_UAY_strategies = Y_from_M_and_UAY_strategies.reshape((-1, cardM, cardUAY))\n",
    "\n",
    "shapeUMY = (len(M_from_A_strategies), len(Y_from_M_and_UAY_strategies))"
   ]
  },
  {
   "cell_type": "code",
   "execution_count": 5,
   "metadata": {},
   "outputs": [
    {
     "name": "stdout",
     "output_type": "stream",
     "text": [
      "Set parameter Username\n",
      "Academic license - for non-commercial use only - expires 2025-01-09\n",
      "Set parameter NonConvex to value 2\n"
     ]
    }
   ],
   "source": [
    "# env = gp.Env(empty=True)\n",
    "# env.setParam('LogToConsole', False) # To supress output\n",
    "# env.start()\n",
    "m = gp.Model(\"qcp\")\n",
    "m.params.NonConvex = 2  # Using quadratic equality constraints.\n",
    "# m.params.LogFile = \"solver_output.txt\"\n",
    "# m.setParam('OptimalityTol', 0.01)\n",
    "\n",
    "\n",
    "W_UAY = m.addMVar(cardUAY, lb=0, name=\"u_AY\")\n",
    "m.addConstr(W_UAY.sum()==1)\n",
    "W_UMY = m.addMVar(shapeUMY, lb=0, name=\"u_MY\")\n",
    "m.addConstr(W_UMY.sum() == 1)\n",
    "observable_internal = gp.MQuadExpr.zeros((cardZ, cardA, cardM, cardY))\n",
    "do_internal = gp.MQuadExpr.zeros((cardA, cardY))\n",
    "m.update()"
   ]
  },
  {
   "cell_type": "code",
   "execution_count": 6,
   "metadata": {},
   "outputs": [],
   "source": [
    "for A_from_Z_idx, A_from_Z_strategy in enumerate(A_from_Z_strategies):\n",
    "    w_UAY = W_UAY[A_from_Z_idx].item()\n",
    "    UAY_val = A_from_Z_idx\n",
    "    for M_from_A_idx, M_from_A_strategy in enumerate(M_from_A_strategies):\n",
    "        for Y_from_M_and_UAY_idx, Y_from_M_and_UAY_strategy in enumerate(Y_from_M_and_UAY_strategies):\n",
    "            w_UMY = W_UMY[M_from_A_idx, Y_from_M_and_UAY_idx].item()\n",
    "            weight = w_UAY * w_UMY\n",
    "            for z in range(cardZ):\n",
    "                a_obs = A_from_Z_strategy[z]\n",
    "                m_obs = M_from_A_strategy[a_obs]\n",
    "                y_obs = Y_from_M_and_UAY_strategy[m_obs, UAY_val]\n",
    "                observable_internal[z, a_obs, m_obs, y_obs] += weight\n",
    "            for a_sharp in range(cardA):\n",
    "                m_do = M_from_A_strategy[a_sharp]\n",
    "                y_do = Y_from_M_and_UAY_strategy[m_do, UAY_val]\n",
    "                do_internal[a_sharp, y_do] += weight"
   ]
  },
  {
   "cell_type": "markdown",
   "metadata": {},
   "source": [
    "## Execute:"
   ]
  },
  {
   "cell_type": "code",
   "execution_count": 10,
   "metadata": {},
   "outputs": [],
   "source": [
    "(y,b) = (1,1)"
   ]
  },
  {
   "cell_type": "code",
   "execution_count": 12,
   "metadata": {},
   "outputs": [
    {
     "name": "stdout",
     "output_type": "stream",
     "text": [
      "Gurobi Optimizer version 11.0.0 build v11.0.0rc2 (win64 - Windows 11.0 (22621.2))\n",
      "\n",
      "CPU model: 11th Gen Intel(R) Core(TM) i7-11800H @ 2.30GHz, instruction set [SSE2|AVX|AVX2|AVX512]\n",
      "Thread count: 8 physical cores, 16 logical processors, using up to 16 threads\n",
      "\n",
      "Optimize a model with 2 rows, 1028 columns and 1028 nonzeros\n",
      "Model fingerprint: 0x271119d2\n",
      "Model has 2048 quadratic objective terms\n",
      "Model has 32 quadratic constraints\n",
      "Coefficient statistics:\n",
      "  Matrix range     [1e+00, 1e+00]\n",
      "  QMatrix range    [1e+00, 1e+00]\n",
      "  Objective range  [0e+00, 0e+00]\n",
      "  QObjective range [2e+00, 2e+00]\n",
      "  Bounds range     [0e+00, 0e+00]\n",
      "  RHS range        [1e+00, 1e+00]\n",
      "  QRHS range       [2e-02, 3e-01]\n"
     ]
    },
    {
     "name": "stdout",
     "output_type": "stream",
     "text": [
      "\n",
      "Continuous model is non-convex -- solving as a MIP\n",
      "\n",
      "\n",
      "MIP start from previous solve produced solution with objective 0.72 (1.26s)\n",
      "Loaded MIP start from previous solve with objective 0.72\n",
      "Processed MIP start in 1.25 seconds (1.58 work units)\n",
      "\n",
      "Presolve time: 0.02s\n",
      "Presolved: 16403 rows, 5125 columns, 43013 nonzeros\n",
      "Presolved model has 4096 bilinear constraint(s)\n",
      "Variable types: 5125 continuous, 0 integer (0 binary)\n",
      "\n",
      "Root relaxation: cutoff, 5 iterations, 0.01 seconds (0.00 work units)\n",
      "\n",
      "    Nodes    |    Current Node    |     Objective Bounds      |     Work\n",
      " Expl Unexpl |  Obj  Depth IntInf | Incumbent    BestBd   Gap | It/Node Time\n",
      "\n",
      "     0     0     cutoff    0         0.72000    0.72000  0.00%     -    1s\n",
      "\n",
      "Explored 1 nodes (5 simplex iterations) in 1.58 seconds (1.71 work units)\n",
      "Thread count was 16 (of 16 available processors)\n",
      "\n",
      "Solution count 1: 0.72 \n",
      "No other solutions better than 0.72\n",
      "\n",
      "Optimal solution found (tolerance 1.00e-04)\n",
      "Best objective 7.200000000000e-01, best bound 7.200000000000e-01, gap 0.0000%\n",
      "Gurobi Optimizer version 11.0.0 build v11.0.0rc2 (win64 - Windows 11.0 (22621.2))\n",
      "\n",
      "CPU model: 11th Gen Intel(R) Core(TM) i7-11800H @ 2.30GHz, instruction set [SSE2|AVX|AVX2|AVX512]\n",
      "Thread count: 8 physical cores, 16 logical processors, using up to 16 threads\n",
      "\n",
      "Optimize a model with 2 rows, 1028 columns and 1028 nonzeros\n",
      "Model fingerprint: 0x09fbdfd2\n",
      "Model has 2048 quadratic objective terms\n",
      "Model has 32 quadratic constraints\n",
      "Coefficient statistics:\n",
      "  Matrix range     [1e+00, 1e+00]\n",
      "  QMatrix range    [1e+00, 1e+00]\n",
      "  Objective range  [0e+00, 0e+00]\n",
      "  QObjective range [2e+00, 2e+00]\n",
      "  Bounds range     [0e+00, 0e+00]\n",
      "  RHS range        [1e+00, 1e+00]\n",
      "  QRHS range       [2e-02, 3e-01]\n",
      "\n",
      "Continuous model is non-convex -- solving as a MIP\n",
      "\n",
      "\n",
      "MIP start from previous solve produced solution with objective 0.42 (1.53s)\n",
      "Loaded MIP start from previous solve with objective 0.42\n",
      "Processed MIP start in 1.52 seconds (2.01 work units)\n",
      "\n",
      "Presolve time: 0.01s\n",
      "Presolved: 16403 rows, 5125 columns, 43013 nonzeros\n",
      "Presolved model has 4096 bilinear constraint(s)\n",
      "Variable types: 5125 continuous, 0 integer (0 binary)\n",
      "\n",
      "Root relaxation: cutoff, 92 iterations, 0.01 seconds (0.01 work units)\n",
      "\n",
      "    Nodes    |    Current Node    |     Objective Bounds      |     Work\n",
      " Expl Unexpl |  Obj  Depth IntInf | Incumbent    BestBd   Gap | It/Node Time\n",
      "\n",
      "     0     0     cutoff    0         0.42000    0.42000  0.00%     -    1s\n",
      "\n",
      "Explored 1 nodes (92 simplex iterations) in 1.85 seconds (2.14 work units)\n",
      "Thread count was 16 (of 16 available processors)\n",
      "\n",
      "Solution count 1: 0.42 \n",
      "\n",
      "Optimal solution found (tolerance 1.00e-04)\n",
      "Best objective 4.200000000000e-01, best bound 4.200000000000e-01, gap 0.0000%\n"
     ]
    }
   ],
   "source": [
    "#%%capture\n",
    "\n",
    "m.addConstr(P_obs == observable_internal)\n",
    "\n",
    "objective = do_internal[y,b]\n",
    "m.setObjective(objective, sense=GRB.MAXIMIZE)\n",
    "m.optimize()\n",
    "maximal = do_internal[y,b].getValue()\n",
    "\n",
    "\n",
    "objective = do_internal[y,b]\n",
    "m.setObjective(objective, sense=GRB.MINIMIZE)\n",
    "m.optimize()\n",
    "minimal = do_internal[y,b].getValue()"
   ]
  },
  {
   "cell_type": "code",
   "execution_count": 13,
   "metadata": {},
   "outputs": [
    {
     "name": "stdout",
     "output_type": "stream",
     "text": [
      "min: 0.41999999999999954 \n",
      "max: 0.7200000000000416 \n",
      "range: 0.30000000000004207\n"
     ]
    }
   ],
   "source": [
    "print(\"min:\", minimal, \"\\nmax:\", maximal, \"\\nrange:\", maximal-minimal)"
   ]
  }
 ],
 "metadata": {
  "kernelspec": {
   "display_name": "Python 3",
   "language": "python",
   "name": "python3"
  },
  "language_info": {
   "codemirror_mode": {
    "name": "ipython",
    "version": 3
   },
   "file_extension": ".py",
   "mimetype": "text/x-python",
   "name": "python",
   "nbconvert_exporter": "python",
   "pygments_lexer": "ipython3",
   "version": "3.10.4"
  }
 },
 "nbformat": 4,
 "nbformat_minor": 2
}
