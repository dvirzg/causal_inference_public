{
 "cells": [
  {
   "cell_type": "code",
   "execution_count": 1,
   "metadata": {},
   "outputs": [],
   "source": [
    "import gurobipy as gp\n",
    "from gurobipy import GRB\n",
    "import numpy as np\n",
    "import scipy.sparse as sp\n",
    "import sympy as sp\n",
    "import itertools\n",
    "\n",
    "#defining all 4 base strategies and all 16 possible combinations\n",
    "\n",
    "def identity(x):\n",
    "    return x\n",
    "\n",
    "def swap(x):\n",
    "    return 1-x\n",
    "\n",
    "def reset0(x):\n",
    "    return 0\n",
    "\n",
    "def reset1(x):\n",
    "    return 1\n",
    "\n",
    "base_strategies = [identity, swap, reset0, reset1]\n",
    "all_strategies = list(itertools.product(base_strategies, repeat=2))"
   ]
  },
  {
   "cell_type": "code",
   "execution_count": 2,
   "metadata": {},
   "outputs": [],
   "source": [
    "#generating possible deterministic P_XY|ZU values for all given u\n",
    "def generate_P_XY_giv_ZU(u):\n",
    "    f_u, g_u = all_strategies[u]\n",
    "    #print(f\"f_{u} = {f_u.__name__} \\ng_{u} = {g_u.__name__}\\n\")\n",
    "\n",
    "    def inner_entry(z):\n",
    "        inner = np.zeros((2,2), dtype=int)\n",
    "        x = f_u(z)\n",
    "        y = g_u(x)\n",
    "        inner[y, x] = 1\n",
    "\n",
    "        return inner\n",
    "\n",
    "    outer_level = np.array([inner_entry(0), inner_entry(1)])\n",
    "    \n",
    "    return outer_level\n",
    "\n",
    "\n",
    "#generating possible deterministic P_Y_do_X values for all given u\n",
    "def generate_P_Y_do_XU(u):\n",
    "    f_u, g_u = all_strategies[u]\n",
    "\n",
    "    do_values = np.zeros((2,2), dtype=int)\n",
    "    for x in range(2):\n",
    "        y = g_u(x)\n",
    "        do_values[y, x] = 1\n",
    "            \n",
    "    return do_values"
   ]
  },
  {
   "cell_type": "code",
   "execution_count": 3,
   "metadata": {},
   "outputs": [
    {
     "name": "stdout",
     "output_type": "stream",
     "text": [
      "Set parameter Username\n",
      "Academic license - for non-commercial use only - expires 2025-01-09\n"
     ]
    }
   ],
   "source": [
    "# creating model, setting an MVar for weights (propabilities of u), and getting the average weighted sum for P(XY|Z) and P(Y do X)\n",
    "\n",
    "m = gp.Model(\"m1\")\n",
    "w = m.addMVar(16, lb=0, name=\"P_u\")\n",
    "average_P_XY_giv_Z = sum([w[i]*generate_P_XY_giv_ZU(i) for i in range(16)])\n",
    "average_P_Y_do_X = sum([w[i]*generate_P_Y_do_XU(i) for i in range(16)])\n",
    "m.update()\n",
    "#print(average_P_XY_giv_Z)"
   ]
  },
  {
   "cell_type": "code",
   "execution_count": 4,
   "metadata": {},
   "outputs": [
    {
     "name": "stdout",
     "output_type": "stream",
     "text": [
      "Gurobi Optimizer version 11.0.0 build v11.0.0rc2 (win64 - Windows 11.0 (22621.2))\n",
      "\n",
      "CPU model: 11th Gen Intel(R) Core(TM) i7-11800H @ 2.30GHz, instruction set [SSE2|AVX|AVX2|AVX512]\n",
      "Thread count: 8 physical cores, 16 logical processors, using up to 16 threads\n",
      "\n",
      "Optimize a model with 13 rows, 20 columns and 84 nonzeros\n",
      "Model fingerprint: 0x358e2c82\n",
      "Coefficient statistics:\n",
      "  Matrix range     [1e+00, 1e+00]\n",
      "  Objective range  [1e+00, 1e+00]\n",
      "  Bounds range     [1e+00, 1e+00]\n",
      "  RHS range        [2e-01, 1e+00]\n",
      "Presolve removed 5 rows and 8 columns\n",
      "Presolve time: 0.00s\n",
      "Presolved: 8 rows, 12 columns, 45 nonzeros\n",
      "\n",
      "Iteration    Objective       Primal Inf.    Dual Inf.      Time\n",
      "       0    1.0000000e+00   8.939394e-01   0.000000e+00      0s\n",
      "       4    8.1818182e-01   0.000000e+00   0.000000e+00      0s\n",
      "\n",
      "Solved in 4 iterations and 0.01 seconds (0.00 work units)\n",
      "Optimal objective  8.181818182e-01\n"
     ]
    }
   ],
   "source": [
    "m.remove(m.getConstrs())\n",
    "m.addConstr(w.sum() == 1)\n",
    "\n",
    "prob_dist = {\n",
    "    (0, 0, 0): 0.0, \n",
    "    (0, 0, 1): 0.03571428571428571, \n",
    "    (0, 1, 0): 0.07142857142857142, \n",
    "    (0, 1, 1): 0.10714285714285714, \n",
    "    (1, 0, 0): 0.14285714285714285, \n",
    "    (1, 0, 1): 0.17857142857142858, \n",
    "    (1, 1, 0): 0.21428571428571427, \n",
    "    (1, 1, 1): 0.25}\n",
    "\n",
    "cardX, cardY, cardZ = 2, 2, 2\n",
    "\n",
    "def P_Z(z):\n",
    "    return sum([prob_dist[(z, X, Y)] for X in range(cardX) for Y in range(cardY)])\n",
    "def P_ZXY(z, x, y):\n",
    "    return prob_dist[(z, x, y)]\n",
    "def P_XY_given_Z(x,y,z):\n",
    "    return P_ZXY(z,x,y)/P_Z(z)\n",
    "\n",
    "for z,x,y in itertools.product(range(2), repeat=3):\n",
    "    m.addConstr(average_P_XY_giv_Z[z,y,x] == P_XY_given_Z(x,y,z))\n",
    "\n",
    "P_Y_do_X = m.addMVar(shape=(cardY, cardX), vtype=GRB.CONTINUOUS, name=\"y do x\", lb=0, ub=1)\n",
    "for x,y in itertools.product(range(2), repeat=2):\n",
    "    m.addConstr(average_P_Y_do_X[y,x] == P_Y_do_X[y,x])\n",
    "\n",
    "m.setObjective(P_Y_do_X[1, 0], GRB.MAXIMIZE)\n",
    "m.optimize()"
   ]
  },
  {
   "cell_type": "code",
   "execution_count": 5,
   "metadata": {},
   "outputs": [],
   "source": [
    "# def ACE(Y,X):\n",
    "#     max(|P_Y_do_X[Y,X] - P_Y_do_X[Y,X]|, )"
   ]
  }
 ],
 "metadata": {
  "kernelspec": {
   "display_name": "Python 3",
   "language": "python",
   "name": "python3"
  },
  "language_info": {
   "codemirror_mode": {
    "name": "ipython",
    "version": 3
   },
   "file_extension": ".py",
   "mimetype": "text/x-python",
   "name": "python",
   "nbconvert_exporter": "python",
   "pygments_lexer": "ipython3",
   "version": "3.10.4"
  }
 },
 "nbformat": 4,
 "nbformat_minor": 2
}
