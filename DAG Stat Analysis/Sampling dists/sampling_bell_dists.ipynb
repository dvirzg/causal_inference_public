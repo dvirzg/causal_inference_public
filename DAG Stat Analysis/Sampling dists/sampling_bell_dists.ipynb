{
 "cells": [
  {
   "cell_type": "code",
   "execution_count": 1,
   "metadata": {},
   "outputs": [],
   "source": [
    "import gurobipy as gp\n",
    "import numpy as np\n",
    "\n",
    "# creating a random distribution for P_l with given cardinality ######\n",
    "def hidden_dist(cardL):\n",
    "    rand_numbs = np.random.random(cardL)\n",
    "    normd_numbs = rand_numbs / np.sum(rand_numbs)\n",
    "    scaled_numbs = np.round(normd_numbs * 10**3) / 10**3\n",
    "    correction = 1 - np.sum(scaled_numbs)\n",
    "    largest_index = np.argmax(scaled_numbs)\n",
    "    scaled_numbs[largest_index] += correction\n",
    "    return scaled_numbs"
   ]
  },
  {
   "cell_type": "code",
   "execution_count": 2,
   "metadata": {},
   "outputs": [
    {
     "name": "stdout",
     "output_type": "stream",
     "text": [
      "[array([[[[0.1230982 , 0.28510665],\n",
      "         [0.05019419, 0.13504566]],\n",
      "\n",
      "        [[0.4538068 , 0.29179835],\n",
      "         [0.23436981, 0.14951834]]],\n",
      "\n",
      "\n",
      "       [[[0.1196408 , 0.22879334],\n",
      "         [0.19254481, 0.37885434]],\n",
      "\n",
      "        [[0.3034542 , 0.19430166],\n",
      "         [0.52289119, 0.33658166]]]])]\n"
     ]
    }
   ],
   "source": [
    "cardA, cardB, cardX, cardY, cardL = 2, 2, 2, 2, 7\n",
    "\n",
    "distribution_sampled = []\n",
    "\n",
    "while len(distribution_sampled)<1:\n",
    "    P_l = hidden_dist(cardL)\n",
    "    P_A_giv_Xl = np.empty((cardA, cardX, cardL))\n",
    "    P_B_giv_Yl = np.empty((cardB, cardY, cardL))\n",
    "    for x, l in np.ndindex((cardX, cardL)):\n",
    "        P_A_giv_Xl[:,x,l] = hidden_dist(cardA)\n",
    "    for y, l in np.ndindex((cardY, cardL)):\n",
    "        P_B_giv_Yl[:,y,l] = hidden_dist(cardB)\n",
    "    P_A_do_X = (P_A_giv_Xl * P_l.reshape((1,1,cardL))).sum(axis=2)\n",
    "    P_B_do_Y = (P_B_giv_Yl * P_l.reshape((1,1,cardL))).sum(axis=2)\n",
    "    if not np.all(np.abs(P_A_do_X[:,0]-P_A_do_X[:,1]) > 0.2):\n",
    "        continue\n",
    "    if not np.all(np.abs(P_B_do_Y[:,0]-P_B_do_Y[:,1]) > 0.2):\n",
    "        continue\n",
    "    P_ABL_giv_XY = P_l.reshape((1,1,1,1,cardL)) * P_A_giv_Xl.reshape((cardA,1,cardX,1,cardL))  * P_B_giv_Yl.reshape((1,cardB,1,cardY,cardL)) \n",
    "    P_AB_giv_XY = P_ABL_giv_XY.sum(axis=4)\n",
    "    distribution_sampled.append(P_AB_giv_XY)\n",
    "    # for x, y in np.ndindex((cardX, cardY)):\n",
    "    #     print(P_AB_giv_XY[:,:,x,y])\n",
    "    print(distribution_sampled)"
   ]
  }
 ],
 "metadata": {
  "kernelspec": {
   "display_name": "Python 3",
   "language": "python",
   "name": "python3"
  },
  "language_info": {
   "codemirror_mode": {
    "name": "ipython",
    "version": 3
   },
   "file_extension": ".py",
   "mimetype": "text/x-python",
   "name": "python",
   "nbconvert_exporter": "python",
   "pygments_lexer": "ipython3",
   "version": "3.10.4"
  }
 },
 "nbformat": 4,
 "nbformat_minor": 2
}
