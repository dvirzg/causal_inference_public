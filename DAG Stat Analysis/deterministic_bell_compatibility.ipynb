{
 "cells": [
  {
   "cell_type": "code",
   "execution_count": 1,
   "metadata": {},
   "outputs": [],
   "source": [
    "import numpy as np\n",
    "import itertools\n",
    "import sympy as sp\n",
    "import gurobipy as gp\n",
    "from gurobipy import GRB"
   ]
  },
  {
   "cell_type": "code",
   "execution_count": 38,
   "metadata": {},
   "outputs": [],
   "source": [
    "# Define the four functions\n",
    "## Bin(INT) -> Bin(INT)\n",
    "def identity(x):\n",
    "    return x\n",
    "\n",
    "def swap(x):\n",
    "    return 1-x\n",
    "\n",
    "def to0(_):\n",
    "    return 0\n",
    "\n",
    "def to1(_):\n",
    "    return 1\n",
    "\n",
    "\n",
    "basic_strategies = [identity, swap, to0, to1]\n",
    "all_strategies = list(itertools.product(basic_strategies, repeat=2))"
   ]
  },
  {
   "cell_type": "code",
   "execution_count": 2,
   "metadata": {},
   "outputs": [],
   "source": [
    "def generate_top(u):\n",
    "    f_u, g_u = all_strategies[u]\n",
    "    # print(f\"f_{u} = {f_u.__name__} \\ng_{u} = {g_u.__name__}\\n\")\n",
    "\n",
    "    # value 1 at point(a,b) = (f_u(x),g_u(y)), zero everywhere else\n",
    "    def middle_entry(x,y):\n",
    "        # value 1 at (f_u(x),g_u(y)) zero everywhere else\n",
    "        middle = np.zeros((2,2), dtype=int)\n",
    "        middle[f_u(x), g_u(y)] = 1\n",
    "        return middle\n",
    "\n",
    "    top_level = np.array([\n",
    "                [middle_entry(0,0), middle_entry(1,0)], \n",
    "                [middle_entry(0,1), middle_entry(1,1)]\n",
    "                ]) \n",
    "\n",
    "    return top_level\n",
    "\n",
    "# generate_top(15)"
   ]
  },
  {
   "cell_type": "code",
   "execution_count": 72,
   "metadata": {},
   "outputs": [],
   "source": [
    "# generate_top(4)"
   ]
  },
  {
   "cell_type": "code",
   "execution_count": 3,
   "metadata": {},
   "outputs": [
    {
     "name": "stdout",
     "output_type": "stream",
     "text": [
      "Set parameter Username\n",
      "Academic license - for non-commercial use only - expires 2025-01-09\n"
     ]
    }
   ],
   "source": [
    "# declaring Gurobi variable W_i w/ i in {0,1,...,15}, and declaring v\n",
    "m = gp.Model()\n",
    "W = m.addVars(16, lb=0, ub=1, vtype=GRB.CONTINUOUS, name=\"W\")\n",
    "m.update()"
   ]
  },
  {
   "cell_type": "code",
   "execution_count": 4,
   "metadata": {},
   "outputs": [],
   "source": [
    "# print(\"feasible distribution?\", sum(dist_ABXY.values()) == 1)\n",
    "\n",
    "# # # get P_AB|XY from P_ABXY\n",
    "# def P_AB_giv_XY(A,B, X, Y):\n",
    "#     P_ABXY = sum([dist_ABXY[(a,b,x,y)] for a,b,x,y in dist_ABXY if a==A and b==B and x==X and y==Y])\n",
    "#     P_AB = sum([dist_ABXY[(a,b,x,y)] for a,b,x,y in dist_ABXY if a==A and b==B])\n",
    "#     return P_ABXY/P_AB\n",
    "\n",
    "\n",
    "# P_AB_giv_XY = ..."
   ]
  },
  {
   "cell_type": "code",
   "execution_count": 6,
   "metadata": {},
   "outputs": [],
   "source": [
    "internal_gurobi_expr = sum([W[i]*generate_top(i) for i in range(16)])"
   ]
  },
  {
   "cell_type": "markdown",
   "metadata": {},
   "source": [
    "\n",
    "internal_gurobi_expr $[x,y,a,b]$  \n",
    "P_AB_giv_XY $(a,b,x,y)$"
   ]
  },
  {
   "cell_type": "markdown",
   "metadata": {},
   "source": [
    "Found summed strategies matrices for all U! (internal_gurobi_exp)"
   ]
  },
  {
   "cell_type": "markdown",
   "metadata": {},
   "source": [
    "## Gurobi Constraints"
   ]
  },
  {
   "cell_type": "code",
   "execution_count": 7,
   "metadata": {},
   "outputs": [],
   "source": [
    "# Add the constraint to the model\n",
    "m.addConstr(W.sum() == 1, \"sum(W_i) == 1\")\n",
    "for x,y, a,b in itertools.product(range(2), repeat=4):\n",
    "    m.addConstr(internal_gurobi_expr[x,y,a,b] == P_AB_giv_XY(a,b,x,y), f\"P({a},{b}|{x},{y}) == {internal_gurobi_expr[x,y,a,b]} == {P_AB_giv_XY(a,b,x,y)}\")\n",
    "\n",
    "# for cons in m.getConstrs():\n",
    "#     print(cons)\n",
    "\n",
    "# reset gurobi constraints\n",
    "# m.remove(m.getConstrs())\n",
    "\n",
    "m.update()"
   ]
  },
  {
   "cell_type": "code",
   "execution_count": 8,
   "metadata": {},
   "outputs": [
    {
     "name": "stdout",
     "output_type": "stream",
     "text": [
      "Gurobi Optimizer version 11.0.0 build v11.0.0rc2 (win64 - Windows 11.0 (22621.2))\n",
      "\n",
      "CPU model: 11th Gen Intel(R) Core(TM) i7-11800H @ 2.30GHz, instruction set [SSE2|AVX|AVX2|AVX512]\n",
      "Thread count: 8 physical cores, 16 logical processors, using up to 16 threads\n",
      "\n",
      "Optimize a model with 17 rows, 16 columns and 80 nonzeros\n",
      "Model fingerprint: 0xd735e9eb\n",
      "Coefficient statistics:\n",
      "  Matrix range     [1e+00, 1e+00]\n",
      "  Objective range  [0e+00, 0e+00]\n",
      "  Bounds range     [1e+00, 1e+00]\n",
      "  RHS range        [2e-02, 1e+00]\n",
      "Presolve removed 3 rows and 10 columns\n",
      "Presolve time: 0.00s\n",
      "\n",
      "Solved in 0 iterations and 0.00 seconds (0.00 work units)\n",
      "Infeasible model\n"
     ]
    }
   ],
   "source": [
    "m.optimize()"
   ]
  }
 ],
 "metadata": {
  "kernelspec": {
   "display_name": "Python 3",
   "language": "python",
   "name": "python3"
  },
  "language_info": {
   "codemirror_mode": {
    "name": "ipython",
    "version": 3
   },
   "file_extension": ".py",
   "mimetype": "text/x-python",
   "name": "python",
   "nbconvert_exporter": "python",
   "pygments_lexer": "ipython3",
   "version": "3.10.4"
  }
 },
 "nbformat": 4,
 "nbformat_minor": 2
}
