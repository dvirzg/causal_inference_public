{
 "cells": [
  {
   "cell_type": "code",
   "execution_count": 13,
   "metadata": {},
   "outputs": [],
   "source": [
    "import numpy as np\n",
    "import itertools\n",
    "import sympy as sp\n",
    "import gurobipy as gp\n",
    "from gurobipy import GRB\n",
    "\n",
    "# Define the four functions\n",
    "\n",
    "## Bin(INT), Bin(INT) -> Bin(INT)\n",
    "def identity(x):\n",
    "    return x\n",
    "\n",
    "def swap(x):\n",
    "    return 1-x\n",
    "\n",
    "def to0(_):\n",
    "    return 0\n",
    "\n",
    "def to1(_):\n",
    "    return 1\n",
    "\n",
    "\n",
    "basic_strategies = [identity, swap, to0, to1]\n",
    "all_strategies = list(itertools.product(basic_strategies, repeat=2))"
   ]
  },
  {
   "cell_type": "code",
   "execution_count": 17,
   "metadata": {},
   "outputs": [
    {
     "data": {
      "text/plain": [
       "(<function __main__.swap(x)>, <function __main__.to0(_)>)"
      ]
     },
     "execution_count": 17,
     "metadata": {},
     "output_type": "execute_result"
    }
   ],
   "source": []
  },
  {
   "cell_type": "code",
   "execution_count": 2,
   "metadata": {},
   "outputs": [],
   "source": [
    "def generate_top(u):\n",
    "    f_u, g_u = all_strategies[u]\n",
    "    print(f\"f_{u} = {f_u.__name__} \\ng_{u} = {g_u.__name__}\\n\")\n",
    "\n",
    "    # value 1 at point(a,b) = (f_u(x),g_u(y)), zero everywhere else\n",
    "    def middle_entry(x,y):\n",
    "        # value 1 at (f_u(x),g_u(y)) zero everywhere else\n",
    "        middle = np.zeros((2,2), dtype=int)\n",
    "        middle[f_u(x), g_u(y)] = 1\n",
    "        return middle\n",
    "\n",
    "    top_level = np.array([\n",
    "                [middle_entry(0,0), middle_entry(1,0)], \n",
    "                [middle_entry(0,1), middle_entry(1,1)]\n",
    "                ]) \n",
    "\n",
    "    return top_level"
   ]
  },
  {
   "cell_type": "code",
   "execution_count": 23,
   "metadata": {},
   "outputs": [
    {
     "name": "stdout",
     "output_type": "stream",
     "text": [
      "f_6 = swap \n",
      "g_6 = to0\n",
      "\n"
     ]
    },
    {
     "data": {
      "text/plain": [
       "array([[[[0, 0],\n",
       "         [1, 0]],\n",
       "\n",
       "        [[1, 0],\n",
       "         [0, 0]]],\n",
       "\n",
       "\n",
       "       [[[0, 0],\n",
       "         [1, 0]],\n",
       "\n",
       "        [[1, 0],\n",
       "         [0, 0]]]])"
      ]
     },
     "execution_count": 23,
     "metadata": {},
     "output_type": "execute_result"
    }
   ],
   "source": [
    "generate_top(6)"
   ]
  },
  {
   "cell_type": "code",
   "execution_count": 3,
   "metadata": {},
   "outputs": [],
   "source": [
    "# make it symbolic\n",
    "tokens = [f\"w{i}\" for i in range(16)]\n",
    "symb = sp.symbols(\" \".join(tokens))"
   ]
  },
  {
   "cell_type": "code",
   "execution_count": 4,
   "metadata": {},
   "outputs": [],
   "source": [
    "%%capture\n",
    "\n",
    "# add strategy matrices\n",
    "summed_strategies = sum([symb[i]*generate_top(i) for i in range(16)])"
   ]
  },
  {
   "cell_type": "code",
   "execution_count": 5,
   "metadata": {},
   "outputs": [
    {
     "data": {
      "text/plain": [
       "array([[[[w0 + w10 + w2 + w8, w1 + w11 + w3 + w9],\n",
       "         [w12 + w14 + w4 + w6, w13 + w15 + w5 + w7]],\n",
       "\n",
       "        [[w10 + w4 + w6 + w8, w11 + w5 + w7 + w9],\n",
       "         [w0 + w12 + w14 + w2, w1 + w13 + w15 + w3]]],\n",
       "\n",
       "\n",
       "       [[[w1 + w10 + w2 + w9, w0 + w11 + w3 + w8],\n",
       "         [w13 + w14 + w5 + w6, w12 + w15 + w4 + w7]],\n",
       "\n",
       "        [[w10 + w5 + w6 + w9, w11 + w4 + w7 + w8],\n",
       "         [w1 + w13 + w14 + w2, w0 + w12 + w15 + w3]]]], dtype=object)"
      ]
     },
     "execution_count": 5,
     "metadata": {},
     "output_type": "execute_result"
    }
   ],
   "source": [
    "summed_strategies"
   ]
  },
  {
   "cell_type": "code",
   "execution_count": 6,
   "metadata": {},
   "outputs": [
    {
     "name": "stdout",
     "output_type": "stream",
     "text": [
      "x=0, y=0 sum = 1.0010000000000001\n",
      "x=0, y=1 sum = 0.999\n",
      "x=1, y=0 sum = 1.0000000000000002\n",
      "x=1, y=1 sum = 1.0\n"
     ]
    }
   ],
   "source": [
    "random_values = np.random.rand(16)\n",
    "num_levels = 1000\n",
    "quantized_values = np.round(random_values * (num_levels - 1)) / (num_levels - 1)\n",
    "quantized_values = quantized_values.reshape((2, 2, 2, 2))\n",
    "normalized_values = quantized_values.copy()\n",
    "\n",
    "for x in range(normalized_values.shape[0]):\n",
    "    for y in range(normalized_values.shape[1]):\n",
    "        # Calculate the sum of values for the current x, y coordinates\n",
    "        sum_values = np.sum(normalized_values[x, y])\n",
    "        # Normalize the values for the current x, y coordinates\n",
    "        normalized_values[x, y] /= sum_values\n",
    "\n",
    "precision = 3  # desired precision\n",
    "normalized_values = np.round(normalized_values, precision)\n",
    "error = 4.0 - np.sum(normalized_values)\n",
    "normalized_values[0, 0, 0, 0] += error\n",
    "normalized_values[0, 0, 0, 0] += 4 - np.sum(normalized_values)\n",
    "normalized_values = np.round(normalized_values, precision)\n",
    "normalized_values\n",
    "\n",
    "P_AB_giv_XY = {}\n",
    "for a,b,x,y in itertools.product([0,1], repeat=4):\n",
    "    P_AB_giv_XY[(a,b,x,y)] = normalized_values[x][y][a][b]\n",
    "# sum(P_AB_giv_XY.values())\n",
    "\n",
    "# print sum of all values at different a,b when x,y is fixed from P_AB_giv_XY\n",
    "for x,y in itertools.product([0,1], repeat=2):\n",
    "    sum = 0\n",
    "    for a,b in itertools.product([0,1], repeat=2):\n",
    "        # print(f\"P({a},{b}|{x},{y}) = {P_AB_giv_XY[(a,b,x,y)]}\")\n",
    "        sum += P_AB_giv_XY[(a,b,x,y)]\n",
    "    print(f\"x={x}, y={y}\", f\"sum = {sum}\")\n",
    "    "
   ]
  },
  {
   "cell_type": "code",
   "execution_count": 7,
   "metadata": {},
   "outputs": [
    {
     "data": {
      "text/plain": [
       "{(0, 0, 0, 0): 0.3260000000000001,\n",
       " (0, 0, 0, 1): 0.246,\n",
       " (0, 0, 1, 0): 0.206,\n",
       " (0, 0, 1, 1): 0.39,\n",
       " (0, 1, 0, 0): 0.2060000000000001,\n",
       " (0, 1, 0, 1): 0.292,\n",
       " (0, 1, 1, 0): 0.32,\n",
       " (0, 1, 1, 1): 0.38,\n",
       " (1, 0, 0, 0): 0.285,\n",
       " (1, 0, 0, 1): 0.329,\n",
       " (1, 0, 1, 0): 0.28,\n",
       " (1, 0, 1, 1): 0.081,\n",
       " (1, 1, 0, 0): 0.184,\n",
       " (1, 1, 0, 1): 0.134,\n",
       " (1, 1, 1, 0): 0.194,\n",
       " (1, 1, 1, 1): 0.149}"
      ]
     },
     "execution_count": 7,
     "metadata": {},
     "output_type": "execute_result"
    }
   ],
   "source": [
    "random_values = np.random.rand(16)\n",
    "num_levels = 1000\n",
    "quantized_values = np.round(random_values * (num_levels - 1)) / (num_levels - 1)\n",
    "quantized_values = quantized_values.reshape((2, 2, 2, 2))\n",
    "normalized_values = quantized_values.copy()\n",
    "\n",
    "for x in range(normalized_values.shape[0]):\n",
    "    for y in range(normalized_values.shape[1]):\n",
    "        sum_values = np.sum(normalized_values[x, y])\n",
    "        normalized_values[x, y] /= sum_values\n",
    "        normalized_values[x, y] = np.round(normalized_values[x, y], 3)\n",
    "\n",
    "for x in range(normalized_values.shape[0]):\n",
    "    for y in range(normalized_values.shape[1]):\n",
    "        sum_values = np.sum(normalized_values[x, y])\n",
    "        if sum_values != 1.0:\n",
    "            idx = np.where(normalized_values[x, y] != 0)[0][0]\n",
    "            normalized_values[x, y, idx] += 1.0 - sum_values\n",
    "normalized_values\n",
    "\n",
    "P_AB_giv_XY = {}\n",
    "for a,b,x,y in itertools.product([0,1], repeat=4):\n",
    "    P_AB_giv_XY[(a,b,x,y)] = normalized_values[x][y][a][b]\n",
    "P_AB_giv_XY"
   ]
  },
  {
   "cell_type": "markdown",
   "metadata": {},
   "source": [
    "Found summed strategies matrices for all U!"
   ]
  },
  {
   "cell_type": "code",
   "execution_count": 8,
   "metadata": {},
   "outputs": [
    {
     "name": "stdout",
     "output_type": "stream",
     "text": [
      "Set parameter Username\n",
      "Academic license - for non-commercial use only - expires 2025-01-09\n"
     ]
    }
   ],
   "source": [
    "# declaring Gurobi variable W_i with each lb=0 and ub=1\n",
    "m = gp.Model()\n",
    "W = m.addVars(16, lb=0, ub=1, vtype=GRB.CONTINUOUS, name=\"W\")\n",
    "m.update()"
   ]
  },
  {
   "cell_type": "code",
   "execution_count": 9,
   "metadata": {},
   "outputs": [],
   "source": [
    "# # P(AB|XY)\n",
    "\n",
    "# # decalre variable v\n",
    "# v = m.addVar(lb=0, ub=1, vtype=GRB.CONTINUOUS, name=\"v\")\n",
    "\n",
    "# v=0.000001\n",
    "# def P_AB_giv_XY(A,B, X, Y):\n",
    "#     if (A % 2) & B == 0 and X*Y == 0:\n",
    "#         return v*0.5 + (1-v)/4\n",
    "#     else:\n",
    "#         return v*(0.5*np.kron((A % 2) & B, X*Y)) + (1-v)/4\n",
    "    \n",
    "#     return v*(0.5*kron((A % 2) & B, X*Y)) + (1-v)/4\n",
    "\n",
    "# m.update()"
   ]
  },
  {
   "cell_type": "code",
   "execution_count": 10,
   "metadata": {},
   "outputs": [],
   "source": [
    "# decalre variable v\n",
    "v = m.addVar(lb=0, ub=1, vtype=GRB.CONTINUOUS, name=\"v\")\n",
    "\n",
    "def kron2(a, b, x, y):\n",
    "    if a ^ b == x * y:\n",
    "        return 1\n",
    "    else:\n",
    "        return 0\n",
    "\n",
    "\n",
    "def kron(a, b, x, y):\n",
    "    #return 1 if ((a%2)^b) == (x*y) else 0\n",
    "    return 1 if ((a%2)^b) == (x*y) else 0\n",
    "\n",
    "\n",
    "\n",
    "def P_AB_giv_XY(a, b, x, y):\n",
    "    return v*kron(a,b,x,y)/2 + (1-v)/4\n",
    "\n",
    "m.update()"
   ]
  },
  {
   "cell_type": "code",
   "execution_count": 11,
   "metadata": {},
   "outputs": [],
   "source": [
    "# summed_strategies[x,y][a,b]       # [x,y][a,b]\n",
    "# P_AB_giv_XY(a,b,x,y)              # [a,b][x,y]"
   ]
  },
  {
   "cell_type": "code",
   "execution_count": 12,
   "metadata": {},
   "outputs": [
    {
     "ename": "TypeError",
     "evalue": "'numpy.float64' object is not callable",
     "output_type": "error",
     "traceback": [
      "\u001b[1;31m---------------------------------------------------------------------------\u001b[0m",
      "\u001b[1;31mTypeError\u001b[0m                                 Traceback (most recent call last)",
      "Cell \u001b[1;32mIn[12], line 7\u001b[0m\n\u001b[0;32m      4\u001b[0m sympy_expr \u001b[38;5;241m=\u001b[39m summed_strategies[x,y][a,b]\n\u001b[0;32m      6\u001b[0m \u001b[38;5;66;03m# Convert the SymPy expression to a Gurobi expression\u001b[39;00m\n\u001b[1;32m----> 7\u001b[0m gurobi_expr \u001b[38;5;241m=\u001b[39m \u001b[38;5;28;43msum\u001b[39;49m\u001b[43m(\u001b[49m\u001b[43msym_to_gurobi\u001b[49m\u001b[43m[\u001b[49m\u001b[43msym\u001b[49m\u001b[43m]\u001b[49m\u001b[43m \u001b[49m\u001b[38;5;241;43m*\u001b[39;49m\u001b[43m \u001b[49m\u001b[43mcoef\u001b[49m\u001b[43m \u001b[49m\u001b[38;5;28;43;01mfor\u001b[39;49;00m\u001b[43m \u001b[49m\u001b[43msym\u001b[49m\u001b[43m,\u001b[49m\u001b[43m \u001b[49m\u001b[43mcoef\u001b[49m\u001b[43m \u001b[49m\u001b[38;5;129;43;01min\u001b[39;49;00m\u001b[43m \u001b[49m\u001b[43msympy_expr\u001b[49m\u001b[38;5;241;43m.\u001b[39;49m\u001b[43mas_coefficients_dict\u001b[49m\u001b[43m(\u001b[49m\u001b[43m)\u001b[49m\u001b[38;5;241;43m.\u001b[39;49m\u001b[43mitems\u001b[49m\u001b[43m(\u001b[49m\u001b[43m)\u001b[49m\u001b[43m)\u001b[49m\n\u001b[0;32m      9\u001b[0m \u001b[38;5;66;03m# Add the constraint to the model\u001b[39;00m\n\u001b[0;32m     10\u001b[0m m\u001b[38;5;241m.\u001b[39maddConstr(gurobi_expr \u001b[38;5;241m==\u001b[39m P_AB_giv_XY(a,b,x,y), \u001b[38;5;124mf\u001b[39m\u001b[38;5;124m\"\u001b[39m\u001b[38;5;124mP(\u001b[39m\u001b[38;5;132;01m{\u001b[39;00ma\u001b[38;5;132;01m}\u001b[39;00m\u001b[38;5;124m,\u001b[39m\u001b[38;5;132;01m{\u001b[39;00mb\u001b[38;5;132;01m}\u001b[39;00m\u001b[38;5;124m|\u001b[39m\u001b[38;5;132;01m{\u001b[39;00mx\u001b[38;5;132;01m}\u001b[39;00m\u001b[38;5;124m,\u001b[39m\u001b[38;5;132;01m{\u001b[39;00my\u001b[38;5;132;01m}\u001b[39;00m\u001b[38;5;124m) == \u001b[39m\u001b[38;5;132;01m{\u001b[39;00mgurobi_expr\u001b[38;5;132;01m}\u001b[39;00m\u001b[38;5;124m == \u001b[39m\u001b[38;5;132;01m{\u001b[39;00mP_AB_giv_XY(a,b,x,y)\u001b[38;5;132;01m}\u001b[39;00m\u001b[38;5;124m\"\u001b[39m)\n",
      "\u001b[1;31mTypeError\u001b[0m: 'numpy.float64' object is not callable"
     ]
    }
   ],
   "source": [
    "sym_to_gurobi = {symb[i]: W[i] for i in range(16)}\n",
    "for x,y, a,b in itertools.product(range(2), repeat=4):\n",
    "    # summed_strategies returns SymPy expression\n",
    "    sympy_expr = summed_strategies[x,y][a,b]\n",
    "\n",
    "    # Convert the SymPy expression to a Gurobi expression\n",
    "    gurobi_expr = sum(sym_to_gurobi[sym] * coef for sym, coef in sympy_expr.as_coefficients_dict().items())\n",
    "\n",
    "    # Add the constraint to the model\n",
    "    m.addConstr(gurobi_expr == P_AB_giv_XY(a,b,x,y), f\"P({a},{b}|{x},{y}) == {gurobi_expr} == {P_AB_giv_XY(a,b,x,y)}\")\n",
    "\n",
    "m.update()"
   ]
  },
  {
   "cell_type": "code",
   "execution_count": null,
   "metadata": {},
   "outputs": [],
   "source": [
    "constr = m.getConstrs()"
   ]
  },
  {
   "cell_type": "code",
   "execution_count": null,
   "metadata": {},
   "outputs": [],
   "source": [
    "import itertools\n",
    "\n",
    "## should add constraint to not allow more output cardinality than input\n",
    "\n",
    "# card_X, card_A -> output\n",
    "def generate_functions(card_X, card_A):\n",
    "    # Generate sets X and A    \n",
    "    X = range(card_X)\n",
    "    A = range(card_A)\n",
    "\n",
    "    # Generate all possible functions\n",
    "    all_functions = list(itertools.product(A, repeat=card_X))\n",
    "\n",
    "    # Convert each function into a mapping from X to A\n",
    "    mapping_functions = []\n",
    "    for func in all_functions:\n",
    "        mapping = {x: func[x] for x in X}\n",
    "        mapping_functions.append(mapping)\n",
    "\n",
    "    print(\"card_A**card_X:\", len(all_functions)) # should be card_A^card_X\n",
    "    print(\"num combinations of f&u:\", len(all_functions)**2)\n",
    "    return mapping_functions\n"
   ]
  },
  {
   "cell_type": "code",
   "execution_count": null,
   "metadata": {},
   "outputs": [
    {
     "name": "stdout",
     "output_type": "stream",
     "text": [
      "card_A**card_X: 4\n",
      "num combinations of f&u: 16\n"
     ]
    },
    {
     "data": {
      "text/plain": [
       "[{0: 0, 1: 0}, {0: 0, 1: 1}, {0: 1, 1: 0}, {0: 1, 1: 1}]"
      ]
     },
     "execution_count": 14,
     "metadata": {},
     "output_type": "execute_result"
    }
   ],
   "source": [
    "generate_functions(2,2)"
   ]
  },
  {
   "cell_type": "markdown",
   "metadata": {},
   "source": [
    "## SymPy Expression"
   ]
  },
  {
   "cell_type": "code",
   "execution_count": null,
   "metadata": {},
   "outputs": [
    {
     "name": "stdout",
     "output_type": "stream",
     "text": [
      "P(0,0|0,0) =  w0 + w10 + w2 + w8  =  0.25 + 0.5 v + -0.25 v\n",
      "P(0,1|0,0) =  w1 + w11 + w3 + w9  =  0.25 + 0.0 v + -0.25 v\n",
      "P(1,0|0,0) =  w12 + w14 + w4 + w6  =  0.25 + 0.0 v + -0.25 v\n",
      "P(1,1|0,0) =  w13 + w15 + w5 + w7  =  0.25 + 0.5 v + -0.25 v\n",
      "P(0,0|0,1) =  w10 + w4 + w6 + w8  =  0.25 + 0.5 v + -0.25 v\n",
      "P(0,1|0,1) =  w11 + w5 + w7 + w9  =  0.25 + 0.0 v + -0.25 v\n",
      "P(1,0|0,1) =  w0 + w12 + w14 + w2  =  0.25 + 0.0 v + -0.25 v\n",
      "P(1,1|0,1) =  w1 + w13 + w15 + w3  =  0.25 + 0.5 v + -0.25 v\n",
      "P(0,0|1,0) =  w1 + w10 + w2 + w9  =  0.25 + 0.5 v + -0.25 v\n",
      "P(0,1|1,0) =  w0 + w11 + w3 + w8  =  0.25 + 0.0 v + -0.25 v\n",
      "P(1,0|1,0) =  w13 + w14 + w5 + w6  =  0.25 + 0.0 v + -0.25 v\n",
      "P(1,1|1,0) =  w12 + w15 + w4 + w7  =  0.25 + 0.5 v + -0.25 v\n",
      "P(0,0|1,1) =  w10 + w5 + w6 + w9  =  0.25 + 0.0 v + -0.25 v\n",
      "P(0,1|1,1) =  w11 + w4 + w7 + w8  =  0.25 + 0.5 v + -0.25 v\n",
      "P(1,0|1,1) =  w1 + w13 + w14 + w2  =  0.25 + 0.5 v + -0.25 v\n",
      "P(1,1|1,1) =  w0 + w12 + w15 + w3  =  0.25 + 0.0 v + -0.25 v\n"
     ]
    }
   ],
   "source": [
    "# summed_strategies[x,y][a,b]\n",
    "# print(\"P(a,b|x,y)\")\n",
    "\n",
    "for x,y, a,b in itertools.product(range(2), repeat=4):\n",
    "     print(f\"P({a},{b}|{x},{y}) = \", summed_strategies[x,y][a,b], \" = \", P_AB_giv_XY(a,b,x,y))"
   ]
  },
  {
   "cell_type": "markdown",
   "metadata": {},
   "source": [
    "## Gurobi Constraints"
   ]
  },
  {
   "cell_type": "code",
   "execution_count": null,
   "metadata": {},
   "outputs": [
    {
     "name": "stdout",
     "output_type": "stream",
     "text": [
      "<gurobi.Constr P(0,0|0,0) == W[0] + W[10] + W[2] + W[8] == 0.25 + 0.5 v + -0.25 v>\n",
      "<gurobi.Constr P(0,1|0,0) == W[1] + W[11] + W[3] + W[9] == 0.25 + 0.0 v + -0.25 v>\n",
      "<gurobi.Constr P(1,0|0,0) == W[12] + W[14] + W[4] + W[6] == 0.25 + 0.0 v + -0.25 v>\n",
      "<gurobi.Constr P(1,1|0,0) == W[13] + W[15] + W[5] + W[7] == 0.25 + 0.5 v + -0.25 v>\n",
      "<gurobi.Constr P(0,0|0,1) == W[10] + W[4] + W[6] + W[8] == 0.25 + 0.5 v + -0.25 v>\n",
      "<gurobi.Constr P(0,1|0,1) == W[11] + W[5] + W[7] + W[9] == 0.25 + 0.0 v + -0.25 v>\n",
      "<gurobi.Constr P(1,0|0,1) == W[0] + W[12] + W[14] + W[2] == 0.25 + 0.0 v + -0.25 v>\n",
      "<gurobi.Constr P(1,1|0,1) == W[1] + W[13] + W[15] + W[3] == 0.25 + 0.5 v + -0.25 v>\n",
      "<gurobi.Constr P(0,0|1,0) == W[1] + W[10] + W[2] + W[9] == 0.25 + 0.5 v + -0.25 v>\n",
      "<gurobi.Constr P(0,1|1,0) == W[0] + W[11] + W[3] + W[8] == 0.25 + 0.0 v + -0.25 v>\n",
      "<gurobi.Constr P(1,0|1,0) == W[13] + W[14] + W[5] + W[6] == 0.25 + 0.0 v + -0.25 v>\n",
      "<gurobi.Constr P(1,1|1,0) == W[12] + W[15] + W[4] + W[7] == 0.25 + 0.5 v + -0.25 v>\n",
      "<gurobi.Constr P(0,0|1,1) == W[10] + W[5] + W[6] + W[9] == 0.25 + 0.0 v + -0.25 v>\n",
      "<gurobi.Constr P(0,1|1,1) == W[11] + W[4] + W[7] + W[8] == 0.25 + 0.5 v + -0.25 v>\n",
      "<gurobi.Constr P(1,0|1,1) == W[1] + W[13] + W[14] + W[2] == 0.25 + 0.5 v + -0.25 v>\n",
      "<gurobi.Constr P(1,1|1,1) == W[0] + W[12] + W[15] + W[3] == 0.25 + 0.0 v + -0.25 v>\n"
     ]
    }
   ],
   "source": [
    "for cons in constr:\n",
    "    print(cons)"
   ]
  },
  {
   "cell_type": "code",
   "execution_count": null,
   "metadata": {},
   "outputs": [
    {
     "name": "stdout",
     "output_type": "stream",
     "text": [
      "Gurobi Optimizer version 11.0.0 build v11.0.0rc2 (win64 - Windows 11.0 (22621.2))\n",
      "\n",
      "CPU model: 11th Gen Intel(R) Core(TM) i7-11800H @ 2.30GHz, instruction set [SSE2|AVX|AVX2|AVX512]\n",
      "Thread count: 8 physical cores, 16 logical processors, using up to 16 threads\n",
      "\n",
      "Optimize a model with 16 rows, 17 columns and 80 nonzeros\n",
      "Model fingerprint: 0x089297e2\n",
      "Coefficient statistics:\n",
      "  Matrix range     [3e-01, 1e+00]\n",
      "  Objective range  [1e+00, 1e+00]\n",
      "  Bounds range     [1e+00, 1e+00]\n",
      "  RHS range        [3e-01, 3e-01]\n",
      "Presolve removed 7 rows and 4 columns\n",
      "Presolve time: 0.00s\n",
      "Presolved: 9 rows, 13 columns, 41 nonzeros\n",
      "\n",
      "Iteration    Objective       Primal Inf.    Dual Inf.      Time\n",
      "       0    1.0000000e+00   2.000000e+00   0.000000e+00      0s\n",
      "       8    5.0000000e-01   0.000000e+00   0.000000e+00      0s\n",
      "\n",
      "Solved in 8 iterations and 0.01 seconds (0.00 work units)\n",
      "Optimal objective  5.000000000e-01\n"
     ]
    }
   ],
   "source": [
    "#m.setObjective(v, GRB.MAXIMIZE)\n",
    "# obj = sum(W[i] for i in range(16))\n",
    "# m.setObjective(obj, GRB.MAXIMIZE)\n",
    "m.setObjective(v, GRB.MAXIMIZE)\n",
    "\n",
    "m.update()\n",
    "\n",
    "m.optimize()"
   ]
  },
  {
   "cell_type": "code",
   "execution_count": null,
   "metadata": {},
   "outputs": [
    {
     "data": {
      "text/plain": [
       "<gurobi.Var v (value 0.5)>"
      ]
     },
     "execution_count": 18,
     "metadata": {},
     "output_type": "execute_result"
    }
   ],
   "source": [
    "v"
   ]
  }
 ],
 "metadata": {
  "kernelspec": {
   "display_name": "Python 3",
   "language": "python",
   "name": "python3"
  },
  "language_info": {
   "codemirror_mode": {
    "name": "ipython",
    "version": 3
   },
   "file_extension": ".py",
   "mimetype": "text/x-python",
   "name": "python",
   "nbconvert_exporter": "python",
   "pygments_lexer": "ipython3",
   "version": "3.10.4"
  }
 },
 "nbformat": 4,
 "nbformat_minor": 2
}
