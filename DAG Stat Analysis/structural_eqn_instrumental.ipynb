{
 "cells": [
  {
   "cell_type": "markdown",
   "metadata": {},
   "source": [
    "## Structural Equation of an Instrumental DAG"
   ]
  },
  {
   "cell_type": "markdown",
   "metadata": {},
   "source": [
    "given known values of $P_{ABC}(a,b,c)$ for all binary permutations of $A,B,C$:  \n",
    "$P_{ABC}(a,b,c) =  \\sum P_\\lambda (\\lambda) P_{A|\\lambda}(a, \\lambda) P_{B|A}(b,a) P_{C|B \\lambda}(c,b,\\lambda) \\qquad \\forall \\lambda \\in [0,card]$  \n",
    "we find set of values of $P_\\lambda (\\lambda), \\space P_{A|\\lambda}(a, \\lambda), \\space P_{C|B \\lambda}(c,b,\\lambda)$ that match this constraints, we then find the set of three values that maximize $P_{C |do(B)}(C,B)$\n",
    "\n",
    "\n",
    "note: can change the cardinality of the hidden variable lamda."
   ]
  },
  {
   "cell_type": "code",
   "execution_count": 1,
   "metadata": {},
   "outputs": [],
   "source": [
    "import gurobipy as gp\n",
    "from gurobipy import GRB\n",
    "import itertools\n",
    "import numpy as np"
   ]
  },
  {
   "cell_type": "code",
   "execution_count": 2,
   "metadata": {},
   "outputs": [
    {
     "name": "stdout",
     "output_type": "stream",
     "text": [
      "{(0, 0, 0): 0.0, (0, 0, 1): 0.03571428571428571, (0, 1, 0): 0.07142857142857142, (0, 1, 1): 0.10714285714285714, (1, 0, 0): 0.14285714285714285, (1, 0, 1): 0.17857142857142858, (1, 1, 0): 0.21428571428571427, (1, 1, 1): 0.25}\n"
     ]
    }
   ],
   "source": [
    "card_A = 2\n",
    "card_B = 2\n",
    "card_C = 2\n",
    "card = 4\n",
    "instrumental = False\n",
    "\n",
    "\n",
    "observable_probs = np.arange(card_A * card_B * card_C)\n",
    "observable_probs = observable_probs / observable_probs.sum()\n",
    "observable_probs = observable_probs.reshape(card_A, card_B, card_C)\n",
    "\n",
    "dist = {}\n",
    "# defining a p distribution based on cardinality of A, B, C\n",
    "for a, b, c in itertools.product(range(card_A), range(card_B), range(card_C)):\n",
    "    prob = observable_probs[a, b, c]\n",
    "    dist[(a, b, c)] = prob\n",
    "\n",
    "print(dist)"
   ]
  },
  {
   "cell_type": "code",
   "execution_count": 3,
   "metadata": {},
   "outputs": [],
   "source": [
    "e = 1/100\n",
    "#e = 0\n",
    "dist_XYZ = {\n",
    "    (0,0,0): (0.3- e) * 0.5,\n",
    "    (1,0,0): (0.7- e) * 0.5,\n",
    "    (0,0,1): (0.7- e) * 0.5,\n",
    "    (1,1,1): (0.3- e) * 0.5,\n",
    "\n",
    "    (0,1,1): e * 0.5,\n",
    "    (1,0,1): e * 0.5,\n",
    "    (0,1,0): e * 0.5,\n",
    "    (1,1,0): e * 0.5\n",
    "\n",
    "}\n",
    "\n",
    "dist_ABC = {(z, x, y): v for (x,y,z),v in dist_XYZ.items()}\n",
    "dist=dist_ABC"
   ]
  },
  {
   "cell_type": "markdown",
   "metadata": {},
   "source": [
    "distribution feasible?"
   ]
  },
  {
   "cell_type": "code",
   "execution_count": 4,
   "metadata": {},
   "outputs": [
    {
     "data": {
      "text/plain": [
       "True"
      ]
     },
     "execution_count": 4,
     "metadata": {},
     "output_type": "execute_result"
    }
   ],
   "source": [
    "sum(dist.values()) == 1"
   ]
  },
  {
   "cell_type": "markdown",
   "metadata": {},
   "source": [
    "$P_{B|A}(B,A)$"
   ]
  },
  {
   "cell_type": "code",
   "execution_count": 5,
   "metadata": {},
   "outputs": [],
   "source": [
    "def P_B_given_A(B,A):\n",
    "    P_AB = sum([dist[(a,b,c)] for a,b,c in dist if a==A and b==B])\n",
    "    P_A = sum([dist[(a,b,c)] for a,b,c in dist if a==A])\n",
    "\n",
    "    return P_AB/P_A"
   ]
  },
  {
   "cell_type": "markdown",
   "metadata": {},
   "source": [
    "$P_Z(Z)$"
   ]
  },
  {
   "cell_type": "code",
   "execution_count": 6,
   "metadata": {},
   "outputs": [],
   "source": [
    "# P_A(a) = sum_{B,C} P_ABC(a,b,c)\n",
    "def P_A(a):\n",
    "    return sum([dist[(a, B, C)] for B in range(card_B) for C in range(card_C)])"
   ]
  },
  {
   "cell_type": "markdown",
   "metadata": {},
   "source": [
    "$P_\\lambda (\\lambda), \\space P_{A|\\lambda} (A, \\lambda), \\space P_{C|B,\\lambda} (C, B, \\lambda)$"
   ]
  },
  {
   "cell_type": "code",
   "execution_count": 7,
   "metadata": {},
   "outputs": [
    {
     "name": "stdout",
     "output_type": "stream",
     "text": [
      "Set parameter Username\n",
      "Academic license - for non-commercial use only - expires 2025-01-09\n"
     ]
    },
    {
     "name": "stdout",
     "output_type": "stream",
     "text": [
      "Instrumental:  False\n"
     ]
    }
   ],
   "source": [
    "m = gp.Model()\n",
    "#m.Params.LogToConsole = 0\n",
    "print(\"Instrumental: \", instrumental)\n",
    "\n",
    "# variables (MVars)\n",
    "P_l = m.addMVar(shape = card, vtype=GRB.CONTINUOUS, name=\"P_l\", lb=0, ub=1)\n",
    "P_C_given_B_l = m.addMVar(shape = (card_C, card_B, card), vtype=GRB.CONTINUOUS, name=\"P_C_given_B_l\", lb=0, ub=1)\n",
    "\n",
    "# first case:\n",
    "P_A_given_l = m.addMVar(shape = (card_A, card), vtype=GRB.CONTINUOUS, name=\"P_A_given_l\", lb=0, ub=1) # [(a1, l1), (a2, l2), ...]\n",
    "# instrumental DAG:\n",
    "P_B_given_A_l = m.addMVar(shape = (card_B, card_A, card), vtype=GRB.CONTINUOUS, name=\"P_A_given_l\", lb=0, ub=1)\n",
    "\n",
    "\n",
    "## can't add products of three variables, so we add a new helper variable\n",
    "tripple_prod = m.addMVar(shape=(card_C, card_B, card, card), vtype=GRB.CONTINUOUS, name=\"c do b lamdbda time p_lambda\", lb=0, ub=1) \n",
    "p_C_do_B = m.addMVar(shape=(card_C, card_B), vtype=GRB.CONTINUOUS, name=\"c do b\", lb=0, ub=1)\n",
    "m.update()\n",
    "\n",
    "for a, b, c in itertools.product(range(card_A), range(card_B), range(card_C)):\n",
    "    P_ABC = dist[(a, b, c)]\n",
    "    RHS_obs = gp.LinExpr()\n",
    "    RHS_do = gp.LinExpr()    \n",
    "    for l in range(card):\n",
    "        m.addConstr(tripple_prod[b, c, l] == P_l[l] * P_C_given_B_l[c, b, l])\n",
    "        ##############\n",
    "        if instrumental:\n",
    "            RHS_obs += tripple_prod[b, c, l]*P_B_given_A_l[b, a, l]*P_A(a) # instrumental DAG\n",
    "        else:\n",
    "            RHS_obs += tripple_prod[b, c, l]*P_B_given_A(b,a)*P_A_given_l[a, l] # first case\n",
    "        ##############\n",
    "        RHS_do += tripple_prod[b, c, l]\n",
    "    # probability distribution to symbolic equations equality constraint \n",
    "    m.addConstr(P_ABC == RHS_obs)\n",
    "    m.addConstr(p_C_do_B[c, b] == RHS_do)\n",
    "\n",
    "\n",
    "for l in range(card):\n",
    "    m.addConstr(gp.quicksum(P_l[l] for l in range(card)) == 1, \"sum_P_l = 1\")\n",
    "    m.addConstr(gp.quicksum(P_A_given_l[a, l] for a in [0, 1]) == 1, f\"sum_P_A_given_l_{l} = 1\")\n",
    "    \n",
    "    # only in card_B = 2\n",
    "    m.addConstr(gp.quicksum(P_C_given_B_l[c, 0, l] for c in [0, 1]) == 1, f\"sum_P_C_given_B_l_0_{l} = 1\")\n",
    "    m.addConstr(gp.quicksum(P_C_given_B_l[c, 1, l] for c in [0, 1]) == 1, f\"sum_P_C_given_B_l_1_{l} = 1\")\n",
    "\n",
    "    m.addConstr(gp.quicksum(P_B_given_A_l[b, 0, l] for b in [0, 1]) == 1, f\"sum_P_C_given_B_l_0_{l} = 1\")\n",
    "    m.addConstr(gp.quicksum(P_B_given_A_l[b, 1, l] for b in [0, 1]) == 1, f\"sum_P_C_given_B_l_1_{l} = 1\")"
   ]
  },
  {
   "cell_type": "code",
   "execution_count": 8,
   "metadata": {},
   "outputs": [],
   "source": [
    "# can take (range(card_C), range(card_B), \"max\" or else is min) as input\n",
    "def main(c,b):\n",
    "    print(f\"optimizing P(C={c}|do(B={b}))...\")\n",
    "    m.setObjective(p_C_do_B[c,b], GRB.MINIMIZE)\n",
    "    m.optimize()\n",
    "    min_val = p_C_do_B[c,b].X.item()\n",
    "\n",
    "    m.setObjective(p_C_do_B[c,b], GRB.MAXIMIZE)\n",
    "    m.optimize()\n",
    "    max_val = p_C_do_B[c,b].X.item()\n",
    "\n",
    "    print(\"\\nmin value: \", min_val)\n",
    "    print(\"max value: \", max_val)\n",
    "    print(\"distance:\", max_val - min_val)"
   ]
  },
  {
   "cell_type": "markdown",
   "metadata": {},
   "source": [
    "$\\text{max/min }(P_{C|\\text{do}(B)})$ over the three unknowns."
   ]
  },
  {
   "cell_type": "code",
   "execution_count": 9,
   "metadata": {},
   "outputs": [
    {
     "name": "stdout",
     "output_type": "stream",
     "text": [
      "optimizing P(C=1|do(B=1))...\n",
      "Gurobi Optimizer version 11.0.0 build v11.0.0rc2 (win64 - Windows 11.0 (22621.2))\n",
      "\n",
      "CPU model: 11th Gen Intel(R) Core(TM) i7-11800H @ 2.30GHz, instruction set [SSE2|AVX|AVX2|AVX512]\n",
      "Thread count: 8 physical cores, 16 logical processors, using up to 16 threads\n",
      "\n",
      "Optimize a model with 56 rows, 112 columns and 216 nonzeros\n",
      "Model fingerprint: 0x7bf53aef\n",
      "Model has 160 quadratic constraints\n",
      "Coefficient statistics:\n",
      "  Matrix range     [1e+00, 1e+00]\n",
      "  QMatrix range    [3e-01, 1e+00]\n",
      "  QLMatrix range   [1e+00, 1e+00]\n",
      "  Objective range  [1e+00, 1e+00]\n",
      "  Bounds range     [1e+00, 1e+00]\n",
      "  RHS range        [1e+00, 1e+00]\n",
      "  QRHS range       [5e-03, 3e-01]\n",
      "Presolve removed 27 rows and 16 columns\n",
      "\n",
      "Continuous model is non-convex -- solving as a MIP\n",
      "\n",
      "Presolve removed 39 rows and 68 columns\n",
      "Presolve time: 0.02s\n",
      "Presolved: 217 rows, 76 columns, 460 nonzeros\n",
      "Presolved model has 48 bilinear constraint(s)\n",
      "Variable types: 76 continuous, 0 integer (0 binary)\n",
      "\n",
      "Root relaxation: objective 4.833333e-01, 66 iterations, 0.01 seconds (0.00 work units)\n",
      "\n",
      "    Nodes    |    Current Node    |     Objective Bounds      |     Work\n",
      " Expl Unexpl |  Obj  Depth IntInf | Incumbent    BestBd   Gap | It/Node Time\n",
      "\n",
      "     0     0    0.48333    0   22          -    0.48333      -     -    0s\n",
      "     0     0    0.48333    0   28          -    0.48333      -     -    0s\n",
      "     0     0    0.48333    0   20          -    0.48333      -     -    0s\n",
      "     0     0    0.48333    0   22          -    0.48333      -     -    0s\n",
      "     0     0    0.49048    0   20          -    0.49048      -     -    0s\n",
      "     0     0    0.49048    0   20          -    0.49048      -     -    0s\n",
      "     0     0    0.49048    0   20          -    0.49048      -     -    0s\n",
      "     0     0    0.49048    0   16          -    0.49048      -     -    0s\n",
      "H    0     0                       0.4904762    0.49048  0.00%     -    0s\n",
      "     0     0    0.49048    0   16    0.49048    0.49048  0.00%     -    0s\n",
      "\n",
      "Cutting planes:\n",
      "  RLT: 28\n",
      "\n",
      "Explored 1 nodes (124 simplex iterations) in 0.17 seconds (0.03 work units)\n",
      "Thread count was 16 (of 16 available processors)\n",
      "\n",
      "Solution count 1: 0.490476 \n",
      "\n",
      "Optimal solution found (tolerance 1.00e-04)\n",
      "Best objective 4.904761904762e-01, best bound 4.904761904762e-01, gap 0.0000%\n",
      "Gurobi Optimizer version 11.0.0 build v11.0.0rc2 (win64 - Windows 11.0 (22621.2))\n",
      "\n",
      "CPU model: 11th Gen Intel(R) Core(TM) i7-11800H @ 2.30GHz, instruction set [SSE2|AVX|AVX2|AVX512]\n",
      "Thread count: 8 physical cores, 16 logical processors, using up to 16 threads\n",
      "\n",
      "Optimize a model with 56 rows, 112 columns and 216 nonzeros\n",
      "Model fingerprint: 0x0f3f04a7\n",
      "Model has 160 quadratic constraints\n",
      "Variable types: 112 continuous, 0 integer (0 binary)\n",
      "Coefficient statistics:\n",
      "  Matrix range     [1e+00, 1e+00]\n",
      "  QMatrix range    [3e-01, 1e+00]\n",
      "  QLMatrix range   [1e+00, 1e+00]\n",
      "  Objective range  [1e+00, 1e+00]\n",
      "  Bounds range     [1e+00, 1e+00]\n",
      "  RHS range        [1e+00, 1e+00]\n",
      "  QRHS range       [5e-03, 3e-01]\n",
      "\n",
      "MIP start from previous solve produced solution with objective 0.490476 (0.02s)\n",
      "Loaded MIP start from previous solve with objective 0.490476\n",
      "\n",
      "Presolve removed 39 rows and 68 columns\n",
      "Presolve time: 0.00s\n",
      "Presolved: 217 rows, 76 columns, 460 nonzeros\n",
      "Presolved model has 48 bilinear constraint(s)\n",
      "\n",
      "Solving non-convex MIQCP\n",
      "\n",
      "Variable types: 76 continuous, 0 integer (0 binary)\n",
      "\n",
      "Root relaxation: objective 1.000000e+00, 49 iterations, 0.00 seconds (0.00 work units)\n",
      "\n",
      "    Nodes    |    Current Node    |     Objective Bounds      |     Work\n",
      " Expl Unexpl |  Obj  Depth IntInf | Incumbent    BestBd   Gap | It/Node Time\n",
      "\n",
      "     0     0    1.00000    0   30    0.49048    1.00000   104%     -    0s\n",
      "     0     0    1.00000    0   34    0.49048    1.00000   104%     -    0s\n",
      "     0     0     cutoff    0         0.49048    0.49048  0.00%     -    0s\n",
      "\n",
      "Cutting planes:\n",
      "  RLT: 25\n",
      "\n",
      "Explored 1 nodes (104 simplex iterations) in 0.10 seconds (0.02 work units)\n",
      "Thread count was 16 (of 16 available processors)\n",
      "\n",
      "Solution count 1: 0.490476 \n",
      "No other solutions better than 0.490476\n",
      "\n",
      "Optimal solution found (tolerance 1.00e-04)\n",
      "Best objective 4.904761904762e-01, best bound 4.904761904762e-01, gap 0.0000%\n",
      "\n",
      "min value:  0.49047619047619045\n",
      "max value:  0.49047619047619045\n",
      "distance: 0.0\n"
     ]
    }
   ],
   "source": [
    "main(1,1)"
   ]
  }
 ],
 "metadata": {
  "kernelspec": {
   "display_name": "Python 3",
   "language": "python",
   "name": "python3"
  },
  "language_info": {
   "codemirror_mode": {
    "name": "ipython",
    "version": 3
   },
   "file_extension": ".py",
   "mimetype": "text/x-python",
   "name": "python",
   "nbconvert_exporter": "python",
   "pygments_lexer": "ipython3",
   "version": "3.10.4"
  }
 },
 "nbformat": 4,
 "nbformat_minor": 2
}
