{
 "cells": [
  {
   "cell_type": "code",
   "execution_count": 1,
   "metadata": {},
   "outputs": [],
   "source": [
    "import gurobipy as gp\n",
    "import numpy as np"
   ]
  },
  {
   "cell_type": "code",
   "execution_count": 9,
   "metadata": {},
   "outputs": [],
   "source": [
    "P_ABC = np.array([[[0.254, 0.24 ],\n",
    "        [0.   , 0.   ]],\n",
    "\n",
    "       [[0.   , 0.   ],\n",
    "        [0.259, 0.247]]])"
   ]
  },
  {
   "cell_type": "code",
   "execution_count": 3,
   "metadata": {},
   "outputs": [],
   "source": [
    "def func(b, a1, a2):\n",
    "    P_A = np.array([sum([P_ABC[a,b,c] for b,c in np.ndindex(2,2)]) for a in range(2)])\n",
    "    P_B = np.array([sum([P_ABC[a,b,c] for a,c in np.ndindex(2,2)]) for b in range(2)])\n",
    "    P_C = np.array([sum([P_ABC[a,b,c] for a,b in np.ndindex(2,2)]) for c in range(2)])\n",
    "\n",
    "\n",
    "    m = gp.Model()\n",
    "    m.setParam('OutputFlag', 0)\n",
    "    Q_Ab_BC_giv_As = m.addMVar((2, 2, 2, 2), name=\"Q\", vtype=gp.GRB.CONTINUOUS, lb=0, ub=1) # A interupted\n",
    "    R_A1A2_B1B2_C1C2_giv_As = m.addMVar((2, 2, 2, 2, 2, 2, 2), name=\"R\", vtype=gp.GRB.CONTINUOUS, lb=0, ub=1) # inflation\n",
    "    m.update()\n",
    "\n",
    "\n",
    "    # consistency\n",
    "    for a, b, c in np.ndindex(2,2,2):\n",
    "        m.addConstr(P_ABC[a,b,c] == Q_Ab_BC_giv_As[a,b,c,a])\n",
    "\n",
    "\n",
    "    ## normalization\n",
    "    for a_s in np.ndindex(2):\n",
    "        m.addConstr(R_A1A2_B1B2_C1C2_giv_As[:,:,:,:,:,:,a_s].sum() == 1)\n",
    "        m.addConstr(Q_Ab_BC_giv_As[:,:,:,a_s].sum() == 1)\n",
    "\n",
    "    ## do conditional on P is a normal conditional on Q\n",
    "    def P_B_do_A(b,a):\n",
    "        return Q_Ab_BC_giv_As[:,b,:,a].sum()\n",
    "\n",
    "\n",
    "    ## graph to graph relations:\n",
    "\n",
    "    # R(A1,B1,C1|A#) = Q(Ab,B,C|A#)\n",
    "    for a,b,c,a_s in np.ndindex(2,2,2,2):\n",
    "        m.addConstr(R_A1A2_B1B2_C1C2_giv_As[a,:,b,:,c,:,a_s].sum() == Q_Ab_BC_giv_As[a,b,c,a_s])\n",
    "\n",
    "    # R(A2,B2,C2|A#) = P(A)P(C)Q(B|A#) = Q(A)Q(C)Q(B|A#)\n",
    "    for a,b,c,a_s in np.ndindex(2,2,2,2):\n",
    "        m.addConstr(R_A1A2_B1B2_C1C2_giv_As[:,a,:,b,:,c,a_s].sum() == P_A[a]*P_C[c]*Q_Ab_BC_giv_As[:,b,:,a_s].sum())\n",
    "        # also == Q_Ab_BC_giv_As[a,b,c,a_s]?\n",
    "\n",
    "    # R(A1,B2|A#) = Q(Ab,B|A#)\n",
    "    for a_b, a_s, b in np.ndindex(2,2,2):\n",
    "        m.addConstr(R_A1A2_B1B2_C1C2_giv_As[a_b,:,:,b,:,:,a_s].sum() == Q_Ab_BC_giv_As[a_b,b,:,a_s].sum())\n",
    "\n",
    "    # # R(C2,A2|A#) = P(A)P(C)\n",
    "    # for c, a, a_s in np.ndindex(2,2,2):\n",
    "    #     m.addConstr(R_A1A2_B1B2_C1C2_giv_As[:,a,:,:,:,c,a_s].sum() == P_A[a]*P_C[c])\n",
    "\n",
    "    # R(A1,A2,C1,C2|A# = 0) = R(A1,A2,C1,C2|A# = 1)\n",
    "    for a1,a2,c1,c2 in np.ndindex(2,2,2,2):\n",
    "        m.addConstr(R_A1A2_B1B2_C1C2_giv_As[a1,a2,:,:,c1,c2,0].sum() == R_A1A2_B1B2_C1C2_giv_As[a1,a2,:,:,c1,c2,1].sum())\n",
    "\n",
    "\n",
    "    # independence on Q\n",
    "\n",
    "    # (Ab ⫫ As| B) on Q: Q(Ab|B,A#=0) = Q(Ab|B, A#=1)\n",
    "    for a_b in range(2):\n",
    "        m.addConstr(Q_Ab_BC_giv_As[a_b,:,:,0].sum() == Q_Ab_BC_giv_As[a_b,:,:,1].sum())\n",
    "\n",
    "    # (C ⫫ As| B) on Q: Q(C|B,A#=0) = Q(C|B,A#=1)\n",
    "    for c in range(2):\n",
    "        m.addConstr(Q_Ab_BC_giv_As[:,:,c,0].sum() == Q_Ab_BC_giv_As[:,:,c,1].sum())\n",
    "\n",
    "\n",
    "\n",
    "    t = m.addVar(name=\"t\", vtype=gp.GRB.CONTINUOUS, lb=0, ub=10)\n",
    "    m.addConstr(P_B_do_A(b,a1) - P_B_do_A(b,a2) <= t)\n",
    "    m.addConstr(P_B_do_A(b, a2) - P_B_do_A(b, a1) <= t)\n",
    "    m.update()\n",
    "\n",
    "\n",
    "    m.setObjective(t, gp.GRB.MINIMIZE)\n",
    "    m.optimize()\n",
    "\n",
    "    if m.status == gp.GRB.OPTIMAL:\n",
    "        print(f\"t={t.X}\\nP_B_do_A({b},{a1})={Q_Ab_BC_giv_As[:,b,:,a1].X.sum()}\\nP_B_do_A({b},{a2})={Q_Ab_BC_giv_As[:,b,:,a2].X.sum()}\")\n",
    "        print(f\"|P_B_do_A({b},{a1}) - P_B_do_A({b},{a2})| =\",abs(Q_Ab_BC_giv_As[:,b,:,a1].X.sum() - Q_Ab_BC_giv_As[:,b,:,a2].X.sum()))\n",
    "    else:\n",
    "        print(\"No solution found\")"
   ]
  },
  {
   "cell_type": "code",
   "execution_count": 11,
   "metadata": {},
   "outputs": [
    {
     "name": "stdout",
     "output_type": "stream",
     "text": [
      "t=0.0\n",
      "P_B_do_A(1,1)=0.678533254395388\n",
      "P_B_do_A(1,1)=0.678533254395388\n",
      "|P_B_do_A(1,1) - P_B_do_A(1,1)| = 0.0\n"
     ]
    }
   ],
   "source": [
    "func(1,1,0)"
   ]
  }
 ],
 "metadata": {
  "kernelspec": {
   "display_name": "Python 3",
   "language": "python",
   "name": "python3"
  },
  "language_info": {
   "codemirror_mode": {
    "name": "ipython",
    "version": 3
   },
   "file_extension": ".py",
   "mimetype": "text/x-python",
   "name": "python",
   "nbconvert_exporter": "python",
   "pygments_lexer": "ipython3",
   "version": "3.10.4"
  }
 },
 "nbformat": 4,
 "nbformat_minor": 2
}
