{
 "cells": [
  {
   "cell_type": "code",
   "execution_count": 1,
   "metadata": {},
   "outputs": [],
   "source": [
    "import numpy as np\n",
    "import itertools\n",
    "import sympy as sp\n",
    "import gurobipy as gp\n",
    "from gurobipy import GRB\n",
    "\n",
    "# Define the four functions\n",
    "\n",
    "## Bin(INT) -> Bin(INT)\n",
    "def identity(x):\n",
    "    return x\n",
    "\n",
    "def swap(x):\n",
    "    return 1-x\n",
    "\n",
    "def to0(_):\n",
    "    return 0\n",
    "\n",
    "def to1(_):\n",
    "    return 1\n",
    "\n",
    "\n",
    "basic_strategies = [identity, swap, to0, to1]\n",
    "all_strategies = list(itertools.product(basic_strategies, repeat=2))"
   ]
  },
  {
   "cell_type": "code",
   "execution_count": 2,
   "metadata": {},
   "outputs": [],
   "source": [
    "def generate_top(u):\n",
    "    f_u, g_u = all_strategies[u]\n",
    "    # print(f\"f_{u} = {f_u.__name__} \\ng_{u} = {g_u.__name__}\\n\")\n",
    "\n",
    "    # value 1 at point(a,b) = (f_u(x),g_u(y)), zero everywhere else\n",
    "    def middle_entry(x,y):\n",
    "        # value 1 at (f_u(x),g_u(y)) zero everywhere else\n",
    "        middle = np.zeros((2,2), dtype=int)\n",
    "        middle[f_u(x), g_u(y)] = 1\n",
    "        return middle\n",
    "\n",
    "    top_level = np.array([\n",
    "                [middle_entry(0,0), middle_entry(1,0)], \n",
    "                [middle_entry(0,1), middle_entry(1,1)]\n",
    "                ]) \n",
    "\n",
    "    return top_level\n",
    "\n",
    "# generate_top(15)"
   ]
  },
  {
   "cell_type": "code",
   "execution_count": 3,
   "metadata": {},
   "outputs": [
    {
     "name": "stdout",
     "output_type": "stream",
     "text": [
      "Set parameter Username\n",
      "Academic license - for non-commercial use only - expires 2025-01-09\n"
     ]
    }
   ],
   "source": [
    "# declaring Gurobi variable W_i w/ i in {0,1,...,15}, and declaring v\n",
    "m = gp.Model()\n",
    "W = m.addVars(16, lb=0, ub=1, vtype=GRB.CONTINUOUS, name=\"W\")\n",
    "v = m.addVar(lb=0, ub=1, vtype=GRB.CONTINUOUS, name=\"v\")\n",
    "m.update()"
   ]
  },
  {
   "cell_type": "code",
   "execution_count": 4,
   "metadata": {},
   "outputs": [],
   "source": [
    "def kron(a, b, x, y):\n",
    "    return int(np.logical_xor(a, b) == np.logical_and(x, y))\n",
    "\n",
    "# generates a Bell experiment distribution based on value of noise v0, \n",
    "# where high noise means classical system and low noise means quantum system.\n",
    "def P_AB_giv_XY(a, b, x, y):\n",
    "    return v*kron(a,b,x,y)/2 + (1-v)/4"
   ]
  },
  {
   "cell_type": "code",
   "execution_count": 5,
   "metadata": {},
   "outputs": [],
   "source": [
    "internal_gurobi_expr = sum([W[i]*generate_top(i) for i in range(16)])"
   ]
  },
  {
   "cell_type": "markdown",
   "metadata": {},
   "source": [
    "\n",
    "internal_gurobi_expr $[x,y,a,b]$  \n",
    "P_AB_giv_XY $(a,b,x,y)$"
   ]
  },
  {
   "cell_type": "markdown",
   "metadata": {},
   "source": [
    "Found summed strategies matrices for all U! (internal_gurobi_exp)"
   ]
  },
  {
   "cell_type": "markdown",
   "metadata": {},
   "source": [
    "## Gurobi Constraints"
   ]
  },
  {
   "cell_type": "code",
   "execution_count": 6,
   "metadata": {},
   "outputs": [],
   "source": [
    "# Add the constraint to the model\n",
    "m.addConstr(W.sum() == 1, \"sum(W_i) == 1\")\n",
    "for x,y, a,b in itertools.product(range(2), repeat=4):\n",
    "    m.addConstr(internal_gurobi_expr[x,y,a,b] == P_AB_giv_XY(a,b,x,y), f\"P({a},{b}|{x},{y}) == {internal_gurobi_expr[x,y,a,b]} == {P_AB_giv_XY(a,b,x,y)}\")\n",
    "\n",
    "\n",
    "# for cons in m.getConstrs():\n",
    "#     print(cons)\n",
    "\n",
    "# reset gurobi constraints\n",
    "# m.remove(m.getConstrs())\n",
    "\n",
    "m.update()"
   ]
  },
  {
   "cell_type": "code",
   "execution_count": 7,
   "metadata": {},
   "outputs": [
    {
     "name": "stdout",
     "output_type": "stream",
     "text": [
      "Gurobi Optimizer version 11.0.0 build v11.0.0rc2 (win64 - Windows 11.0 (22621.2))\n",
      "\n",
      "CPU model: 11th Gen Intel(R) Core(TM) i7-11800H @ 2.30GHz, instruction set [SSE2|AVX|AVX2|AVX512]\n",
      "Thread count: 8 physical cores, 16 logical processors, using up to 16 threads\n",
      "\n",
      "Optimize a model with 17 rows, 17 columns and 96 nonzeros\n",
      "Model fingerprint: 0x48c03462\n",
      "Coefficient statistics:\n",
      "  Matrix range     [3e-01, 1e+00]\n",
      "  Objective range  [1e+00, 1e+00]\n",
      "  Bounds range     [1e+00, 1e+00]\n",
      "  RHS range        [3e-01, 1e+00]\n",
      "Presolve removed 8 rows and 1 columns\n",
      "Presolve time: 0.01s\n",
      "Presolved: 9 rows, 16 columns, 55 nonzeros\n",
      "\n",
      "Iteration    Objective       Primal Inf.    Dual Inf.      Time\n",
      "       0    1.0000000e+00   2.500000e+00   0.000000e+00      0s\n",
      "       9    5.0000000e-01   0.000000e+00   0.000000e+00      0s\n",
      "\n",
      "Solved in 9 iterations and 0.02 seconds (0.00 work units)\n",
      "Optimal objective  5.000000000e-01\n"
     ]
    }
   ],
   "source": [
    "# maximum v?\n",
    "m.setObjective(v, GRB.MAXIMIZE)\n",
    "m.optimize()"
   ]
  },
  {
   "cell_type": "code",
   "execution_count": 8,
   "metadata": {},
   "outputs": [
    {
     "data": {
      "text/plain": [
       "<gurobi.Var v (value 0.5)>"
      ]
     },
     "execution_count": 8,
     "metadata": {},
     "output_type": "execute_result"
    }
   ],
   "source": [
    "v"
   ]
  }
 ],
 "metadata": {
  "kernelspec": {
   "display_name": "Python 3",
   "language": "python",
   "name": "python3"
  },
  "language_info": {
   "codemirror_mode": {
    "name": "ipython",
    "version": 3
   },
   "file_extension": ".py",
   "mimetype": "text/x-python",
   "name": "python",
   "nbconvert_exporter": "python",
   "pygments_lexer": "ipython3",
   "version": "3.10.4"
  }
 },
 "nbformat": 4,
 "nbformat_minor": 2
}
