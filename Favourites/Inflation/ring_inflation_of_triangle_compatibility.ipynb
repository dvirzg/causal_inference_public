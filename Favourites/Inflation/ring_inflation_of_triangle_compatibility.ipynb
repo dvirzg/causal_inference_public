{
 "cells": [
  {
   "cell_type": "markdown",
   "metadata": {},
   "source": [
    "## Ring Inflation of the Triangle - Compatibility Test\n",
    "---"
   ]
  },
  {
   "cell_type": "code",
   "execution_count": null,
   "metadata": {},
   "outputs": [],
   "source": [
    "import gurobipy as gp\n",
    "import numpy as np"
   ]
  },
  {
   "cell_type": "code",
   "execution_count": null,
   "metadata": {},
   "outputs": [],
   "source": [
    "# P_ABC = {(0,0,0): 0,\n",
    "#          (0,0,1): 1/3,\n",
    "#          (0,1,0): 1/3,\n",
    "#          (1,0,0): 1/3,\n",
    "#          (0,1,1): 0,\n",
    "#          (1,0,1): 0,\n",
    "#          (1,1,0): 0,\n",
    "#          (1,1,1): 0}\n",
    "\n",
    "P_ABC = {(0,0,0): 1/4,\n",
    "         (0,0,1): 1/4,\n",
    "         (0,1,0): 1/4,\n",
    "         (1,0,0): 1/4,\n",
    "         (0,1,1): 0,\n",
    "         (1,0,1): 0,\n",
    "         (1,1,0): 0,\n",
    "         (1,1,1): 0}\n",
    "\n",
    "def get_funcs(P_ABC):\n",
    "    P_A = np.array([sum([P_ABC[a,b,c] for b,c in np.ndindex(2,2)]) for a in range(2)])\n",
    "    P_B = np.array([sum([P_ABC[a,b,c] for a,c in np.ndindex(2,2)]) for b in range(2)])\n",
    "    P_C = np.array([sum([P_ABC[a,b,c] for a,b in np.ndindex(2,2)]) for c in range(2)])\n",
    "\n",
    "    P_AB = np.array([[sum([P_ABC[a,b,c] for c in range(2)]) for b in range(2)] for a in range(2)])\n",
    "    P_AC = np.array([[sum([P_ABC[a,b,c] for b in range(2)]) for c in range(2)] for a in range(2)])\n",
    "    P_BC = np.array([[sum([P_ABC[a,b,c] for a in range(2)]) for c in range(2)] for b in range(2)])\n",
    "\n",
    "    return P_A, P_B, P_C, P_AB, P_AC, P_BC\n",
    "\n",
    "P_A, P_B, P_C, P_AB, P_AC, P_BC = get_funcs(P_ABC)"
   ]
  },
  {
   "cell_type": "code",
   "execution_count": null,
   "metadata": {},
   "outputs": [],
   "source": [
    "m = gp.Model()\n",
    "# m.params.NonConvex = 2\n",
    "\n",
    "Q_A1_A2_B1_B2_C1_C2 = m.addMVar((2,2,2,2,2, 2), name=\"P\", vtype=gp.GRB.CONTINUOUS, lb=0, ub=1)\n",
    "m.update()"
   ]
  },
  {
   "cell_type": "code",
   "execution_count": null,
   "metadata": {},
   "outputs": [],
   "source": [
    "def Q_A1_A2_B1_B2(a1,a2,b1,b2):\n",
    "    return Q_A1_A2_B1_B2_C1_C2[a1,a2,b1,b2,:,:].sum()\n",
    "\n",
    "def Q_B1_B2_C1_C2(b1,b2,c1,c2):\n",
    "    return Q_A1_A2_B1_B2_C1_C2[:,:,b1,b2,c1,c2].sum()\n",
    "\n",
    "def Q_A1_A2_C1_C2(a1,a2,c1,c2):\n",
    "    return Q_A1_A2_B1_B2_C1_C2[a1,a2,:,:,c1,c2].sum()\n",
    "\n",
    "def Q_A1_B2_C1(a1,b2,c1):\n",
    "    return Q_A1_A2_B1_B2_C1_C2[a1,:,:,b2,c1,:].sum()\n",
    "\n",
    "m.update()"
   ]
  },
  {
   "cell_type": "code",
   "execution_count": null,
   "metadata": {},
   "outputs": [],
   "source": [
    "## Expressability:\n",
    "for a1,a2,b1,b2 in np.ndindex(2,2,2,2): # (2)\n",
    "    m.addConstr(Q_A1_A2_B1_B2(a1,a2,b1,b2) == P_AB[a1,b1]*P_AB[a2,b2], \n",
    "                name=f\"Q_A1_A2_B1_B2({a1},{a2},{b1},{b2}) = {Q_A1_A2_B1_B2(a1,a2,b1,b2)} =  {P_AB[a1,b1]*P_AB[a2,b2]}\")\n",
    "\n",
    "for b1,b2,c1,c2 in np.ndindex(2,2,2,2): # (3)\n",
    "    m.addConstr(Q_B1_B2_C1_C2(b1,b2,c1,c2) == P_BC[b1,c1]*P_BC[b2,c2], \n",
    "                name=f\"Q_B1_B2_C1_C2({b1},{b2},{c1},{c2}) = {Q_B1_B2_C1_C2(b1,b2,c1,c2)} = {P_BC[b1,c1]*P_BC[b2,c2]}\")\n",
    "\n",
    "for a1,a2,c1,c2 in np.ndindex(2,2,2,2): # (4)\n",
    "    m.addConstr(Q_A1_A2_C1_C2(a1,a2,c1,c2) == P_AC[a1,c2]*P_AC[a2,c1], \n",
    "                name=f\"Q_A1_A2_C1_C2({a1},{a2},{c1},{c2}) = {Q_A1_A2_C1_C2(a1,a2,c1,c2)} =  {P_AC[a1,c2]*P_AC[a2,c1]}\")\n",
    "\n",
    "for a,b,c in np.ndindex(2,2,2): # (5)\n",
    "    m.addConstr(Q_A1_B2_C1(a,b,c) == P_A[a]*P_B[b]*P_C[c], \n",
    "                name=f\"Q_A1_B2_C1({a},{b},{c}) = {P_A[a]*P_B[b]*P_C[c]}\") # {#Q_A1_B2_C1(a,b,c)} =\n",
    "\n",
    "# Symmetry:\n",
    "for a1, a2, b1, b2, c1, c2 in np.ndindex(2, 2, 2, 2, 2, 2): # (6)\n",
    "    m.addConstr(Q_A1_A2_B1_B2_C1_C2[a1, a2, b1, b2, c1, c2] == Q_A1_A2_B1_B2_C1_C2[a2, a1, b2, b1, c2, c1], \n",
    "                name=f\"Q_A1_A2_B1_B2_C1_C2({a1},{a2},{b1},{b2},{c1},{c2}) = Q_A1_A2_B1_B2_C1_C2({a2},{a1},{b2},{b1},{c2},{c1})\")\n",
    "\n",
    "# summation to 1:\n",
    "m.addConstr(Q_A1_A2_B1_B2_C1_C2.sum() == 1)"
   ]
  },
  {
   "cell_type": "code",
   "execution_count": null,
   "metadata": {},
   "outputs": [],
   "source": []
  },
  {
   "cell_type": "code",
   "execution_count": null,
   "metadata": {},
   "outputs": [],
   "source": [
    "## Expressability:\n",
    "for a1,a2,b1,b2 in np.ndindex(2,2,2,2): # (2)\n",
    "    print(f\"{Q_A1_A2_B1_B2(a1,a2,b1,b2)} =  {P_AB[a1,b1]*P_AB[a2,b2]}\")\n",
    "\n",
    "for b1,b2,c1,c2 in np.ndindex(2,2,2,2): # (3)\n",
    "    print(f\"{Q_B1_B2_C1_C2(b1,b2,c1,c2)} = {P_BC[b1,c1]*P_BC[b2,c2]}\")\n",
    "\n",
    "for a1,a2,c1,c2 in np.ndindex(2,2,2,2): # (4)\n",
    "    print(f\"{Q_A1_A2_C1_C2(a1,a2,c1,c2)} =  {P_AC[a1,c2]*P_AC[a2,c1]}\")\n",
    "\n",
    "for a,b,c in np.ndindex(2,2,2): # (5)\n",
    "    print(f\"{Q_A1_B2_C1(a,b,c)} = {P_A[a]*P_B[b]*P_C[c]}\")\n",
    "\n",
    "# Symmetry:\n",
    "# for a1, a2, b1, b2, c1, c2 in np.ndindex(2, 2, 2, 2, 2, 2): # (6)\n",
    "#     print(f\"Q_A1_A2_B1_B2_C1_C2({a1},{a2},{b1},{b2},{c1},{c2}) = Q_A1_A2_B1_B2_C1_C2({a2},{a1},{b2},{b1},{c2},{c1})\")"
   ]
  },
  {
   "cell_type": "code",
   "execution_count": null,
   "metadata": {},
   "outputs": [],
   "source": [
    "m.optimize()\n",
    "# check if exists a solution:\n",
    "if m.status == gp.GRB.OPTIMAL:\n",
    "    print(\"Compatible!\")\n",
    "    for a1,a2,b1,b2,c1,c2 in np.ndindex(2,2,2,2,2,2):\n",
    "        print(f\"Q({a1},{a2},{b1},{b2},{c1},{c2}) = {Q_A1_A2_B1_B2_C1_C2[a1,a2,b1,b2,c1,c2].X}\")\n",
    "else:\n",
    "    print(\"Incompatible!\")"
   ]
  },
  {
   "cell_type": "code",
   "execution_count": null,
   "metadata": {},
   "outputs": [],
   "source": [
    "# Q_shape = (2,2,2,2,2,2)\n",
    "# n_col = np.prod(Q_shape) # num of columns\n",
    "# Q_base_old = m.addMVar(shape=Q_shape, vtype=gp.GRB.CONTINUOUS, name=\"prob(A1,B1,C1,A2,B2,C2)\", lb=0, ub=1)\n",
    "# Q_base = np.eye(64).reshape(Q_shape+(n_col,)) # id matrix\n",
    "\n",
    "\n",
    "\n",
    "# b_vec = []\n",
    "# b_vec_symbolic = []\n",
    "# A_mat = []\n",
    "\n",
    "# for a1, b1, a2, b2 in np.ndindex(2,2,2,2):\n",
    "#     A_mat.append(Q_A1_A2_B1_B2(a1,a2,b1,b2))\n",
    "#     b_vec.append(P_AB[a1,b1]*P_AB[a2,b2])\n",
    "#     b_vec_symbolic.append(f\"P_AB({a1},{b1})*P_AB({a2},{b2})\")\n",
    "\n",
    "# for b1, c1, b2, c2 in np.ndindex(2,2,2,2):\n",
    "#     A_mat.append(Q_B1_B2_C1_C2(b1,b2,c1,c2))\n",
    "#     b_vec.append(P_BC[b1,c1]*P_BC[b2,c2])\n",
    "#     b_vec_symbolic.append(f\"P_BC({b1},{c1})*P_BC({b2},{c2})\")\n",
    "# for a1, c1, a2, c2 in np.ndindex(2,2,2,2):\n",
    "#     A_mat.append(Q_A1_A2_C1_C2(a1,a2,c1,c2))\n",
    "#     b_vec.append(P_AC[a1,c2]*P_AC[a2,c1])\n",
    "#     b_vec_symbolic.append(f\"P_AC({a1},{c2})*P_AC({a2},{c1})\")\n",
    "\n",
    "# for a1,c1,b2 in np.ndindex(2,2,2):\n",
    "#     # m.addConstr(Q_A1C1B2(a1,c1,b2) == P_A(a1)*P_C(c1)*P_B(b2))\n",
    "#     A_mat.append(Q_A1_B2_C1(a1,b2,c1))\n",
    "#     b_vec.append(P_A[a1]*P_C[c1]*P_B[b2])\n",
    "#     b_vec_symbolic.append(f\"P_A({a1})*P_C({c1})*P_B({b2})\")\n",
    "\n",
    "# A = np.asarray(A_mat)\n",
    "# b = np.asarray(b_vec)\n",
    "# # m.addMConstr(A, Q_base_old.reshape(-1), '=', b)\n",
    "# m.update()"
   ]
  }
 ],
 "metadata": {
  "kernelspec": {
   "display_name": "Python 3",
   "language": "python",
   "name": "python3"
  },
  "language_info": {
   "codemirror_mode": {
    "name": "ipython",
    "version": 3
   },
   "file_extension": ".py",
   "mimetype": "text/x-python",
   "name": "python",
   "nbconvert_exporter": "python",
   "pygments_lexer": "ipython3",
   "version": "3.10.4"
  }
 },
 "nbformat": 4,
 "nbformat_minor": 2
}
