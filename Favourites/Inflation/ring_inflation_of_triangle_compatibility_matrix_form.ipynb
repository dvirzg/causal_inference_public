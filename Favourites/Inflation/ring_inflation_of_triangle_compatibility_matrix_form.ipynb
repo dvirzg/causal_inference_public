{
 "cells": [
  {
   "cell_type": "markdown",
   "metadata": {},
   "source": [
    "## Ring Inflation of the Triangle - Compatibility Test\n",
    "---"
   ]
  },
  {
   "cell_type": "code",
   "execution_count": 1,
   "metadata": {},
   "outputs": [],
   "source": [
    "import gurobipy as gp\n",
    "import numpy as np\n",
    "from collections import defaultdict"
   ]
  },
  {
   "cell_type": "code",
   "execution_count": 2,
   "metadata": {},
   "outputs": [],
   "source": [
    "P_ABC = {(0,0,0): 0,\n",
    "         (0,0,1): 1/3,\n",
    "         (0,1,0): 1/3,\n",
    "         (1,0,0): 1/3,\n",
    "         (0,1,1): 0,\n",
    "         (1,0,1): 0,\n",
    "         (1,1,0): 0,\n",
    "         (1,1,1): 0}\n",
    "\n",
    "# P_ABC = {(0,0,0): 1/4,\n",
    "#          (0,0,1): 1/4,\n",
    "#          (0,1,0): 1/4,\n",
    "#          (1,0,0): 1/4,\n",
    "#          (0,1,1): 0,\n",
    "#          (1,0,1): 0,\n",
    "#          (1,1,0): 0,\n",
    "#          (1,1,1): 0}\n",
    "\n",
    "def get_funcs(P_ABC):\n",
    "    P_A = np.array([sum([P_ABC[a,b,c] for b,c in np.ndindex(2,2)]) for a in range(2)])\n",
    "    P_B = np.array([sum([P_ABC[a,b,c] for a,c in np.ndindex(2,2)]) for b in range(2)])\n",
    "    P_C = np.array([sum([P_ABC[a,b,c] for a,b in np.ndindex(2,2)]) for c in range(2)])\n",
    "\n",
    "    P_AB = np.array([[sum([P_ABC[a,b,c] for c in range(2)]) for b in range(2)] for a in range(2)])\n",
    "    P_AC = np.array([[sum([P_ABC[a,b,c] for b in range(2)]) for c in range(2)] for a in range(2)])\n",
    "    P_BC = np.array([[sum([P_ABC[a,b,c] for a in range(2)]) for c in range(2)] for b in range(2)])\n",
    "\n",
    "    return P_A, P_B, P_C, P_AB, P_AC, P_BC\n",
    "\n",
    "P_A, P_B, P_C, P_AB, P_AC, P_BC = get_funcs(P_ABC)"
   ]
  },
  {
   "cell_type": "code",
   "execution_count": 3,
   "metadata": {},
   "outputs": [
    {
     "name": "stdout",
     "output_type": "stream",
     "text": [
      "Set parameter Username\n",
      "Academic license - for non-commercial use only - expires 2025-01-09\n",
      "Set parameter InfUnbdInfo to value 1\n"
     ]
    }
   ],
   "source": [
    "m = gp.Model()\n",
    "m.params.InfUnbdInfo = 1\n",
    "\n",
    "Q_A1_A2_B1_B2_C1_C2 = m.addMVar((2,2,2,2,2, 2), name=\"P\", vtype=gp.GRB.CONTINUOUS, lb=0, ub=1)\n",
    "m.update()"
   ]
  },
  {
   "cell_type": "code",
   "execution_count": 4,
   "metadata": {},
   "outputs": [
    {
     "name": "stdout",
     "output_type": "stream",
     "text": [
      "Gurobi Optimizer version 11.0.1 build v11.0.1rc0 (win64 - Windows 11.0 (22631.2))\n",
      "\n",
      "CPU model: 11th Gen Intel(R) Core(TM) i7-11800H @ 2.30GHz, instruction set [SSE2|AVX|AVX2|AVX512]\n",
      "Thread count: 8 physical cores, 16 logical processors, using up to 16 threads\n",
      "\n",
      "Optimize a model with 64 rows, 128 columns and 320 nonzeros\n",
      "Model fingerprint: 0x7ad01fd8\n",
      "Coefficient statistics:\n",
      "  Matrix range     [1e+00, 1e+00]\n",
      "  Objective range  [4e-02, 3e-01]\n",
      "  Bounds range     [1e+00, 1e+00]\n",
      "  RHS range        [0e+00, 0e+00]\n",
      "Presolve removed 13 rows and 85 columns\n",
      "Presolve time: 0.00s\n",
      "Presolved: 51 rows, 43 columns, 210 nonzeros\n",
      "\n",
      "Iteration    Objective       Primal Inf.    Dual Inf.      Time\n",
      "       0   -4.8518519e+00   2.160000e+02   0.000000e+00      0s\n",
      "      50   -2.5925926e-01   0.000000e+00   0.000000e+00      0s\n",
      "\n",
      "Solved in 50 iterations and 0.03 seconds (0.00 work units)\n",
      "Optimal objective -2.592592593e-01\n",
      "y⋅b: -0.25925925925925963\n"
     ]
    }
   ],
   "source": [
    "Q_shape = (2,2,2,2,2,2)\n",
    "n_col = np.prod(Q_shape)\n",
    "Q_base = np.eye(64).reshape(Q_shape+(n_col,))\n",
    "\n",
    "b_vec = []\n",
    "b_vec_symbolic = []\n",
    "\n",
    "A_mat = []\n",
    "\n",
    "for a1, a2, b1, b2 in np.ndindex(2, 2, 2, 2):\n",
    "    A_mat.append(sum(sum(Q_base[a1,a2,b1,b2,:,:]))) # Q_A1_A2_B1_B2(a1,a2,b1,b2)\n",
    "    b_vec.append(P_AB[a1,b1]*P_AB[a2,b2])\n",
    "    b_vec_symbolic.append(\"*\".join(sorted([f\"P_AB({a1},{b1})\",f\"P_AB({a2},{b2})\"])))\n",
    "\n",
    "\n",
    "for b1, b2, c1, c2 in np.ndindex(2, 2, 2, 2):\n",
    "    A_mat.append(sum(sum(Q_base[:,:,b1,b2,c1,c2]))) # Q_B1_B2_C1_C2(b1,b2,c1,c2)\n",
    "    b_vec.append(P_BC[b1,c1]*P_BC[b2,c2])\n",
    "    b_vec_symbolic.append(\"*\".join(sorted([f\"P_BC({b1},{c1})\",f\"P_BC({b2},{c2})\"])))\n",
    "\n",
    "\n",
    "for a1, a2, c1, c2 in np.ndindex(2, 2, 2, 2):\n",
    "    A_mat.append(sum(sum(Q_base[a1,a2,:,:,c1,c2]))) # Q_A1_A2_C1_C2(a1,a2,c1,c2)\n",
    "    b_vec.append(P_AC[a1,c2]*P_AC[a2,c1])\n",
    "    b_vec_symbolic.append(\"*\".join(sorted([f\"P_AC({a1},{c2})\",f\"P_AC({a2},{c1})\"])))\n",
    "\n",
    "\n",
    "for a,b,c in np.ndindex(2, 2, 2):\n",
    "    # symmetry\n",
    "    A_mat.append(sum(sum(sum(Q_base[a,:,:,b,c,:])))) # Q_A1_B2_C1(a,b,c)\n",
    "    b_vec.append(P_A[a]*P_C[c]*P_B[b])\n",
    "    b_vec_symbolic.append(f\"P_A({a})*P_C({c})*P_B({b})\")\n",
    "    \n",
    "    A_mat.append(sum(sum(sum(Q_base[:,a,b,:,:,c])))) # Q_A2_B1_C2(a,b,c)\n",
    "    b_vec.append(P_A[a]*P_C[c]*P_B[b])\n",
    "    b_vec_symbolic.append(f\"P_A({a})*P_C({c})*P_B({b})\")\n",
    "\n",
    "\n",
    "m.update()\n",
    "\n",
    "A = np.asarray(A_mat)\n",
    "b = np.asarray(b_vec)\n",
    "y = m.addMVar(shape=len(b), vtype=gp.GRB.CONTINUOUS, name=\"y\", lb=-1, ub=1)\n",
    "m.setObjective(y @ b, gp.GRB.MINIMIZE)\n",
    "m.addMConstr(A.T, y, '>=', [0]*n_col)\n",
    "m.optimize()\n",
    "\n",
    "print(\"y⋅b:\", m.objVal)"
   ]
  },
  {
   "cell_type": "code",
   "execution_count": 8,
   "metadata": {},
   "outputs": [
    {
     "data": {
      "text/plain": [
       "<MLinExpr (64, 64)>\n",
       "array([[ y[0],  y[1],  y[2], ...,  0.0 y[61],  0.0 y[62],  0.0 y[63]],\n",
       "       [ 0.0 y[0],  0.0 y[1],  0.0 y[2], ...,  0.0 y[61],  0.0 y[62],\n",
       "         0.0 y[63]],\n",
       "       [ 0.0 y[0],  0.0 y[1],  0.0 y[2], ...,  0.0 y[61],  0.0 y[62],\n",
       "         0.0 y[63]],\n",
       "       ...,\n",
       "       [ 0.0 y[0],  0.0 y[1],  0.0 y[2], ...,  0.0 y[61],  y[62],\n",
       "         0.0 y[63]],\n",
       "       [ 0.0 y[0],  0.0 y[1],  0.0 y[2], ...,  0.0 y[61],  y[62],  y[63]],\n",
       "       [ 0.0 y[0],  0.0 y[1],  0.0 y[2], ...,  y[61],  0.0 y[62],  y[63]]])"
      ]
     },
     "execution_count": 8,
     "metadata": {},
     "output_type": "execute_result"
    }
   ],
   "source": [
    "A*y"
   ]
  },
  {
   "cell_type": "code",
   "execution_count": 6,
   "metadata": {},
   "outputs": [
    {
     "name": "stdout",
     "output_type": "stream",
     "text": [
      "P_AB(0,0)*P_AB(0,0) * 1.0\n",
      "P_AB(0,0)*P_AB(0,1) * -1.0\n",
      "P_AB(0,0)*P_AB(1,0) * -2.0\n",
      "P_AB(0,0)*P_AB(1,1) * 2.0\n",
      "P_AB(0,1)*P_AB(1,1) * 2.0\n",
      "P_AB(1,0)*P_AB(1,0) * -1.0\n",
      "P_AB(1,0)*P_AB(1,1) * 2.0\n",
      "P_AB(1,1)*P_AB(1,1) * 1.0\n",
      "P_BC(0,0)*P_BC(0,0) * 1.0\n",
      "P_BC(0,0)*P_BC(0,1) * -2.0\n",
      "P_BC(0,1)*P_BC(0,1) * -1.0\n",
      "P_BC(0,0)*P_BC(1,1) * 2.0\n",
      "P_BC(0,1)*P_BC(1,1) * 2.0\n",
      "P_BC(0,0)*P_BC(1,0) * -1.0\n",
      "P_BC(1,0)*P_BC(1,0) * -1.0\n",
      "P_BC(1,0)*P_BC(1,1) * 2.0\n",
      "P_BC(1,1)*P_BC(1,1) * 1.0\n",
      "P_AC(0,0)*P_AC(0,0) * 1.0\n",
      "P_AC(0,0)*P_AC(0,1) * -2.0\n",
      "P_AC(0,1)*P_AC(0,1) * -1.0\n",
      "P_AC(0,0)*P_AC(1,0) * -2.0\n",
      "P_AC(0,0)*P_AC(1,1) * 2.0\n",
      "P_AC(0,1)*P_AC(1,1) * 2.0\n",
      "P_AC(0,1)*P_AC(1,0) * 1.0\n",
      "P_AC(1,0)*P_AC(1,0) * -1.0\n",
      "P_AC(1,0)*P_AC(1,1) * 2.0\n",
      "P_AC(1,1)*P_AC(1,1) * 1.0\n",
      "P_A(0)*P_C(0)*P_B(0) * 1.0\n",
      "P_A(0)*P_C(1)*P_B(0) * 1.0\n",
      "P_A(0)*P_C(1)*P_B(1) * 2.0\n",
      "P_A(1)*P_C(0)*P_B(0) * 1.0\n",
      "P_A(1)*P_C(1)*P_B(0) * 2.0\n",
      "P_A(1)*P_C(0)*P_B(1) * 2.0\n",
      "P_A(1)*P_C(1)*P_B(1) * -2.0\n"
     ]
    }
   ],
   "source": [
    "solution_dict = defaultdict(int)\n",
    "for name, val in zip(b_vec_symbolic, y.X):\n",
    "    if val != 0:\n",
    "        solution_dict[name] += val\n",
    "for key, val in solution_dict.items():\n",
    "    if val != 0:\n",
    "        print(f\"{key} * {val}\")\n",
    "# print(\"Optimal solution:\", y.X)"
   ]
  }
 ],
 "metadata": {
  "kernelspec": {
   "display_name": "Python 3",
   "language": "python",
   "name": "python3"
  },
  "language_info": {
   "codemirror_mode": {
    "name": "ipython",
    "version": 3
   },
   "file_extension": ".py",
   "mimetype": "text/x-python",
   "name": "python",
   "nbconvert_exporter": "python",
   "pygments_lexer": "ipython3",
   "version": "3.10.4"
  }
 },
 "nbformat": 4,
 "nbformat_minor": 2
}
