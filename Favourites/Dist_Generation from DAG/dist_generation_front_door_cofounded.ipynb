{
 "cells": [
  {
   "cell_type": "markdown",
   "metadata": {},
   "source": [
    "## Distribution generation\n",
    "---"
   ]
  },
  {
   "cell_type": "markdown",
   "metadata": {},
   "source": [
    "for the DAG: Z->A->M->Y with hidden common variables U_AY, U_MY"
   ]
  },
  {
   "cell_type": "markdown",
   "metadata": {},
   "source": [
    "$P_{ZAMY}$ as a dictionary"
   ]
  },
  {
   "cell_type": "code",
   "execution_count": 1,
   "metadata": {},
   "outputs": [],
   "source": [
    "import itertools\n",
    "import random\n",
    "\n",
    "def generate_probabilities():\n",
    "    # Generate base probabilities for P(Z|A) and P(M|A)\n",
    "    base_probs_z_given_a = {(z, a): random.random() for z in [0, 1] for a in [0, 1]}\n",
    "    base_probs_m_given_a = {(m, a): random.random() for m in [0, 1] for a in [0, 1]}\n",
    "    \n",
    "    # Normalize these probabilities to ensure they sum to 1 for each value of A\n",
    "    for a in [0, 1]:\n",
    "        total_z = sum(base_probs_z_given_a[(z, a)] for z in [0, 1])\n",
    "        total_m = sum(base_probs_m_given_a[(m, a)] for m in [0, 1])\n",
    "        for z in [0, 1]:\n",
    "            base_probs_z_given_a[(z, a)] /= total_z\n",
    "        for m in [0, 1]:\n",
    "            base_probs_m_given_a[(m, a)] /= total_m\n",
    "    \n",
    "    # Generate probabilities for Y independently (simplification)\n",
    "    probs_y = {y: random.random() for y in [0, 1]}\n",
    "    total_y = sum(probs_y.values())\n",
    "    for y in [0, 1]:\n",
    "        probs_y[y] /= total_y\n",
    "    \n",
    "    # Combine to generate P(Z, A, M, Y) respecting Z ⊥ M | A\n",
    "    distribution = {}\n",
    "    for z, a, m, y in itertools.product([0, 1], repeat=4):\n",
    "        p_z_given_a = base_probs_z_given_a[(z, a)]\n",
    "        p_m_given_a = base_probs_m_given_a[(m, a)]\n",
    "        p_y = probs_y[y]\n",
    "        # Assuming P(A) is uniform for simplification\n",
    "        p_a = 0.5\n",
    "        distribution[(z, a, m, y)] = round(p_z_given_a * p_m_given_a * p_y * p_a, 3)\n",
    "    \n",
    "    return distribution\n",
    "\n",
    "# Generate the distribution\n",
    "# P_obs_dict = generate_probabilities()\n",
    "# P_obs_dict"
   ]
  },
  {
   "cell_type": "markdown",
   "metadata": {},
   "source": [
    "list of pre-processed distributions w/ valid conditional independences:"
   ]
  },
  {
   "cell_type": "code",
   "execution_count": 2,
   "metadata": {},
   "outputs": [],
   "source": [
    "# (Z, A, M, Y) -> P(Z, A, M, Y)\n",
    "P_obs1 = {(0, 0, 0, 0): 0.336,\n",
    " (0, 0, 1, 0): 0.084,\n",
    " (0, 1, 0, 0): 0.056,\n",
    " (0, 1, 1, 0): 0.224,\n",
    " (1, 0, 0, 0): 0.096,\n",
    " (1, 0, 1, 0): 0.024,\n",
    " (1, 1, 0, 0): 0.036,\n",
    " (1, 1, 1, 0): 0.144,\n",
    " (0, 0, 0, 1): 0.144,\n",
    " (0, 0, 1, 1): 0.036,\n",
    " (0, 1, 0, 1): 0.024,\n",
    " (0, 1, 1, 1): 0.096,\n",
    " (1, 0, 0, 1): 0.224,\n",
    " (1, 0, 1, 1): 0.056,\n",
    " (1, 1, 0, 1): 0.084,\n",
    " (1, 1, 1, 1): 0.336}\n",
    "P_obs2 = {(0, 0, 0, 0): 0.015,\n",
    "(0, 0, 1, 0): 0.087,\n",
    "(0, 1, 0, 0): 0.176,\n",
    "(0, 1, 1, 0): 0.2,\n",
    "(1, 0, 0, 0): 0.038,\n",
    "(1, 0, 1, 0): 0.221,\n",
    "(1, 1, 0, 0): 0.124,\n",
    "(1, 1, 1, 0): 0.141,\n",
    "(0, 0, 0, 1): 0.016,\n",
    "(0, 0, 1, 1): 0.094,\n",
    "(0, 1, 0, 1): 0.19,\n",
    "(0, 1, 1, 1): 0.216,\n",
    "(1, 0, 0, 1): 0.035,\n",
    "(1, 0, 1, 1): 0.205,\n",
    "(1, 1, 0, 1): 0.115,\n",
    "(1, 1, 1, 1): 0.131}\n",
    "P_obs3 = {(0, 0, 0, 0): 0.097,\n",
    " (0, 0, 0, 1): 0.08,\n",
    " (0, 0, 1, 0): 0.052,\n",
    " (0, 0, 1, 1): 0.043,\n",
    " (0, 1, 0, 0): 0.02,\n",
    " (0, 1, 0, 1): 0.016,\n",
    " (0, 1, 1, 0): 0.078,\n",
    " (0, 1, 1, 1): 0.065,\n",
    " (1, 0, 0, 0): 0.081,\n",
    " (1, 0, 0, 1): 0.067,\n",
    " (1, 0, 1, 0): 0.044,\n",
    " (1, 0, 1, 1): 0.036,\n",
    " (1, 1, 0, 0): 0.035,\n",
    " (1, 1, 0, 1): 0.029,\n",
    " (1, 1, 1, 0): 0.141,\n",
    " (1, 1, 1, 1): 0.116}\n",
    "P_obs4 = {(0, 0, 0, 0): 0.097,\n",
    " (0, 0, 0, 1): 0.08,\n",
    " (0, 0, 1, 0): 0.052,\n",
    " (0, 0, 1, 1): 0.043,\n",
    " (0, 1, 0, 0): 0.02,\n",
    " (0, 1, 0, 1): 0.016,\n",
    " (0, 1, 1, 0): 0.078,\n",
    " (0, 1, 1, 1): 0.065,\n",
    " (1, 0, 0, 0): 0.081,\n",
    " (1, 0, 0, 1): 0.067,\n",
    " (1, 0, 1, 0): 0.044,\n",
    " (1, 0, 1, 1): 0.036,\n",
    " (1, 1, 0, 0): 0.035,\n",
    " (1, 1, 0, 1): 0.029,\n",
    " (1, 1, 1, 0): 0.141,\n",
    " (1, 1, 1, 1): 0.116}\n",
    "\n",
    "\n",
    " # false:\n",
    "# invalid:\n",
    "P_obs5 =  {(0, 0, 0, 0): 0.062,\n",
    " (0, 0, 0, 1): 0.067,\n",
    " (0, 0, 1, 0): 0.018,\n",
    " (0, 0, 1, 1): 0.124,\n",
    " (0, 1, 0, 0): 0.036,\n",
    " (0, 1, 0, 1): 0.019,\n",
    " (0, 1, 1, 0): 0.012,\n",
    " (0, 1, 1, 1): 0.099,\n",
    " (1, 0, 0, 0): 0.051,\n",
    " (1, 0, 0, 1): 0.011,\n",
    " (1, 0, 1, 0): 0.1,\n",
    " (1, 0, 1, 1): 0.086,\n",
    " (1, 1, 0, 0): 0.075,\n",
    " (1, 1, 0, 1): 0.117,\n",
    " (1, 1, 1, 0): 0.103,\n",
    " (1, 1, 1, 1): 0.02}"
   ]
  },
  {
   "cell_type": "code",
   "execution_count": 3,
   "metadata": {},
   "outputs": [],
   "source": [
    "num = 0 # chose which to use\n",
    "P_obs_lst = [P_obs1, P_obs2, P_obs3, P_obs4, P_obs5]\n",
    "P_obs_dict = P_obs_lst[num]"
   ]
  },
  {
   "cell_type": "markdown",
   "metadata": {},
   "source": [
    "testing conditinoal independences:"
   ]
  },
  {
   "cell_type": "code",
   "execution_count": 4,
   "metadata": {},
   "outputs": [],
   "source": [
    "def test_conditional_independence(distribution):\n",
    "    \"\"\"Test for conditional independence Z ⊥ M | A.\"\"\"\n",
    "    # Calculate conditional probabilities\n",
    "    p_z_given_a = {(z, a): 0 for z in [0, 1] for a in [0, 1]}\n",
    "    p_m_given_a = {(m, a): 0 for m in [0, 1] for a in [0, 1]}\n",
    "    p_z_m_given_a = {(z, m, a): 0 for z in [0, 1] for m in [0, 1] for a in [0, 1]}\n",
    "    \n",
    "    # Sum probabilities for calculating conditional probabilities\n",
    "    for (z, a, m, y), prob in distribution.items():\n",
    "        p_z_given_a[(z, a)] += prob\n",
    "        p_m_given_a[(m, a)] += prob\n",
    "        p_z_m_given_a[(z, m, a)] += prob\n",
    "    \n",
    "    # Normalize by P(A) to get conditional probabilities\n",
    "    for key in p_z_given_a.keys():\n",
    "        _, a = key\n",
    "        p_a = sum(distribution[(z, a, m, y)] for z in [0, 1] for m in [0, 1] for y in [0, 1])\n",
    "        p_z_given_a[key] /= p_a\n",
    "        p_m_given_a[key] /= p_a\n",
    "        for m in [0, 1]:\n",
    "            p_z_m_given_a[(key[0], m, a)] /= p_a\n",
    "    \n",
    "    # Test for conditional independence\n",
    "    for z in [0, 1]:\n",
    "        for m in [0, 1]:\n",
    "            for a in [0, 1]:\n",
    "                if round(p_z_m_given_a[(z, m, a)], 3) != round(p_z_given_a[(z, a)] * p_m_given_a[(m, a)], 3):\n",
    "                    return False\n",
    "    return True\n",
    "\n",
    "# Example usage with a given distribution dictionary\n",
    "\n",
    "# Verify the distribution\n",
    "# print(f\"Respects conditional independence Z ⊥ M | A: {test_conditional_independence(P_obs_dict)}\")"
   ]
  },
  {
   "cell_type": "code",
   "execution_count": 5,
   "metadata": {},
   "outputs": [
    {
     "name": "stdout",
     "output_type": "stream",
     "text": [
      "Dist number 0 respects Z ⊥ M | A: True\n"
     ]
    }
   ],
   "source": [
    "print(f\"Dist number {num} respects Z ⊥ M | A: {test_conditional_independence(P_obs_dict)}\")"
   ]
  },
  {
   "cell_type": "markdown",
   "metadata": {},
   "source": [
    "getting $P_{AMY|Z}$ from $P_{ZAMY}$:"
   ]
  },
  {
   "cell_type": "code",
   "execution_count": 6,
   "metadata": {},
   "outputs": [
    {
     "name": "stdout",
     "output_type": "stream",
     "text": [
      "P_ZAMY:\n",
      "{(0, 0, 0, 0): 0.336, (0, 0, 1, 0): 0.084, (0, 1, 0, 0): 0.056, (0, 1, 1, 0): 0.224, (1, 0, 0, 0): 0.096, (1, 0, 1, 0): 0.024, (1, 1, 0, 0): 0.036, (1, 1, 1, 0): 0.144, (0, 0, 0, 1): 0.144, (0, 0, 1, 1): 0.036, (0, 1, 0, 1): 0.024, (0, 1, 1, 1): 0.096, (1, 0, 0, 1): 0.224, (1, 0, 1, 1): 0.056, (1, 1, 0, 1): 0.084, (1, 1, 1, 1): 0.336}\n",
      "P_AMY|Z:\n",
      "{(0, 0, 0, 0): 0.336, (0, 1, 0, 0): 0.084, (1, 0, 0, 0): 0.056, (1, 1, 0, 0): 0.224, (0, 0, 0, 1): 0.096, (0, 1, 0, 1): 0.024, (1, 0, 0, 1): 0.036, (1, 1, 0, 1): 0.144, (0, 0, 1, 0): 0.144, (0, 1, 1, 0): 0.036, (1, 0, 1, 0): 0.024, (1, 1, 1, 0): 0.096, (0, 0, 1, 1): 0.224, (0, 1, 1, 1): 0.056, (1, 0, 1, 1): 0.084, (1, 1, 1, 1): 0.336}\n"
     ]
    }
   ],
   "source": [
    "def calculate_p_amy_given_z(joint_distribution):\n",
    "    # Calculate P(Z) by summing over A, M, and Y for each Z\n",
    "    p_z = {z: 0 for z in [0, 1]}\n",
    "    for (z, a, m, y), prob in joint_distribution.items():\n",
    "        p_z[z] += prob\n",
    "\n",
    "    # Calculate P(A, M, Y | Z)\n",
    "    p_amy_given_z = {}\n",
    "    for (z, a, m, y), joint_prob in joint_distribution.items():\n",
    "        conditional_prob = joint_prob / p_z[z]\n",
    "        p_amy_given_z[(a, m, y, z)] = round(conditional_prob, 3)  # Round to 3 decimal places as specified\n",
    "\n",
    "    return p_amy_given_z\n",
    "\n",
    "print(\"P_ZAMY:\")\n",
    "print(P_obs_dict)\n",
    "\n",
    "print(\"P_AMY|Z:\")\n",
    "print(calculate_p_amy_given_z(P_obs_dict))"
   ]
  },
  {
   "cell_type": "code",
   "execution_count": null,
   "metadata": {},
   "outputs": [],
   "source": []
  },
  {
   "cell_type": "code",
   "execution_count": 7,
   "metadata": {},
   "outputs": [
    {
     "name": "stdout",
     "output_type": "stream",
     "text": [
      "(0, 0, 0, 0): 0.086\n",
      "(0, 0, 0, 1): 0.109\n",
      "(0, 0, 1, 0): 0.101\n",
      "(0, 0, 1, 1): 0.129\n",
      "(0, 1, 0, 0): 0.01\n",
      "(0, 1, 0, 1): 0.005\n",
      "(0, 1, 1, 0): 0.004\n",
      "(0, 1, 1, 1): 0.002\n",
      "(1, 0, 0, 0): 0.109\n",
      "(1, 0, 0, 1): 0.14\n",
      "(1, 0, 1, 0): 0.129\n",
      "(1, 0, 1, 1): 0.164\n",
      "(1, 1, 0, 0): 0.006\n",
      "(1, 1, 0, 1): 0.003\n",
      "(1, 1, 1, 0): 0.002\n",
      "(1, 1, 1, 1): 0.001\n"
     ]
    }
   ],
   "source": [
    "import itertools\n",
    "import random\n",
    "\n",
    "def generate_probabilities_with_independence():\n",
    "    # Generate base probabilities for P(A)\n",
    "    p_a = {a: random.random() for a in [0, 1]}\n",
    "    total_p_a = sum(p_a.values())\n",
    "    p_a = {a: p_a[a] / total_p_a for a in [0, 1]}  # Normalize P(A)\n",
    "    \n",
    "    # Generate conditional probabilities P(Z|A), P(M|A), and P(Y|A)\n",
    "    p_z_given_a = {(z, a): random.random() for z in [0, 1] for a in [0, 1]}\n",
    "    p_m_given_a = {(m, a): random.random() for m in [0, 1] for a in [0, 1]}\n",
    "    p_y_given_a = {(y, a): random.random() for y in [0, 1] for a in [0, 1]}\n",
    "    \n",
    "    # Normalize conditional probabilities\n",
    "    for a in [0, 1]:\n",
    "        total_z = sum(p_z_given_a[(z, a)] for z in [0, 1])\n",
    "        total_m = sum(p_m_given_a[(m, a)] for m in [0, 1])\n",
    "        total_y = sum(p_y_given_a[(y, a)] for y in [0, 1])\n",
    "        \n",
    "        for z in [0, 1]:\n",
    "            p_z_given_a[(z, a)] /= total_z\n",
    "        for m in [0, 1]:\n",
    "            p_m_given_a[(m, a)] /= total_m\n",
    "        for y in [0, 1]:\n",
    "            p_y_given_a[(y, a)] /= total_y\n",
    "    \n",
    "    # Combine to generate P(Z, A, M, Y) respecting the conditional independences\n",
    "    distribution = {}\n",
    "    for z, a, m, y in itertools.product([0, 1], repeat=4):\n",
    "        p_z_a = p_z_given_a[(z, a)]\n",
    "        p_m_a = p_m_given_a[(m, a)]\n",
    "        p_y_a = p_y_given_a[(y, a)]\n",
    "        p_a_val = p_a[a]\n",
    "        # Assuming independence, combine probabilities\n",
    "        distribution[(z, a, m, y)] = round(p_z_a * p_m_a * p_y_a * p_a_val, 3)\n",
    "    \n",
    "    return distribution\n",
    "\n",
    "# Generate the distribution\n",
    "distribution = generate_probabilities_with_independence()\n",
    "\n",
    "for key, value in distribution.items():\n",
    "    print(f\"{key}: {value}\")"
   ]
  },
  {
   "cell_type": "code",
   "execution_count": 8,
   "metadata": {},
   "outputs": [
    {
     "name": "stdout",
     "output_type": "stream",
     "text": [
      "Z ⊥ Y | A holds: True\n",
      "Z ⊥ M | A holds: False\n"
     ]
    }
   ],
   "source": [
    "def calculate_conditional_probabilities(distribution):\n",
    "    # Calculate marginal probabilities P(A), P(Z|A), P(M|A), and P(Y|A)\n",
    "    p_a = {a: sum(prob for (z, a_, m, y), prob in distribution.items() if a == a_) for a in [0, 1]}\n",
    "    p_z_given_a = {(z, a): sum(prob for (z_, a_, m, y), prob in distribution.items() if z == z_ and a == a_) / p_a[a] for z in [0, 1] for a in [0, 1]}\n",
    "    p_m_given_a = {(m, a): sum(prob for (z, a_, m_, y), prob in distribution.items() if m == m_ and a == a_) / p_a[a] for m in [0, 1] for a in [0, 1]}\n",
    "    p_y_given_a = {(y, a): sum(prob for (z, a_, m, y_), prob in distribution.items() if y == y_ and a == a_) / p_a[a] for y in [0, 1] for a in [0, 1]}\n",
    "\n",
    "    # Check conditional independences\n",
    "    z_y_independence = True\n",
    "    z_m_independence = True\n",
    "\n",
    "    for a in [0, 1]:\n",
    "        for z in [0, 1]:\n",
    "            for y in [0, 1]:\n",
    "                # P(Z, Y | A) = P(Z | A) * P(Y | A)\n",
    "                p_z_y_given_a = sum(prob for (z_, a_, m, y_), prob in distribution.items() if z == z_ and y == y_ and a == a_) / p_a[a]\n",
    "                if round(p_z_y_given_a, 3) != round(p_z_given_a[(z, a)] * p_y_given_a[(y, a)], 3):\n",
    "                    z_y_independence = False\n",
    "\n",
    "            for m in [0, 1]:\n",
    "                # P(Z, M | A) = P(Z | A) * P(M | A)\n",
    "                p_z_m_given_a = sum(prob for (z_, a_, m_, y), prob in distribution.items() if z == z_ and m == m_ and a == a_) / p_a[a]\n",
    "                if round(p_z_m_given_a, 3) != round(p_z_given_a[(z, a)] * p_m_given_a[(m, a)], 3):\n",
    "                    z_m_independence = False\n",
    "\n",
    "    return z_y_independence, z_m_independence\n",
    "\n",
    "# Assuming 'distribution' is your P(Z, A, M, Y) distribution\n",
    "# distribution = generate_probabilities_with_independence()  # Use the distribution generation function from before\n",
    "z_y_independence, z_m_independence = calculate_conditional_probabilities(distribution)\n",
    "\n",
    "print(f\"Z ⊥ Y | A holds: {z_y_independence}\")\n",
    "print(f\"Z ⊥ M | A holds: {z_m_independence}\")\n"
   ]
  },
  {
   "cell_type": "code",
   "execution_count": 12,
   "metadata": {},
   "outputs": [
    {
     "data": {
      "application/vnd.jupyter.widget-view+json": {
       "model_id": "57fcc619c9f2467797d8ad6ddfa8ea44",
       "version_major": 2,
       "version_minor": 0
      },
      "text/plain": [
       "  0%|          | 0/4 [00:00<?, ?it/s]"
      ]
     },
     "metadata": {},
     "output_type": "display_data"
    },
    {
     "data": {
      "text/plain": [
       "{(1, 0, 0, 1): 0.222,\n",
       " (0, 0, 1, 1): 0.145,\n",
       " (1, 1, 0, 1): 0.139,\n",
       " (0, 0, 0, 1): 0.138,\n",
       " (0, 1, 0, 1): 0.098,\n",
       " (0, 1, 1, 1): 0.081,\n",
       " (1, 0, 1, 1): 0.066,\n",
       " (1, 0, 0, 0): 0.03,\n",
       " (1, 1, 0, 0): 0.029,\n",
       " (1, 1, 1, 1): 0.028,\n",
       " (1, 0, 1, 0): 0.009,\n",
       " (0, 0, 1, 0): 0.004,\n",
       " (0, 1, 0, 0): 0.004,\n",
       " (0, 1, 1, 0): 0.003,\n",
       " (0, 0, 0, 0): 0.002,\n",
       " (1, 1, 1, 0): 0.002}"
      ]
     },
     "execution_count": 12,
     "metadata": {},
     "output_type": "execute_result"
    }
   ],
   "source": [
    "# from pgmpy.models import BayesianNetwork\n",
    "# from pgmpy.factors.discrete import TabularCPD\n",
    "# from pgmpy.sampling import BayesianModelSampling\n",
    "# import numpy as np\n",
    "\n",
    "# def normalize_cpt(values):\n",
    "#     \"\"\"Normalize the CPT values to ensure they sum to 1.\"\"\"\n",
    "#     return values / values.sum(axis=0, keepdims=True)\n",
    "\n",
    "# # Define the structure of the Bayesian Network\n",
    "# model = BayesianNetwork([('A', 'Z'), ('A', 'M'), ('A', 'Y')])\n",
    "\n",
    "# # Define the CPTs with random but normalized probabilities\n",
    "# cpd_a = TabularCPD(variable='A', variable_card=2, values=[[0.5], [0.5]])\n",
    "# cpd_z = TabularCPD(variable='Z', variable_card=2, \n",
    "#                    values=normalize_cpt(np.random.rand(2,2)), # Normalized probabilities\n",
    "#                    evidence=['A'], \n",
    "#                    evidence_card=[2])\n",
    "# cpd_m = TabularCPD(variable='M', variable_card=2, \n",
    "#                    values=normalize_cpt(np.random.rand(2,2)), # Normalized probabilities\n",
    "#                    evidence=['A'], \n",
    "#                    evidence_card=[2])\n",
    "# cpd_y = TabularCPD(variable='Y', variable_card=2, \n",
    "#                    values=normalize_cpt(np.random.rand(2,2)), # Normalized probabilities\n",
    "#                    evidence=['A'], \n",
    "#                    evidence_card=[2])\n",
    "\n",
    "# # Add the CPTs to the model\n",
    "# model.add_cpds(cpd_a, cpd_z, cpd_m, cpd_y)\n",
    "\n",
    "# # Verify the model\n",
    "# assert model.check_model()\n",
    "\n",
    "# # Sampling from the model\n",
    "# sampler = BayesianModelSampling(model)\n",
    "# samples = sampler.forward_sample(size=1000)\n",
    "\n",
    "\n",
    "\n",
    "# # Assuming `samples` is the DataFrame obtained from the sampler.forward_sample method\n",
    "# # First, let's convert the samples DataFrame into the required dictionary format.\n",
    "# def samples_to_prob_dict(samples):\n",
    "#     # Count the occurrences of each unique combination\n",
    "#     combination_counts = samples.value_counts(normalize=True)\n",
    "    \n",
    "#     # Convert the Series to a dictionary with tuple keys\n",
    "#     prob_dict = {tuple(index): prob for index, prob in combination_counts.items()}\n",
    "#     return prob_dict\n",
    "\n",
    "# # Convert the samples to the probability dictionary\n",
    "# P_ZAMY = samples_to_prob_dict(samples)\n",
    "# P_ZAMY"
   ]
  }
 ],
 "metadata": {
  "kernelspec": {
   "display_name": "Python 3",
   "language": "python",
   "name": "python3"
  },
  "language_info": {
   "codemirror_mode": {
    "name": "ipython",
    "version": 3
   },
   "file_extension": ".py",
   "mimetype": "text/x-python",
   "name": "python",
   "nbconvert_exporter": "python",
   "pygments_lexer": "ipython3",
   "version": "3.10.4"
  }
 },
 "nbformat": 4,
 "nbformat_minor": 2
}
