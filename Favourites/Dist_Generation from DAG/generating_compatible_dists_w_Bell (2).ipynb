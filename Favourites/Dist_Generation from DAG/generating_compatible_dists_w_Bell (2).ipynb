{
 "cells": [
  {
   "cell_type": "markdown",
   "metadata": {},
   "source": [
    "## Generating Compatible Distributions:"
   ]
  },
  {
   "cell_type": "code",
   "execution_count": 1,
   "metadata": {},
   "outputs": [],
   "source": [
    "import numpy as np\n",
    "import itertools\n",
    "import sympy as sp\n",
    "import gurobipy as gp\n",
    "from gurobipy import GRB\n",
    "\n",
    "# Define the four functions\n",
    "\n",
    "## Bin(INT), Bin(INT) -> Bin(INT)\n",
    "def identity(x):\n",
    "    return x\n",
    "\n",
    "def swap(x):\n",
    "    return 1-x\n",
    "\n",
    "def to0(_):\n",
    "    return 0\n",
    "\n",
    "def to1(_):\n",
    "    return 1\n",
    "\n",
    "\n",
    "basic_strategies = [identity, swap, to0, to1]\n",
    "all_strategies = list(itertools.product(basic_strategies, repeat=2))\n",
    "\n",
    "\n",
    "def generate_top(u):\n",
    "    f_u, g_u = all_strategies[u]\n",
    "    # print(f\"f_{u} = {f_u.__name__} \\ng_{u} = {g_u.__name__}\\n\")\n",
    "\n",
    "    # value 1 at point(a,b) = (f_u(x),g_u(y)), zero everywhere else\n",
    "    def middle_entry(x,y):\n",
    "        # value 1 at (f_u(x),g_u(y)) zero everywhere else\n",
    "        middle = np.zeros((2,2), dtype=int)\n",
    "        middle[f_u(x), g_u(y)] = 1\n",
    "        return middle\n",
    "\n",
    "    top_level = np.array([\n",
    "                [middle_entry(0,0), middle_entry(1,0)], \n",
    "                [middle_entry(0,1), middle_entry(1,1)]\n",
    "                ]) \n",
    "\n",
    "    return top_level\n",
    "\n",
    "symb = [sp.symbols(f\"w{i}\") for i in range(16)]\n",
    "summed_strategies = sum([symb[i]*generate_top(i) for i in range(16)])\n",
    "# for x in range(summed_strategies.shape[0]):\n",
    "#     for y in range(summed_strategies.shape[1]):\n",
    "#         sum_values = np.sum(summed_strategies[x, y])\n",
    "#         summed_strategies[x, y] /= sum_values\n",
    "#         summed_strategies[x, y] = np.round(summed_strategies[x, y], 3)\n",
    "summed_strategies\n",
    "\n",
    "P_AB_giv_XY = {}\n",
    "for a,b,x,y in itertools.product([0,1], repeat=4):\n",
    "    P_AB_giv_XY[(a,b,x,y)] = summed_strategies[x][y][a][b]\n",
    "# P_AB_giv_XY"
   ]
  },
  {
   "cell_type": "code",
   "execution_count": 2,
   "metadata": {},
   "outputs": [
    {
     "data": {
      "text/plain": [
       "array([[[[w0 + w10 + w2 + w8, w1 + w11 + w3 + w9],\n",
       "         [w12 + w14 + w4 + w6, w13 + w15 + w5 + w7]],\n",
       "\n",
       "        [[w10 + w4 + w6 + w8, w11 + w5 + w7 + w9],\n",
       "         [w0 + w12 + w14 + w2, w1 + w13 + w15 + w3]]],\n",
       "\n",
       "\n",
       "       [[[w1 + w10 + w2 + w9, w0 + w11 + w3 + w8],\n",
       "         [w13 + w14 + w5 + w6, w12 + w15 + w4 + w7]],\n",
       "\n",
       "        [[w10 + w5 + w6 + w9, w11 + w4 + w7 + w8],\n",
       "         [w1 + w13 + w14 + w2, w0 + w12 + w15 + w3]]]], dtype=object)"
      ]
     },
     "execution_count": 2,
     "metadata": {},
     "output_type": "execute_result"
    }
   ],
   "source": [
    "summed_strategies"
   ]
  },
  {
   "cell_type": "code",
   "execution_count": 3,
   "metadata": {},
   "outputs": [],
   "source": [
    "def f():\n",
    "    random_values = np.random.rand(16)\n",
    "    num_levels = 1000\n",
    "    quantized_values = np.round(random_values * (num_levels - 1)) / (num_levels - 1)\n",
    "    quantized_values = quantized_values.reshape((2, 2, 2, 2))\n",
    "    normalized_values = quantized_values.copy()\n",
    "\n",
    "    for x in range(normalized_values.shape[0]):\n",
    "        for y in range(normalized_values.shape[1]):\n",
    "            # Calculate the sum of values for the current x, y coordinates\n",
    "            sum_values = np.sum(normalized_values[x, y])\n",
    "            # Normalize the values for the current x, y coordinates\n",
    "            normalized_values[x, y] /= sum_values\n",
    "\n",
    "    precision = 3  # desired precision\n",
    "    normalized_values = np.round(normalized_values, precision)\n",
    "    error = 4.0 - np.sum(normalized_values)\n",
    "    normalized_values[0, 0, 0, 0] += error\n",
    "    normalized_values[0, 0, 0, 0] += 4 - np.sum(normalized_values)\n",
    "    normalized_values = np.round(normalized_values, precision)\n",
    "    normalized_values\n",
    "\n",
    "    P_AB_giv_XY = {}\n",
    "    for a,b,x,y in itertools.product([0,1], repeat=4):\n",
    "        P_AB_giv_XY[(a,b,x,y)] = normalized_values[x][y][a][b]\n",
    "    # sum(P_AB_giv_XY.values())\n",
    "\n",
    "    # print sum of all values at different a,b when x,y is fixed from P_AB_giv_XY\n",
    "    for x,y in itertools.product([0,1], repeat=2):\n",
    "        sum = 0\n",
    "        for a,b in itertools.product([0,1], repeat=2):\n",
    "            # print(f\"P({a},{b}|{x},{y}) = {P_AB_giv_XY[(a,b,x,y)]}\")\n",
    "            sum += P_AB_giv_XY[(a,b,x,y)]\n",
    "        print(f\"x={x}, y={y}\", f\"sum = {sum}\")\n",
    "        "
   ]
  },
  {
   "cell_type": "code",
   "execution_count": 4,
   "metadata": {},
   "outputs": [],
   "source": [
    "def g():\n",
    "    random_values = np.random.rand(16)\n",
    "    num_levels = 1000\n",
    "    quantized_values = np.round(random_values * (num_levels - 1)) / (num_levels - 1)\n",
    "    quantized_values = quantized_values.reshape((2, 2, 2, 2))\n",
    "    normalized_values = quantized_values.copy()\n",
    "\n",
    "    for x in range(normalized_values.shape[0]):\n",
    "        for y in range(normalized_values.shape[1]):\n",
    "            sum_values = np.sum(normalized_values[x, y])\n",
    "            normalized_values[x, y] /= sum_values\n",
    "            normalized_values[x, y] = np.round(normalized_values[x, y], 3)\n",
    "\n",
    "    for x in range(normalized_values.shape[0]):\n",
    "        for y in range(normalized_values.shape[1]):\n",
    "            sum_values = np.sum(normalized_values[x, y])\n",
    "            if sum_values != 1.0:\n",
    "                idx = np.where(normalized_values[x, y] != 0)[0][0]\n",
    "                normalized_values[x, y, idx] += 1.0 - sum_values\n",
    "\n",
    "    # in dict form\n",
    "    P_AB_giv_XY = {}\n",
    "    for a,b,x,y in itertools.product([0,1], repeat=4):\n",
    "        P_AB_giv_XY[(a,b,x,y)] = normalized_values[x][y][a][b]\n",
    "    print(\"\\n\", P_AB_giv_XY)\n",
    "\n",
    "    # sum all values in P_AB_giv_XY\n",
    "    print(\"\\n\", sum(P_AB_giv_XY.values()))\n",
    "\n",
    "    # prob dist\n",
    "    print(\"\\n\", normalized_values)"
   ]
  },
  {
   "cell_type": "code",
   "execution_count": 5,
   "metadata": {},
   "outputs": [],
   "source": [
    "def generate_dist():\n",
    "    f()\n",
    "    g()"
   ]
  },
  {
   "cell_type": "code",
   "execution_count": 6,
   "metadata": {},
   "outputs": [
    {
     "name": "stdout",
     "output_type": "stream",
     "text": [
      "x=0, y=0 sum = 0.9990000000000001\n",
      "x=0, y=1 sum = 1.0\n",
      "x=1, y=0 sum = 0.9999999999999999\n",
      "x=1, y=1 sum = 1.001\n",
      "\n",
      " {(0, 0, 0, 0): 0.324, (0, 0, 0, 1): 0.266, (0, 0, 1, 0): 0.1329999999999999, (0, 0, 1, 1): 0.247, (0, 1, 0, 0): 0.155, (0, 1, 0, 1): 0.318, (0, 1, 1, 0): 0.1959999999999999, (0, 1, 1, 1): 0.325, (1, 0, 0, 0): 0.398, (1, 0, 0, 1): 0.273, (1, 0, 1, 0): 0.263, (1, 0, 1, 1): 0.207, (1, 1, 0, 0): 0.123, (1, 1, 0, 1): 0.143, (1, 1, 1, 0): 0.409, (1, 1, 1, 1): 0.221}\n",
      "\n",
      " 4.0009999999999994\n",
      "\n",
      " [[[[0.324 0.155]\n",
      "   [0.398 0.123]]\n",
      "\n",
      "  [[0.266 0.318]\n",
      "   [0.273 0.143]]]\n",
      "\n",
      "\n",
      " [[[0.133 0.196]\n",
      "   [0.263 0.409]]\n",
      "\n",
      "  [[0.247 0.325]\n",
      "   [0.207 0.221]]]]\n"
     ]
    }
   ],
   "source": [
    "generate_dist()"
   ]
  }
 ],
 "metadata": {
  "kernelspec": {
   "display_name": "Python 3",
   "language": "python",
   "name": "python3"
  },
  "language_info": {
   "codemirror_mode": {
    "name": "ipython",
    "version": 3
   },
   "file_extension": ".py",
   "mimetype": "text/x-python",
   "name": "python",
   "nbconvert_exporter": "python",
   "pygments_lexer": "ipython3",
   "version": "3.10.4"
  }
 },
 "nbformat": 4,
 "nbformat_minor": 2
}
