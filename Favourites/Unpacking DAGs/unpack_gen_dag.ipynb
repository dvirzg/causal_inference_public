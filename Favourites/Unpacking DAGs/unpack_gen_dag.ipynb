{
 "cells": [
  {
   "cell_type": "markdown",
   "metadata": {},
   "source": [
    "### Unpack Graph General"
   ]
  },
  {
   "cell_type": "code",
   "execution_count": 5,
   "metadata": {},
   "outputs": [
    {
     "name": "stdout",
     "output_type": "stream",
     "text": [
      "{}\n"
     ]
    }
   ],
   "source": [
    "import networkx as nx\n",
    "import gurobipy as gp\n",
    "from gurobipy import GRB\n",
    "import numpy as np\n",
    "\n",
    "class DAG_Unpacking:\n",
    "    def __init__(self, graph, hiddens_lst, cards_dict): \n",
    "        self.graph = nx.DiGraph()\n",
    "        self.graph.add_edges_from((parent, child) for parent, child in graph)\n",
    "        self.verbose = 0\n",
    "        self.hiddens_lst = hiddens_lst\n",
    "        self.cards = cards_dict\n",
    "        self.prob_vars = {}\n",
    "\n",
    "    def get_mvar_details(self, var):\n",
    "        parents = list(self.graph.predecessors(var))\n",
    "        # returns tuple(card_var, *card_parents(var)), \n",
    "        return (self.cards[var], *tuple(self.cards[parent] for parent in parents)), \"_\".join(parents)\n",
    "\n",
    "    def unpack(self):\n",
    "        # dicitonary of each observed variable that is both not parentless and its observed parents is not parentless\n",
    "        \n",
    "\n",
    "    def initialize_model(self):\n",
    "        self.model = gp.Model(\"DAG Unpacking\")\n",
    "        self.model.reset()\n",
    "        self.model.setParam('OutputFlag', self.verbose)\n",
    "        self.model.params.NonConvex = 2\n",
    "\n",
    "        ## variables\n",
    "        for var in list(self.graph.nodes):\n",
    "            shape, var_name = self.get_mvar_details(var)\n",
    "            if not var_name:\n",
    "                self.prob_vars[f'P_{var}'] = self.model.addMVar(shape=shape, vtype=GRB.CONTINUOUS, lb=0, ub=1, name=f'P_{var}')\n",
    "            else:\n",
    "                self.prob_vars[f'P_{var}_giv_{var_name}'] = self.model.addMVar(shape=shape, vtype=GRB.CONTINUOUS, lb=0, ub=1, name=f'P_{var}_giv_{var_name}')\n",
    "        self.model.update()\n",
    "\n",
    "\n",
    "\n",
    "# [parent, child]\n",
    "\n",
    "# input_lst = [[\"X\", \"A\"], [\"l\", \"A\"], [\"l\", \"B\"], [\"Y\", \"B\"]]\n",
    "# cards_dict = {\"A\": 2, \"B\": 2, \"X\": 2, \"Y\": 2, \"l\": 3}\n",
    "input_lst = [[\"Z\", \"A\"], [\"l\", \"A\"], [\"l\", \"B\"]]\n",
    "cards_dict = {\"A\": 2, \"B\": 2, \"Z\": 2, \"l\": 3}\n",
    "hiddens_lst = [\"l\"]\n",
    "\n",
    "\n",
    "example = DAG_Unpacking(input_lst, hiddens_lst, cards_dict)\n",
    "# example.initialize_model()\n",
    "print(example.prob_vars)"
   ]
  },
  {
   "cell_type": "code",
   "execution_count": 28,
   "metadata": {},
   "outputs": [],
   "source": [
    "import networkx as nx\n",
    "import gurobipy as gp\n",
    "from gurobipy import GRB\n",
    "import numpy as np\n",
    "\n",
    "dag = [['Z', 'A'], ['A', 'M'], ['M', 'Y'],\n",
    "       ['H_AY', 'A'], ['H_AY', 'Y'], ['H_MY', 'M'], ['H_MY', 'Y']]\n",
    "cards = {'A': 2, 'M': 2, 'Y': 2, 'Z': 2}\n",
    "hiddens = ['H_AY', 'H_MY']\n",
    "\n",
    "graph = nx.DiGraph()\n",
    "graph.add_edges_from((parent, child) for parent, child in dag)\n",
    "\n",
    "# create list of observed variables\n",
    "observed = [node for node in graph.nodes if node not in hiddens]\n",
    "\n",
    "# get a list of observed variables that are parentless, as well as observed variables whose observed parents are parentless\n",
    "# [node for node in observed if not list(graph.predecessors(node)) or ]"
   ]
  },
  {
   "cell_type": "code",
   "execution_count": 43,
   "metadata": {},
   "outputs": [
    {
     "data": {
      "text/plain": [
       "['A', 'M', 'Y']"
      ]
     },
     "execution_count": 43,
     "metadata": {},
     "output_type": "execute_result"
    }
   ],
   "source": [
    "# [node for node in observed if list(graph.predecessors(node))]\n",
    "# [i for i in list(graph.predecessors('A')) if i in observed]\n",
    "\n",
    "# list of nodes whose observable parents have parents\n",
    "[node for node in graph.nodes if node in observed and list(graph.predecessors(node)) and ]\n",
    "\n",
    "# connect the two above:\n",
    "# [not list(graph.predecessors(i)) for i in list(graph.predecessors('A')) if i in observed]"
   ]
  },
  {
   "cell_type": "code",
   "execution_count": 50,
   "metadata": {},
   "outputs": [],
   "source": [
    "dag = [['Z', 'A'], ['A', 'M'], ['M', 'Y'],\n",
    "       ['H_AY', 'A'], ['H_AY', 'Y'], ['H_MY', 'M'], ['H_MY', 'Y']]\n",
    "observed = ['Z', 'A', 'M', 'Y']\n",
    "G = nx.DiGraph()\n",
    "G.add_edges_from(dag)"
   ]
  },
  {
   "cell_type": "code",
   "execution_count": 69,
   "metadata": {},
   "outputs": [
    {
     "name": "stdout",
     "output_type": "stream",
     "text": [
      "A ['Z']\n",
      "M ['A']\n",
      "Y ['M']\n"
     ]
    }
   ],
   "source": [
    "# (1) parentless observed nodes\n",
    "[node for node in observed if not list(G.predecessors(node))]\n",
    "# (2) observed nodes whose parents are parentless\n",
    "for node in observed:\n",
    "    if list(G.predecessors(node)):\n",
    "        # print node, and whether it has an observed parent\n",
    "        # print(node, [not list(G.predecessors(i)) for i in list(G.predecessors(node)) if i in observed])\n",
    "        print(node, [parent for parent in list(G.predecessors(node)) if parent in observed])"
   ]
  },
  {
   "cell_type": "code",
   "execution_count": 45,
   "metadata": {},
   "outputs": [
    {
     "name": "stdout",
     "output_type": "stream",
     "text": [
      "['H_AY', 'H_MY']\n"
     ]
    }
   ],
   "source": [
    "import networkx as nx\n",
    "\n",
    "\n",
    "dag = [['Z', 'A'], ['A', 'M'], ['M', 'Y'],\n",
    "       ['H_AY', 'A'], ['H_AY', 'Y'], ['H_MY', 'M'], ['H_MY', 'Y']]\n",
    "cards = {'A': 2, 'M': 2, 'Y': 2, 'Z': 2}\n",
    "\n",
    "G = nx.DiGraph()\n",
    "G.add_edges_from(dag)\n",
    "observed = ['Z', 'A', 'M', 'Y']\n",
    "\n",
    "# Function to get observed parents of a node\n",
    "def get_observed_parents(node, observed, G):\n",
    "    return [parent for parent in G.predecessors(node) if parent in observed]\n",
    "\n",
    "# List comprehension to get the desired nodes\n",
    "filtered_nodes = [\n",
    "    node for node in G.nodes\n",
    "    if node not in observed and\n",
    "    all(\n",
    "        len(list(G.predecessors(parent))) > 0\n",
    "        for parent in get_observed_parents(node, observed, G)\n",
    "    )\n",
    "]\n",
    "\n",
    "print(filtered_nodes)"
   ]
  },
  {
   "cell_type": "code",
   "execution_count": 27,
   "metadata": {},
   "outputs": [],
   "source": [
    "# create list of observed variables\n",
    "observed = [node for node in graph.nodes if node not in hiddens]\n",
    "\n",
    "# get a list of observed variables that are parentless, as well as observed variables whose observed parents are parentless\n",
    "# observed_parentless = [node for node in observed if not list(graph.predecessors(node)) or all([parent in parentless for parent in graph.predecessors(node)])]\n",
    "# print(observed_parentless)\n",
    "\n",
    "# parentless = [node for node in graph.nodes if not list(graph.predecessors(node)) or all([parent in parentless for parent in graph.predecessors(node)])]\n"
   ]
  }
 ],
 "metadata": {
  "kernelspec": {
   "display_name": "base",
   "language": "python",
   "name": "python3"
  },
  "language_info": {
   "codemirror_mode": {
    "name": "ipython",
    "version": 3
   },
   "file_extension": ".py",
   "mimetype": "text/x-python",
   "name": "python",
   "nbconvert_exporter": "python",
   "pygments_lexer": "ipython3",
   "version": "3.11.7"
  }
 },
 "nbformat": 4,
 "nbformat_minor": 2
}
