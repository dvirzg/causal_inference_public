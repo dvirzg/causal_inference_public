{
 "cells": [
  {
   "cell_type": "markdown",
   "metadata": {},
   "source": [
    "## Cut inflation of Triangle Compatibility Test"
   ]
  },
  {
   "cell_type": "code",
   "execution_count": null,
   "metadata": {},
   "outputs": [],
   "source": [
    "import gurobipy as gp\n",
    "import numpy as np"
   ]
  },
  {
   "cell_type": "code",
   "execution_count": 2,
   "metadata": {},
   "outputs": [],
   "source": [
    "# from collections import defaultdict\n",
    "# P_ABC = defaultdict(lambda: 0, {(0,0,1): 1/3, \n",
    "#                                 (0,1,0): 1/3, \n",
    "#                                 (1,0,0): 1/3})\n",
    "# P_ABC[\"ekvhfbjns\"]"
   ]
  },
  {
   "cell_type": "code",
   "execution_count": 3,
   "metadata": {},
   "outputs": [],
   "source": [
    "P_ABC = {(0,0,0): 0,\n",
    "         (0,0,1): 1/3,\n",
    "         (0,1,0): 1/3,\n",
    "         (1,0,0): 1/3,\n",
    "         (0,1,1): 0,\n",
    "         (1,0,1): 0,\n",
    "         (1,1,0): 0,\n",
    "         (1,1,1): 0}\n",
    "\n",
    "def P_to_Q(P_ABC):\n",
    "    \"\"\"\n",
    "    given P_ABC calculate Q_AC, Q_AB, Q_BC from P_ABC and the following:\n",
    "    Q(A,B) = P(A,B)\n",
    "    Q(A,C) = P(A,C)\n",
    "    Q(B,C) != P(B,C) \n",
    "    Q(B,C) = Q(B)Q(C) = P(B)P(C)\n",
    "    \"\"\"\n",
    "    \n",
    "    Q_AC = np.array([[sum([P_ABC[a,b,c] for b in range(2)]) for c in range(2)] for a in range(2)])\n",
    "    Q_AB = Q_AC\n",
    "    P_B = np.array([sum([P_ABC[a,b,c] for a,c in np.ndindex(2,2)]) for b in range(2)])\n",
    "    P_C = np.array([sum([P_ABC[a,b,c] for a,b in np.ndindex(2,2)]) for c in range(2)])\n",
    "    Q_BC = np.array([[P_B[b]*P_C[c] for c in range(2)] for b in range(2)])\n",
    "\n",
    "    return Q_AC, Q_AB, Q_BC"
   ]
  },
  {
   "cell_type": "code",
   "execution_count": 4,
   "metadata": {},
   "outputs": [
    {
     "name": "stdout",
     "output_type": "stream",
     "text": [
      "Set parameter Username\n",
      "Academic license - for non-commercial use only - expires 2025-01-09\n"
     ]
    }
   ],
   "source": [
    "m = gp.Model()\n",
    "Q_ABC = m.addMVar((2, 2, 2), name=\"Q_ABC\", vtype=gp.GRB.CONTINUOUS, lb=0, ub=1)"
   ]
  },
  {
   "cell_type": "code",
   "execution_count": 5,
   "metadata": {},
   "outputs": [
    {
     "data": {
      "text/plain": [
       "<MConstr () *awaiting model update*>"
      ]
     },
     "execution_count": 5,
     "metadata": {},
     "output_type": "execute_result"
    }
   ],
   "source": [
    "Q_AC, Q_AB, Q_BC = P_to_Q(P_ABC)\n",
    "\n",
    "for a, c in np.ndindex(2, 2):\n",
    "        m.addConstr(Q_ABC[a, 0, c] + Q_ABC[a, 1, c] == Q_AC[a,c])\n",
    "        # m.addConstr(sum([Q_ABC[a, b, c] for b in range(2)]) == Q_AC[a,c])\n",
    "for a, b in np.ndindex(2, 2):\n",
    "        m.addConstr(Q_ABC[a, b, 0] + Q_ABC[a, b, 1] == Q_AB[a,b])\n",
    "for b, c in np.ndindex(2, 2):   \n",
    "        m.addConstr(Q_ABC[0, b, c] + Q_ABC[1, b, c] == Q_BC[b,c])\n",
    "\n",
    "m.addConstr(Q_ABC.sum() == 1)"
   ]
  },
  {
   "cell_type": "code",
   "execution_count": 6,
   "metadata": {},
   "outputs": [
    {
     "name": "stdout",
     "output_type": "stream",
     "text": [
      "Gurobi Optimizer version 11.0.1 build v11.0.1rc0 (win64 - Windows 11.0 (22631.2))\n",
      "\n",
      "CPU model: 11th Gen Intel(R) Core(TM) i7-11800H @ 2.30GHz, instruction set [SSE2|AVX|AVX2|AVX512]\n",
      "Thread count: 8 physical cores, 16 logical processors, using up to 16 threads\n",
      "\n",
      "Optimize a model with 13 rows, 8 columns and 32 nonzeros\n",
      "Model fingerprint: 0x8996e5ff\n",
      "Coefficient statistics:\n",
      "  Matrix range     [1e+00, 1e+00]\n",
      "  Objective range  [0e+00, 0e+00]\n",
      "  Bounds range     [1e+00, 1e+00]\n",
      "  RHS range        [1e-01, 1e+00]\n",
      "Presolve removed 13 rows and 8 columns\n",
      "Presolve time: 0.00s\n",
      "Presolve: All rows and columns removed\n",
      "Iteration    Objective       Primal Inf.    Dual Inf.      Time\n",
      "       0    0.0000000e+00   0.000000e+00   0.000000e+00      0s\n",
      "\n",
      "Solved in 0 iterations and 0.00 seconds (0.00 work units)\n",
      "Optimal objective  0.000000000e+00\n",
      "Q_ABC[0, 0, 0] = 0.1111111111111111\n",
      "Q_ABC[0, 0, 1] = 0.2222222222222222\n",
      "Q_ABC[0, 1, 0] = 0.2222222222222222\n",
      "Q_ABC[0, 1, 1] = 0.1111111111111111\n",
      "Q_ABC[1, 0, 0] = 0.3333333333333333\n",
      "Q_ABC[1, 0, 1] = 0.0\n",
      "Q_ABC[1, 1, 0] = 0.0\n",
      "Q_ABC[1, 1, 1] = 0.0\n"
     ]
    }
   ],
   "source": [
    "m.update()\n",
    "m.optimize()\n",
    "\n",
    "# check if feasible, if so get the solution\n",
    "if m.status == gp.GRB.OPTIMAL:\n",
    "    for i, j, k in np.ndindex(2, 2, 2):\n",
    "        print(f\"Q_ABC[{i}, {j}, {k}] = {Q_ABC[i, j, k].X}\")"
   ]
  },
  {
   "cell_type": "code",
   "execution_count": 7,
   "metadata": {},
   "outputs": [
    {
     "data": {
      "text/plain": [
       "1.0"
      ]
     },
     "execution_count": 7,
     "metadata": {},
     "output_type": "execute_result"
    }
   ],
   "source": [
    "sum([Q_ABC[a,b,c].X for a,b,c in np.ndindex(2,2,2)])"
   ]
  },
  {
   "cell_type": "code",
   "execution_count": null,
   "metadata": {},
   "outputs": [],
   "source": []
  }
 ],
 "metadata": {
  "kernelspec": {
   "display_name": "Python 3",
   "language": "python",
   "name": "python3"
  },
  "language_info": {
   "codemirror_mode": {
    "name": "ipython",
    "version": 3
   },
   "file_extension": ".py",
   "mimetype": "text/x-python",
   "name": "python",
   "nbconvert_exporter": "python",
   "pygments_lexer": "ipython3",
   "version": "3.10.4"
  }
 },
 "nbformat": 4,
 "nbformat_minor": 2
}
