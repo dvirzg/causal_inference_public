{
 "cells": [
  {
   "cell_type": "code",
   "execution_count": 1,
   "metadata": {},
   "outputs": [],
   "source": [
    "import gurobipy as gp\n",
    "import numpy as np"
   ]
  },
  {
   "cell_type": "code",
   "execution_count": 2,
   "metadata": {},
   "outputs": [],
   "source": [
    "\"\"\"\n",
    "# P_ABC_dict = {(0,0,0): 0,\n",
    "#          (0,0,1): 1/3,\n",
    "#          (0,1,0): 1/3,\n",
    "#          (1,0,0): 1/3,\n",
    "#          (0,1,1): 0,\n",
    "#          (1,0,1): 0,\n",
    "#          (1,1,0): 0,\n",
    "#          (1,1,1): 0}\n",
    "\n",
    "P_ABC_dict = {(0,0,0): 1/2,\n",
    "         (0,0,1): 0,\n",
    "         (0,1,0): 0,\n",
    "         (1,0,0): 0,\n",
    "         (0,1,1): 0,\n",
    "         (1,0,1): 0,\n",
    "         (1,1,0): 0,\n",
    "         (1,1,1): 1/2}\n",
    "\n",
    "# P_ABC dict to matrix\n",
    "P_ABC = np.zeros((2,2,2))\n",
    "for a,b,c in P_ABC_dict:\n",
    "    P_ABC[a,b,c] = P_ABC_dict[a,b,c]\n",
    "\"\"\"\n",
    "\n",
    "\n",
    "\n",
    "\n",
    "\n",
    "v=3/4\n",
    "P_ABC = np.zeros((2,2,2))\n",
    "for a,b,c in np.ndindex(2,2,2):\n",
    "    P_ABC[a,b,c] = (1-v)/7\n",
    "P_ABC[1,1,1] = v\n",
    "\n",
    "P_A = np.array([sum([P_ABC[a,b,c] for b,c in np.ndindex(2,2)]) for a in range(2)])\n",
    "P_B = np.array([sum([P_ABC[a,b,c] for a,c in np.ndindex(2,2)]) for b in range(2)])\n",
    "P_C = np.array([sum([P_ABC[a,b,c] for a,b in np.ndindex(2,2)]) for c in range(2)])"
   ]
  },
  {
   "cell_type": "code",
   "execution_count": 3,
   "metadata": {},
   "outputs": [
    {
     "name": "stdout",
     "output_type": "stream",
     "text": [
      "Set parameter Username\n",
      "Academic license - for non-commercial use only - expires 2025-01-09\n"
     ]
    }
   ],
   "source": [
    "m = gp.Model()\n",
    "Q_Ab_BC_giv_As = m.addMVar((2, 2, 2, 2), name=\"Q\", vtype=gp.GRB.CONTINUOUS, lb=0, ub=1) # A interupted\n",
    "R_A1A2_B1B2_C1C2_giv_As = m.addMVar((2, 2, 2, 2, 2, 2, 2), name=\"R\", vtype=gp.GRB.CONTINUOUS, lb=0, ub=1) # inflation\n",
    "m.update()"
   ]
  },
  {
   "cell_type": "code",
   "execution_count": 4,
   "metadata": {},
   "outputs": [],
   "source": [
    "# consistency\n",
    "for a, b, c in np.ndindex(2,2,2):\n",
    "    m.addConstr(P_ABC[a,b,c] == Q_Ab_BC_giv_As[a,b,c,a])\n",
    "\n",
    "\n",
    "## normalization\n",
    "for a_s in np.ndindex(2):\n",
    "    m.addConstr(R_A1A2_B1B2_C1C2_giv_As[:,:,:,:,:,:,a_s].sum() == 1)\n",
    "    m.addConstr(Q_Ab_BC_giv_As[:,:,:,a_s].sum() == 1)\n",
    "\n",
    "\n",
    "\"\"\"\n",
    "## marginalization, should be trivial\n",
    "for var, a_s in np.ndindex(2,2):\n",
    "    m.addConstr(Q_Ab_BC_giv_As[var,:,:,a_s].sum() == P_A[var]) # Q(Ab|As) = P(A)\n",
    "    m.addConstr(Q_Ab_BC_giv_As[:,:,var,a_s].sum() == P_C[var]) # Q(C|As) = P(C)\n",
    "\"\"\"\n",
    "\n",
    "## do conditional on P is a normal conditional on Q\n",
    "def P_B_do_A(b,a):\n",
    "    return Q_Ab_BC_giv_As[:,b,:,a].sum()"
   ]
  },
  {
   "cell_type": "code",
   "execution_count": 5,
   "metadata": {},
   "outputs": [],
   "source": [
    "## graph to graph relations:\n",
    "\n",
    "# R(A1,B1,C1|A#) = Q(Ab,B,C|A#)\n",
    "for a,b,c,a_s in np.ndindex(2,2,2,2):\n",
    "    m.addConstr(R_A1A2_B1B2_C1C2_giv_As[a,:,b,:,c,:,a_s].sum() == Q_Ab_BC_giv_As[a,b,c,a_s])\n",
    "\n",
    "# R(A2,B2,C2|A#) = P(A)P(C)Q(B|A#) = Q(A)Q(C)Q(B|A#)\n",
    "for a,b,c,a_s in np.ndindex(2,2,2,2):\n",
    "    m.addConstr(R_A1A2_B1B2_C1C2_giv_As[:,a,:,b,:,c,a_s].sum() == P_A[a]*P_C[c]*Q_Ab_BC_giv_As[:,b,:,a_s].sum())\n",
    "    # also == Q_Ab_BC_giv_As[a,b,c,a_s]?\n",
    "\n",
    "# R(A1,B2|A#) = Q(Ab,B|A#)\n",
    "for a_b, a_s, b in np.ndindex(2,2,2):\n",
    "    m.addConstr(R_A1A2_B1B2_C1C2_giv_As[a_b,:,:,b,:,:,a_s].sum() == Q_Ab_BC_giv_As[a_b,b,:,a_s].sum())\n",
    "\n",
    "# # R(C2,A2|A#) = P(A)P(C)\n",
    "# for c, a, a_s in np.ndindex(2,2,2):\n",
    "#     m.addConstr(R_A1A2_B1B2_C1C2_giv_As[:,a,:,:,:,c,a_s].sum() == P_A[a]*P_C[c])\n",
    "\n",
    "# R(A1,A2,C1,C2|A# = 0) = R(A1,A2,C1,C2|A# = 1)\n",
    "for a1,a2,c1,c2 in np.ndindex(2,2,2,2):\n",
    "    m.addConstr(R_A1A2_B1B2_C1C2_giv_As[a1,a2,:,:,c1,c2,0].sum() == R_A1A2_B1B2_C1C2_giv_As[a1,a2,:,:,c1,c2,1].sum())"
   ]
  },
  {
   "cell_type": "code",
   "execution_count": 6,
   "metadata": {},
   "outputs": [],
   "source": [
    "# independence on Q\n",
    "\n",
    "# (Ab ⫫ As| B) on Q: Q(Ab|B,A#=0) = Q(Ab|B, A#=1)\n",
    "for a_b in range(2):\n",
    "    m.addConstr(Q_Ab_BC_giv_As[a_b,:,:,0].sum() == Q_Ab_BC_giv_As[a_b,:,:,1].sum())\n",
    "\n",
    "# (C ⫫ As| B) on Q: Q(C|B,A#=0) = Q(C|B,A#=1)\n",
    "for c in range(2):\n",
    "    m.addConstr(Q_Ab_BC_giv_As[:,:,c,0].sum() == Q_Ab_BC_giv_As[:,:,c,1].sum())"
   ]
  },
  {
   "cell_type": "markdown",
   "metadata": {},
   "source": [
    "objective is to minimize $|P(B=1|do(A=0)) - P(B=1|do(A=1))|$  \n",
    "can do in linear programming by:  \n",
    "\n",
    "minimizing $t$ s.T: $$P(B=1|do(A=0)) - P(B=1|do(A=1)) \\le t \\\\ P(B=1|do(A=1)) - P(B=1|do(A=0))\\le t$$"
   ]
  },
  {
   "cell_type": "code",
   "execution_count": 7,
   "metadata": {},
   "outputs": [],
   "source": [
    "t = m.addVar(name=\"t\", vtype=gp.GRB.CONTINUOUS, lb=0, ub=10)\n",
    "a1, a2 = 0,1\n",
    "b = 1\n",
    "\n",
    "m.addConstr(P_B_do_A(b,a1) - P_B_do_A(b,a2) <= t)\n",
    "m.addConstr(P_B_do_A(b, a2) - P_B_do_A(b, a1) <= t)\n",
    "m.update()"
   ]
  },
  {
   "cell_type": "code",
   "execution_count": 8,
   "metadata": {},
   "outputs": [
    {
     "name": "stdout",
     "output_type": "stream",
     "text": [
      "Gurobi Optimizer version 11.0.1 build v11.0.1rc0 (win64 - Windows 11.0 (22631.2))\n",
      "\n",
      "CPU model: 11th Gen Intel(R) Core(TM) i7-11800H @ 2.30GHz, instruction set [SSE2|AVX|AVX2|AVX512]\n",
      "Thread count: 8 physical cores, 16 logical processors, using up to 16 threads\n",
      "\n",
      "Optimize a model with 74 rows, 145 columns and 810 nonzeros\n",
      "Model fingerprint: 0x6a65e442\n",
      "Coefficient statistics:\n",
      "  Matrix range     [2e-02, 1e+00]\n",
      "  Objective range  [1e+00, 1e+00]\n",
      "  Bounds range     [1e+00, 1e+01]\n",
      "  RHS range        [4e-02, 1e+00]\n",
      "Presolve removed 30 rows and 16 columns\n",
      "Presolve time: 0.00s\n",
      "Presolved: 44 rows, 129 columns, 399 nonzeros\n",
      "\n",
      "Iteration    Objective       Primal Inf.    Dual Inf.      Time\n",
      "       0    0.0000000e+00   7.144877e+00   0.000000e+00      0s\n",
      "      61    0.0000000e+00   0.000000e+00   0.000000e+00      0s\n",
      "\n",
      "Solved in 61 iterations and 0.01 seconds (0.00 work units)\n",
      "Optimal objective  0.000000000e+00\n"
     ]
    }
   ],
   "source": [
    "m.setObjective(t, gp.GRB.MINIMIZE)\n",
    "m.optimize()"
   ]
  },
  {
   "cell_type": "code",
   "execution_count": 9,
   "metadata": {},
   "outputs": [
    {
     "name": "stdout",
     "output_type": "stream",
     "text": [
      "t=0.0\n",
      "P_B_do_A(1,0)=0.7857142857142858\n",
      "P_B_do_A(1,1)=0.7857142857142857\n",
      "|P_B_do_A(1,0) - P_B_do_A(1,1)| = 1.1102230246251565e-16\n"
     ]
    }
   ],
   "source": [
    "if m.status == gp.GRB.OPTIMAL:\n",
    "    print(f\"t={t.X}\\nP_B_do_A({b},{a1})={Q_Ab_BC_giv_As[:,b,:,a1].X.sum()}\\nP_B_do_A({b},{a2})={Q_Ab_BC_giv_As[:,b,:,a2].X.sum()}\")\n",
    "    print(f\"|P_B_do_A({b},{a1}) - P_B_do_A({b},{a2})| =\",abs(Q_Ab_BC_giv_As[:,b,:,a1].X.sum() - Q_Ab_BC_giv_As[:,b,:,a2].X.sum()))\n",
    "else:\n",
    "    print(\"No solution found\")"
   ]
  }
 ],
 "metadata": {
  "kernelspec": {
   "display_name": "Python 3",
   "language": "python",
   "name": "python3"
  },
  "language_info": {
   "codemirror_mode": {
    "name": "ipython",
    "version": 3
   },
   "file_extension": ".py",
   "mimetype": "text/x-python",
   "name": "python",
   "nbconvert_exporter": "python",
   "pygments_lexer": "ipython3",
   "version": "3.10.4"
  }
 },
 "nbformat": 4,
 "nbformat_minor": 2
}
