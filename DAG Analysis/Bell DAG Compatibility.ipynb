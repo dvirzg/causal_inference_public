{
 "cells": [
  {
   "cell_type": "markdown",
   "metadata": {},
   "source": [
    "# Two programs:\n",
    "$1.$ print out all d-seperations of a given DAG  \n",
    "\n",
    "$2.$ take $P_{AB|XY}$ return if compatible w/ bell DAG, can be done by  \n",
    "* checking if can find the product distribution that fit Bell DAG (does there exist a structural eqn?)  \n",
    "* use Fine's theorem. can the product of distributions be found using the convex combination of the 16 datatables?\n",
    "(f(x->a))... each w/ bunch\n",
    "* do this w/ any cardinality i.e. for two binary input output we can have 4 funcitons:  \n",
    "    $f(a,b) = (0,0)\\\\\n",
    "    f(a,b) = (1,1)\\\\\n",
    "    f(a,b) = (b,a)\\\\\n",
    "    f(a,b) = (a,b)$  \n",
    "    gives us 4 possible functions, set up program for any cardinality."
   ]
  },
  {
   "cell_type": "markdown",
   "metadata": {},
   "source": [
    "## Structural Equation Test to the Bell DAG:"
   ]
  },
  {
   "cell_type": "markdown",
   "metadata": {},
   "source": [
    "given known values of $P_{ABC}(a,b,c)$ for all binary permutations of $A,B,C$:  \n",
    "$P_{ABC}(a,b,c) =  \\sum P_\\lambda (\\lambda) P_{A|\\lambda}(a, \\lambda) P_{B|A}(b,a) P_{C|B \\lambda}(c,b,\\lambda) \\qquad \\forall \\lambda \\in [0,card]$  \n",
    "we find set of values of $P_\\lambda (\\lambda), \\space P_{A|\\lambda}(a, \\lambda), \\space P_{C|B \\lambda}(c,b,\\lambda)$ that match this constraints, we then find the set of three values that maximize $P_{C |do(B)}(C,B)$\n",
    "\n",
    "\n",
    "note: can change the cardinality of the hidden variable lamda."
   ]
  },
  {
   "cell_type": "code",
   "execution_count": null,
   "metadata": {},
   "outputs": [],
   "source": [
    "import gurobipy as gp\n",
    "from gurobipy import GRB\n",
    "import itertools\n",
    "import numpy as np"
   ]
  },
  {
   "cell_type": "code",
   "execution_count": null,
   "metadata": {},
   "outputs": [],
   "source": [
    "# Alice and Bob's settings\n",
    "card_X = 2\n",
    "card_Y = 2\n",
    "\n",
    "# Alice and Bob's results\n",
    "card_A = 2\n",
    "card_B = 2\n",
    "\n",
    "# hidden common cause\n",
    "card_l = 2"
   ]
  },
  {
   "cell_type": "code",
   "execution_count": null,
   "metadata": {},
   "outputs": [],
   "source": [
    "observable_probs = np.arange(card_A * card_B * card_X * card_Y)\n",
    "observable_probs = observable_probs / observable_probs.sum()\n",
    "observable_probs = observable_probs.reshape(card_A, card_B, card_X, card_Y)\n",
    "\n",
    "# defining a distribution P(AB|XY) based on cardinality of X, Y, A, B\n",
    "dist_ABXY = {}\n",
    "for a, b, x, y in itertools.product(range(card_A), range(card_B), range(card_X), range(card_Y)):\n",
    "    prob = observable_probs[a, b, x, y]\n",
    "    dist_ABXY[(a, b, x, y)] = prob\n"
   ]
  },
  {
   "cell_type": "code",
   "execution_count": null,
   "metadata": {},
   "outputs": [],
   "source": [
    "dist_ABXY"
   ]
  },
  {
   "cell_type": "markdown",
   "metadata": {},
   "source": [
    "distribution feasible?"
   ]
  },
  {
   "cell_type": "code",
   "execution_count": null,
   "metadata": {},
   "outputs": [],
   "source": [
    "sum(dist_ABXY.values()) == 1"
   ]
  },
  {
   "cell_type": "code",
   "execution_count": null,
   "metadata": {},
   "outputs": [],
   "source": [
    "# get P_AB|XY from P_ABXY\n",
    "def P_AB_giv_XY(A,B, X, Y):\n",
    "    P_ABXY = sum([dist_ABXY[(a,b,x,y)] for a,b,x,y in dist_ABXY if a==A and b==B and x==X and y==Y])\n",
    "    P_AB = sum([dist_ABXY[(a,b,x,y)] for a,b,x,y in dist_ABXY if a==A and b==B])\n",
    "\n",
    "\n",
    "    return P_ABXY/P_AB"
   ]
  },
  {
   "cell_type": "markdown",
   "metadata": {},
   "source": [
    "sanity check for feasibility:\n"
   ]
  },
  {
   "cell_type": "code",
   "execution_count": 1,
   "metadata": {},
   "outputs": [
    {
     "name": "stderr",
     "output_type": "stream",
     "text": [
      "c:\\Users\\dvirz\\AppData\\Local\\Programs\\Python\\Python310\\lib\\site-packages\\qutip\\__init__.py:24: UserWarning: matplotlib not found: Graphics will not work.\n",
      "  warnings.warn(\"matplotlib not found: Graphics will not work.\")\n"
     ]
    },
    {
     "ename": "TypeError",
     "evalue": "must be real number, not Qobj",
     "output_type": "error",
     "traceback": [
      "\u001b[1;31m---------------------------------------------------------------------------\u001b[0m",
      "\u001b[1;31mTypeError\u001b[0m                                 Traceback (most recent call last)",
      "Cell \u001b[1;32mIn[1], line 55\u001b[0m\n\u001b[0;32m     52\u001b[0m         prob[a,b,c,x,y,z] \u001b[38;5;241m=\u001b[39m np\u001b[38;5;241m.\u001b[39mtrace(np\u001b[38;5;241m.\u001b[39mdot(rho,np\u001b[38;5;241m.\u001b[39mkron(A[:,:,x,a],np\u001b[38;5;241m.\u001b[39mkron(B[:,:,y,b],C[:,:,z,c]))))\n\u001b[0;32m     53\u001b[0m     \u001b[38;5;28;01mreturn\u001b[39;00m prob\n\u001b[1;32m---> 55\u001b[0m \u001b[38;5;28mprint\u001b[39m(\u001b[43mprobEJM\u001b[49m\u001b[43m(\u001b[49m\u001b[38;5;241;43m1\u001b[39;49m\u001b[43m,\u001b[49m\u001b[38;5;241;43m1\u001b[39;49m\u001b[43m,\u001b[49m\u001b[38;5;241;43m0\u001b[39;49m\u001b[43m)\u001b[49m)\n",
      "Cell \u001b[1;32mIn[1], line 26\u001b[0m, in \u001b[0;36mprobEJM\u001b[1;34m(V1, V2, theta)\u001b[0m\n\u001b[0;32m     24\u001b[0m eival_A2,eivect_A2 \u001b[38;5;241m=\u001b[39m A2\u001b[38;5;241m.\u001b[39meigenstates() \u001b[38;5;66;03m#eigen of A for x = 2\u001b[39;00m\n\u001b[0;32m     25\u001b[0m eival_A3,eivect_A3 \u001b[38;5;241m=\u001b[39m A3\u001b[38;5;241m.\u001b[39meigenstates() \u001b[38;5;66;03m#eigen of A for x = 3\u001b[39;00m\n\u001b[1;32m---> 26\u001b[0m \u001b[43mA\u001b[49m\u001b[43m[\u001b[49m\u001b[43m:\u001b[49m\u001b[43m,\u001b[49m\u001b[43m:\u001b[49m\u001b[43m,\u001b[49m\u001b[38;5;241;43m0\u001b[39;49m\u001b[43m,\u001b[49m\u001b[38;5;241;43m0\u001b[39;49m\u001b[43m]\u001b[49m \u001b[38;5;241m=\u001b[39m np\u001b[38;5;241m.\u001b[39mdot(eivect_A1[\u001b[38;5;241m0\u001b[39m],eivect_A1[\u001b[38;5;241m0\u001b[39m]\u001b[38;5;241m.\u001b[39mdag()) \u001b[38;5;66;03m# measurement of A for x = 1 corresponding to a=1\u001b[39;00m\n\u001b[0;32m     27\u001b[0m A[:,:,\u001b[38;5;241m0\u001b[39m,\u001b[38;5;241m1\u001b[39m] \u001b[38;5;241m=\u001b[39m np\u001b[38;5;241m.\u001b[39mdot(eivect_A1[\u001b[38;5;241m1\u001b[39m],eivect_A1[\u001b[38;5;241m1\u001b[39m]\u001b[38;5;241m.\u001b[39mdag()) \u001b[38;5;66;03m# measurement of A for x = 1 corresponding to a=-1\u001b[39;00m\n\u001b[0;32m     28\u001b[0m A[:,:,\u001b[38;5;241m1\u001b[39m,\u001b[38;5;241m0\u001b[39m] \u001b[38;5;241m=\u001b[39m np\u001b[38;5;241m.\u001b[39mdot(eivect_A2[\u001b[38;5;241m0\u001b[39m],eivect_A2[\u001b[38;5;241m0\u001b[39m]\u001b[38;5;241m.\u001b[39mdag())\n",
      "\u001b[1;31mTypeError\u001b[0m: must be real number, not Qobj"
     ]
    }
   ],
   "source": [
    "import numpy as np \n",
    "from qutip import *\n",
    "import itertools\n",
    "\n",
    "def probEJM(V1,V2,theta):\n",
    "    #sources\n",
    "    psi_ = bell_state(state='11') # this is |psi->\n",
    "    psi = ket2dm(psi_) #this is |psi-><psi-|\n",
    "    iden2 = sigmax()*sigmax()\n",
    "    iden4 = tensor(iden2,iden2)\n",
    "    rho1 = V1*psi + ((1-V1)/4)*iden4\n",
    "    rho2 = V2*psi + ((1-V2)/4)*iden4\n",
    "    rho = tensor(rho1,rho2)\n",
    "    #measurements\n",
    "    A=np.zeros(24,dtype = 'complex_').reshape([2,2,3,2]) # initialization of an hypermatrix A the last to indices corresponds to x and a respectively, i.e. A[:,:,0,1] is the measurement done when x=0 and a=-1 (en el ultimo indice 0 corresponde a 1 y 1 a -1)\n",
    "    C=np.zeros(24,dtype = 'complex_').reshape([2,2,3,2]) # the same for C\n",
    "    A1 = sigmax() # measurement of A for x = 1\n",
    "    A2 = sigmay() # measurement of A for x = 2\n",
    "    A3 = sigmaz() # measurement of A for x = 3\n",
    "    # A1 = (sigmax()+sigmax())/np.sqrt(2) # measurement of A for x = 1\n",
    "    # A2 = sigmay() # measurement of A for x = 2\n",
    "    # A3 = (sigmax()-sigmax())/np.sqrt(2) # measurement of A for x = 3\n",
    "    eival_A1,eivect_A1 = A1.eigenstates() #eigen of A for x = 1\n",
    "    eival_A2,eivect_A2 = A2.eigenstates() #eigen of A for x = 2\n",
    "    eival_A3,eivect_A3 = A3.eigenstates() #eigen of A for x = 3\n",
    "    A[:,:,0,0] = np.dot(eivect_A1[0],eivect_A1[0].dag()) # measurement of A for x = 1 corresponding to a=1\n",
    "    A[:,:,0,1] = np.dot(eivect_A1[1],eivect_A1[1].dag()) # measurement of A for x = 1 corresponding to a=-1\n",
    "    A[:,:,1,0] = np.dot(eivect_A2[0],eivect_A2[0].dag())\n",
    "    A[:,:,1,1] = np.dot(eivect_A2[1],eivect_A2[1].dag())\n",
    "    A[:,:,2,0] = np.dot(eivect_A3[0],eivect_A3[0].dag())\n",
    "    A[:,:,2,1] = np.dot(eivect_A3[1],eivect_A3[1].dag())\n",
    "    C = A\n",
    "    # Elegant joint measurement for Bob\n",
    "    B = np.zeros((4,4,1,4),dtype = 'complex_')\n",
    "    eta = (1/np.sqrt(3))*np.array([1,-1,-1,1])\n",
    "    phib = (np.pi/4)*np.array([1,-1,3,-3])\n",
    "    zero = basis(2)\n",
    "    one = basis(2,1)\n",
    "    m = np.zeros((2,1,4),dtype = 'complex_')\n",
    "    m_ = np.zeros((2,1,4),dtype = 'complex_')\n",
    "    phi_theta = np.zeros((4,1,4),dtype = 'complex_')\n",
    "    for b in range(4):\n",
    "        m[:,:,b] = np.sqrt((1+eta[b])/2)*np.exp(-1j*phib[b]/2)*zero + np.sqrt((1-eta[b])/2)*np.exp(1j*phib[b]/2)*one\n",
    "        m[:,:,b] = Qobj(m[:,:,b])\n",
    "        m_[:,:,b] = np.sqrt((1-eta[b])/2)*np.exp(-1j*phib[b]/2)*zero - np.sqrt((1+eta[b])/2)*np.exp(1j*phib[b]/2)*one\n",
    "        m_[:,:,b] = Qobj(m_[:,:,b])\n",
    "        phi_theta[:,:,b] = ((np.sqrt(3)+np.exp(1j*theta))/(2*np.sqrt(2)))*np.kron(m[:,:,b],m_[:,:,b]) + ((np.sqrt(3)-np.exp(1j*theta))/(2*np.sqrt(2)))*np.kron(m_[:,:,b],m[:,:,b])\n",
    "        B[:,:,0,b] = np.dot(phi_theta[:,:,b],phi_theta[:,:,b].conj().T)\n",
    "\n",
    "    prob = np.zeros((2,4,2,3,1,3))\n",
    "    for a,b,c,x,y,z in itertools.product(*[range(i) for i in (2,4,2,3,1,3)]):\n",
    "        prob[a,b,c,x,y,z] = np.trace(np.dot(rho,np.kron(A[:,:,x,a],np.kron(B[:,:,y,b],C[:,:,z,c]))))\n",
    "    return prob\n",
    "\n",
    "print(probEJM(1,1,0))\n"
   ]
  },
  {
   "cell_type": "markdown",
   "metadata": {},
   "source": [
    "$P_Z(Z)$"
   ]
  },
  {
   "cell_type": "code",
   "execution_count": null,
   "metadata": {},
   "outputs": [],
   "source": [
    "# P_A(a) = sum_{B,C} P_ABC(a,b,c)\n",
    "def P_A(a):\n",
    "    return sum([dist[(a, B, C)] for B in range(card_B) for C in range(card_C)])"
   ]
  },
  {
   "cell_type": "markdown",
   "metadata": {},
   "source": [
    "$P_\\lambda (\\lambda), \\space P_{A|\\lambda} (A, \\lambda), \\space P_{C|B,\\lambda} (C, B, \\lambda)$"
   ]
  },
  {
   "cell_type": "code",
   "execution_count": null,
   "metadata": {},
   "outputs": [],
   "source": [
    "m = gp.Model()\n",
    "#m.Params.LogToConsole = 0\n",
    "\n",
    "# variables (MVars)\n",
    "P_l = m.addMVar(shape = card, vtype=GRB.CONTINUOUS, name=\"P_l\", lb=0, ub=1)\n",
    "P_C_given_B_l = m.addMVar(shape = (card_C, card_B, card), vtype=GRB.CONTINUOUS, name=\"P_C_given_B_l\", lb=0, ub=1)\n",
    "\n",
    "# instrumental DAG:\n",
    "P_B_given_A_l = m.addMVar(shape = (card_B, card_A, card), vtype=GRB.CONTINUOUS, name=\"P_A_given_l\", lb=0, ub=1)\n",
    "\n",
    "\n",
    "## can't add products of three variables, so we add a new helper variable\n",
    "tripple_prod = m.addMVar(shape=(card_C, card_B, card, card), vtype=GRB.CONTINUOUS, name=\"c do b lamdbda time p_lambda\", lb=0, ub=1) \n",
    "p_C_do_B = m.addMVar(shape=(card_C, card_B), vtype=GRB.CONTINUOUS, name=\"c do b\", lb=0, ub=1)\n",
    "m.update()\n",
    "\n",
    "for a, b, c in itertools.product(range(card_A), range(card_B), range(card_C)):\n",
    "    P_ABC = dist[(a, b, c)]\n",
    "    RHS_obs = gp.LinExpr()\n",
    "    RHS_do = gp.LinExpr()    \n",
    "    for l in range(card):\n",
    "        m.addConstr(tripple_prod[b, c, l] == P_l[l] * P_C_given_B_l[c, b, l])\n",
    "        ##############\n",
    "        #if instrumental:\n",
    "        RHS_obs += tripple_prod[b, c, l]*P_B_given_A_l[b, a, l]*P_A(a) # instrumental DAG\n",
    "        ##############\n",
    "        RHS_do += tripple_prod[b, c, l]\n",
    "    # probability distribution to symbolic equations equality constraint \n",
    "    m.addConstr(P_ABC == RHS_obs)\n",
    "    m.addConstr(p_C_do_B[c, b] == RHS_do)\n",
    "\n",
    "\n",
    "for l in range(card):\n",
    "    m.addConstr(gp.quicksum(P_l[l] for l in range(card)) == 1, \"sum_P_l = 1\")\n",
    "    m.addConstr(gp.quicksum(P_A_given_l[a, l] for a in [0, 1]) == 1, f\"sum_P_A_given_l_{l} = 1\")\n",
    "    \n",
    "    # only in card_B = 2\n",
    "    m.addConstr(gp.quicksum(P_C_given_B_l[c, 0, l] for c in [0, 1]) == 1, f\"sum_P_C_given_B_l_0_{l} = 1\")\n",
    "    m.addConstr(gp.quicksum(P_C_given_B_l[c, 1, l] for c in [0, 1]) == 1, f\"sum_P_C_given_B_l_1_{l} = 1\")\n",
    "\n",
    "    m.addConstr(gp.quicksum(P_B_given_A_l[b, 0, l] for b in [0, 1]) == 1, f\"sum_P_C_given_B_l_0_{l} = 1\")\n",
    "    m.addConstr(gp.quicksum(P_B_given_A_l[b, 1, l] for b in [0, 1]) == 1, f\"sum_P_C_given_B_l_1_{l} = 1\")"
   ]
  },
  {
   "cell_type": "code",
   "execution_count": null,
   "metadata": {},
   "outputs": [],
   "source": [
    "# can take (range(card_C), range(card_B), \"max\" or else is min) as input\n",
    "def main(c,b):\n",
    "    print(f\"optimizing P(C={c}|do(B={b}))...\")\n",
    "    m.setObjective(p_C_do_B[c,b], GRB.MINIMIZE)\n",
    "    m.optimize()\n",
    "    min_val = p_C_do_B[c,b].X.item()\n",
    "\n",
    "    m.setObjective(p_C_do_B[c,b], GRB.MAXIMIZE)\n",
    "    m.optimize()\n",
    "    max_val = p_C_do_B[c,b].X.item()\n",
    "\n",
    "    print(\"\\nmin value: \", min_val)\n",
    "    print(\"max value: \", max_val)\n",
    "    print(\"distance:\", max_val - min_val)"
   ]
  },
  {
   "cell_type": "markdown",
   "metadata": {},
   "source": [
    "$\\text{max/min }(P_{C|\\text{do}(B)})$ over the three unknowns."
   ]
  },
  {
   "cell_type": "code",
   "execution_count": null,
   "metadata": {},
   "outputs": [],
   "source": [
    "main(1,1)"
   ]
  }
 ],
 "metadata": {
  "kernelspec": {
   "display_name": "Python 3",
   "language": "python",
   "name": "python3"
  },
  "language_info": {
   "codemirror_mode": {
    "name": "ipython",
    "version": 3
   },
   "file_extension": ".py",
   "mimetype": "text/x-python",
   "name": "python",
   "nbconvert_exporter": "python",
   "pygments_lexer": "ipython3",
   "version": "3.10.4"
  }
 },
 "nbformat": 4,
 "nbformat_minor": 2
}
