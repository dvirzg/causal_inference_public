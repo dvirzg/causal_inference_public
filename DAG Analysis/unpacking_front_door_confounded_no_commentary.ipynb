{
 "cells": [
  {
   "cell_type": "markdown",
   "metadata": {},
   "source": [
    "## Simplest"
   ]
  },
  {
   "cell_type": "code",
   "execution_count": 1,
   "metadata": {},
   "outputs": [
    {
     "name": "stdout",
     "output_type": "stream",
     "text": [
      "Set parameter Username\n",
      "Academic license - for non-commercial use only - expires 2025-01-09\n",
      "Set parameter NonConvex to value 2\n"
     ]
    }
   ],
   "source": [
    "import gurobipy as gp\n",
    "from gurobipy import GRB\n",
    "import itertools\n",
    "import numpy as np\n",
    "\n",
    "model = gp.Model()\n",
    "model.params.NonConvex = 2"
   ]
  },
  {
   "cell_type": "markdown",
   "metadata": {},
   "source": [
    "here need $P_{ZAMY}$"
   ]
  },
  {
   "cell_type": "code",
   "execution_count": 2,
   "metadata": {},
   "outputs": [],
   "source": [
    "P_AMY_giv_Z = {(0, 0, 0, 0): 0.336, (0, 1, 0, 0): 0.084, (1, 0, 0, 0): 0.056, (1, 1, 0, 0): 0.224, (0, 0, 0, 1): 0.096, (0, 1, 0, 1): 0.024, (1, 0, 0, 1): 0.036, (1, 1, 0, 1): 0.144, (0, 0, 1, 0): 0.144, (0, 1, 1, 0): 0.036, (1, 0, 1, 0): 0.024, (1, 1, 1, 0): 0.096, (0, 0, 1, 1): 0.224, (0, 1, 1, 1): 0.056, (1, 0, 1, 1): 0.084, (1, 1, 1, 1): 0.336}"
   ]
  },
  {
   "cell_type": "code",
   "execution_count": 3,
   "metadata": {},
   "outputs": [],
   "source": [
    "(cardZ, cardA, cardM, cardY) = (2,2,2,2)\n",
    "\n",
    "Q_AzAz_MaMa_YmYm = model.addMVar(shape = (cardA, cardA, cardM, cardM, cardY, cardY), \n",
    "                             vtype=GRB.CONTINUOUS, name=\"Q_(A0,A1,M0,M1,Y0,Y1)\", lb=0, ub=1)"
   ]
  },
  {
   "cell_type": "code",
   "execution_count": 4,
   "metadata": {},
   "outputs": [],
   "source": [
    "# coordinate finder used for P(a,m,y|z) = Σ_(a',m',y')[Q_(a,a',m,m',y,y')]\n",
    "def Q_pos_from_P(a, m, y, z):\n",
    "    if z == 0:\n",
    "        posA0 = a\n",
    "        posA1 = slice(None)  # Represents ':'\n",
    "    else:  # z == 1\n",
    "        posA0 = slice(None)\n",
    "        posA1 = a\n",
    "    \n",
    "    # determining positions for m and y\n",
    "    if a==0:\n",
    "        posM0 = m\n",
    "        posM1 = slice(None)\n",
    "    elif a==1:\n",
    "        posM0 = slice(None)\n",
    "        posM1 = m\n",
    "\n",
    "    if m==0:\n",
    "        posY0 = y\n",
    "        posY1 = slice(None)\n",
    "    elif m==1:\n",
    "        posY0 = slice(None)\n",
    "        posY1 = y\n",
    "\n",
    "    # Creating a tuple that properly represents the slicing\n",
    "    return (posA0, posA1, posM0, posM1, posY0, posY1)\n",
    "\n",
    "# coordinate finder used for P_YM_doA[y,m,a] = Σ_(A0, A1, M_A\\not=a, Y_M\\not=m)[Q_(a,a',m,m',y,y')]\n",
    "def do_pos(y,m,a):\n",
    "    # sliced means iterate through in the sum\n",
    "    \n",
    "    # keep M such that M_A=m, slice other\n",
    "    if a == 0:\n",
    "        posM0 = m\n",
    "        posM1 = slice(None)\n",
    "    elif a == 1:    \n",
    "        posM0 = slice(None)\n",
    "        posM1 = m\n",
    "\n",
    "\n",
    "    if m == 0:\n",
    "        posY0 = y\n",
    "        posY1 = slice(None)\n",
    "    elif m == 1:\n",
    "        posY0 = slice(None)\n",
    "        posY1 = y\n",
    "\n",
    "\n",
    "    # Creating a tuple that properly represents the slicing\n",
    "    return (slice(None), slice(None), posM0, posM1, posY0, posY1) "
   ]
  },
  {
   "cell_type": "code",
   "execution_count": 5,
   "metadata": {},
   "outputs": [],
   "source": [
    "# consistency constraints\n",
    "for a, m, y, z in itertools.product(range(cardA), range(cardM), range(cardY), range(cardZ)):\n",
    "    model.addConstr(Q_AzAz_MaMa_YmYm[Q_pos_from_P(a,m,y,z)].sum() \n",
    "                    == \n",
    "                    P_AMY_giv_Z[a,m,y,z], \n",
    "                    name=f\"{P_AMY_giv_Z[a,m,y,z]} = P_AMY|Z[{a,m,y}|{z}]\")\n",
    "\n",
    "# seperability constraints\n",
    "for a0, a1, m0, m1 in itertools.product(range(cardA), range(cardA), range(cardM), range(cardM)):\n",
    "    model.addConstr(Q_AzAz_MaMa_YmYm[a0, a1, m0, m1, :, :].sum()\n",
    "                    == \n",
    "                    #(Q_AzAz_MaMa_YmYm[a0, a1, :, :, :, :].sum() * Q_AzAz_MaMa_YmYm[:, :, m0, m1, :, :].sum()).sum(),\n",
    "                    Q_AzAz_MaMa_YmYm[a0, a1, :, :, :, :].sum() * Q_AzAz_MaMa_YmYm[:, :, m0, m1, :, :].sum(), \n",
    "                    name=f\"Q_A0_A1_M0_M1[{a0},{a1},{m0},{m1}] = Q_A0_A1[{a0},{a1}] * Q_M0_M1[{m0},{m1}]\")\n",
    "\n",
    "# other seperability constraints\n",
    "for a,y in np.ndindex(cardA, cardY):\n",
    "    model.addConstr((Q_AzAz_MaMa_YmYm[do_pos(y,0,a)] + Q_AzAz_MaMa_YmYm[do_pos(y,1,a)]).sum() \n",
    "                    == \n",
    "                    Q_AzAz_MaMa_YmYm[do_pos(y,0,a)].sum() + Q_AzAz_MaMa_YmYm[do_pos(y,1,a)].sum(), \n",
    "                    name=f\"P_Y_doA[{a},{y}] = P_YM_doA[{y},0,{a}] + P_YM_doA[{y},1,{a}]\")\n",
    "\n",
    "model.update()"
   ]
  },
  {
   "cell_type": "code",
   "execution_count": 6,
   "metadata": {},
   "outputs": [],
   "source": [
    "def P_Y_doA(y, a):\n",
    "    return (Q_AzAz_MaMa_YmYm[do_pos(y,0,a)] + Q_AzAz_MaMa_YmYm[do_pos(y,1,a)]).sum()"
   ]
  },
  {
   "cell_type": "markdown",
   "metadata": {},
   "source": [
    "## Execute:"
   ]
  },
  {
   "cell_type": "code",
   "execution_count": 10,
   "metadata": {},
   "outputs": [],
   "source": [
    "(y,b) = (1,1)"
   ]
  },
  {
   "cell_type": "code",
   "execution_count": 11,
   "metadata": {},
   "outputs": [
    {
     "name": "stdout",
     "output_type": "stream",
     "text": [
      "Gurobi Optimizer version 11.0.0 build v11.0.0rc2 (win64 - Windows 11.0 (22621.2))\n",
      "\n",
      "CPU model: 11th Gen Intel(R) Core(TM) i7-11800H @ 2.30GHz, instruction set [SSE2|AVX|AVX2|AVX512]\n",
      "Thread count: 8 physical cores, 16 logical processors, using up to 16 threads\n",
      "\n",
      "Optimize a model with 20 rows, 64 columns and 128 nonzeros\n",
      "Model fingerprint: 0xb7576061\n",
      "Model has 16 quadratic constraints\n",
      "Variable types: 64 continuous, 0 integer (0 binary)\n",
      "Coefficient statistics:\n",
      "  Matrix range     [1e+00, 1e+00]\n",
      "  QMatrix range    [1e+00, 2e+00]\n",
      "  QLMatrix range   [1e+00, 1e+00]\n",
      "  Objective range  [1e+00, 1e+00]\n",
      "  Bounds range     [1e+00, 1e+00]\n",
      "  RHS range        [2e-02, 3e-01]\n",
      "\n"
     ]
    },
    {
     "name": "stdout",
     "output_type": "stream",
     "text": [
      "Processing MIP start from previous solve: 325 nodes explored in subMIP, total elapsed time 5s\n",
      "MIP start from previous solve produced solution with objective 0.42 (9.41s)\n",
      "Loaded MIP start from previous solve with objective 0.42\n",
      "Processed MIP start in 9.43 seconds (23.99 work units)\n",
      "\n",
      "Presolve removed 4 rows and 0 columns\n",
      "Presolve time: 0.01s\n",
      "Presolved: 8288 rows, 2144 columns, 20767 nonzeros\n",
      "Presolved model has 2080 bilinear constraint(s)\n",
      "\n",
      "Solving non-convex MIQCP\n",
      "\n",
      "Variable types: 2144 continuous, 0 integer (0 binary)\n",
      "\n",
      "Root simplex log...\n",
      "\n",
      "Iteration    Objective       Primal Inf.    Dual Inf.      Time\n",
      "       0    1.8000000e-01   4.837072e+00   0.000000e+00     10s\n",
      "\n",
      "Root relaxation: cutoff, 15 iterations, 0.01 seconds (0.00 work units)\n",
      "\n",
      "    Nodes    |    Current Node    |     Objective Bounds      |     Work\n",
      " Expl Unexpl |  Obj  Depth IntInf | Incumbent    BestBd   Gap | It/Node Time\n",
      "\n",
      "     0     0     cutoff    0         0.42000    0.42000  0.00%     -    9s\n",
      "\n",
      "Explored 1 nodes (15 simplex iterations) in 9.55 seconds (24.12 work units)\n",
      "Thread count was 16 (of 16 available processors)\n",
      "\n",
      "Solution count 1: 0.42 \n",
      "\n",
      "Optimal solution found (tolerance 1.00e-04)\n",
      "Warning: max constraint violation (1.1218e-06) exceeds tolerance\n",
      "Best objective 4.200000000000e-01, best bound 4.200000000000e-01, gap 0.0000%\n",
      "Gurobi Optimizer version 11.0.0 build v11.0.0rc2 (win64 - Windows 11.0 (22621.2))\n",
      "\n",
      "CPU model: 11th Gen Intel(R) Core(TM) i7-11800H @ 2.30GHz, instruction set [SSE2|AVX|AVX2|AVX512]\n",
      "Thread count: 8 physical cores, 16 logical processors, using up to 16 threads\n",
      "\n",
      "Optimize a model with 20 rows, 64 columns and 128 nonzeros\n",
      "Model fingerprint: 0x3d133604\n",
      "Model has 16 quadratic constraints\n",
      "Variable types: 64 continuous, 0 integer (0 binary)\n",
      "Coefficient statistics:\n",
      "  Matrix range     [1e+00, 1e+00]\n",
      "  QMatrix range    [1e+00, 2e+00]\n",
      "  QLMatrix range   [1e+00, 1e+00]\n",
      "  Objective range  [1e+00, 1e+00]\n",
      "  Bounds range     [1e+00, 1e+00]\n",
      "  RHS range        [2e-02, 3e-01]\n",
      "\n",
      "Processing MIP start from previous solve: 215 nodes explored in subMIP, total elapsed time 5s\n",
      "Loaded MIP start from previous solve with objective 0.42\n",
      "Processed MIP start in 7.98 seconds (19.17 work units)\n",
      "\n",
      "Presolve removed 4 rows and 0 columns\n",
      "Presolve time: 0.00s\n",
      "Presolved: 8288 rows, 2144 columns, 20767 nonzeros\n",
      "Presolved model has 2080 bilinear constraint(s)\n",
      "\n",
      "Solving non-convex MIQCP\n",
      "\n",
      "Variable types: 2144 continuous, 0 integer (0 binary)\n",
      "Found heuristic solution: objective 0.5660497\n",
      "\n",
      "Root simplex log...\n",
      "\n",
      "Iteration    Objective       Primal Inf.    Dual Inf.      Time\n",
      "       0    7.2000000e-01   9.738208e+00   0.000000e+00      8s\n",
      "    1684    7.2000000e-01   0.000000e+00   0.000000e+00      8s\n",
      "\n",
      "Root relaxation: objective 7.200000e-01, 1684 iterations, 0.11 seconds (0.23 work units)\n",
      "\n",
      "    Nodes    |    Current Node    |     Objective Bounds      |     Work\n",
      " Expl Unexpl |  Obj  Depth IntInf | Incumbent    BestBd   Gap | It/Node Time\n",
      "\n",
      "     0     0    0.72000    0  209    0.56605    0.72000  27.2%     -    8s\n",
      "     0     0    0.72000    0  182    0.56605    0.72000  27.2%     -    8s\n",
      "     0     0    0.72000    0  183    0.56605    0.72000  27.2%     -    8s\n",
      "     0     0    0.72000    0  231    0.56605    0.72000  27.2%     -    8s\n",
      "     0     0    0.72000    0  231    0.56605    0.72000  27.2%     -    8s\n",
      "     0     0    0.72000    0  231    0.56605    0.72000  27.2%     -    8s\n",
      "     0     2    0.72000    0  231    0.56605    0.72000  27.2%     -    8s\n",
      "    55    64    0.71916    6  184    0.56605    0.72000  27.2%   602   10s\n",
      "   402   554    0.71369   23  799    0.56605    0.72000  27.2%   839   16s\n",
      "   718   956    0.72000    8  198    0.56605    0.72000  27.2%   697   20s\n",
      "*  843   747              80       0.7177217    0.72000  0.32%   691   20s\n",
      "*  955   702              90       0.7194707    0.72000  0.07%   643   20s\n",
      "*  957   702              91       0.7194718    0.72000  0.07%   642   20s\n",
      "*  958   702              91       0.7194719    0.72000  0.07%   642   20s\n",
      "* 1114   613              36       0.7198149    0.72000  0.03%   656   23s\n",
      "  1208   695     cutoff   22         0.71981    0.72000  0.03%   673   27s\n",
      "* 1332   695              48       0.7200000    0.72000  0.00%   685   27s\n",
      "\n",
      "Cutting planes:\n",
      "  RLT: 26\n",
      "  PSD: 4\n",
      "\n",
      "Explored 1606 nodes (1105616 simplex iterations) in 27.69 seconds (69.72 work units)\n",
      "Thread count was 16 (of 16 available processors)\n",
      "\n",
      "Solution count 8: 0.72 0.719815 0.719472 ... 0.42\n",
      "No other solutions better than 0.72\n",
      "\n",
      "Optimal solution found (tolerance 1.00e-04)\n",
      "Warning: max constraint violation (7.1796e-06) exceeds tolerance\n",
      "Best objective 7.200000000000e-01, best bound 7.200000000000e-01, gap 0.0000%\n"
     ]
    }
   ],
   "source": [
    "objective = P_Y_doA(y,b)\n",
    "model.setObjective(objective, sense=GRB.MINIMIZE)\n",
    "model.optimize()\n",
    "minimal = P_Y_doA(y,b).getValue()\n",
    "\n",
    "\n",
    "objective = P_Y_doA(y,b)\n",
    "model.setObjective(objective, sense=GRB.MAXIMIZE)\n",
    "model.optimize()\n",
    "maximal = P_Y_doA(y,b).getValue()"
   ]
  },
  {
   "cell_type": "code",
   "execution_count": 12,
   "metadata": {},
   "outputs": [
    {
     "name": "stdout",
     "output_type": "stream",
     "text": [
      "min: 0.41999999999999993 \n",
      "max: 0.72 \n",
      "range: 0.30000000000000004\n"
     ]
    }
   ],
   "source": [
    "print(\"min:\", minimal, \"\\nmax:\", maximal, \"\\nrange:\", maximal-minimal)"
   ]
  }
 ],
 "metadata": {
  "kernelspec": {
   "display_name": "Python 3",
   "language": "python",
   "name": "python3"
  },
  "language_info": {
   "codemirror_mode": {
    "name": "ipython",
    "version": 3
   },
   "file_extension": ".py",
   "mimetype": "text/x-python",
   "name": "python",
   "nbconvert_exporter": "python",
   "pygments_lexer": "ipython3",
   "version": "3.10.4"
  }
 },
 "nbformat": 4,
 "nbformat_minor": 2
}
