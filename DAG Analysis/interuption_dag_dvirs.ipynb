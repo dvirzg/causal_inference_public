{
 "cells": [
  {
   "cell_type": "markdown",
   "metadata": {},
   "source": [
    "## Interuption DAG Task"
   ]
  },
  {
   "cell_type": "markdown",
   "metadata": {},
   "source": [
    "..."
   ]
  },
  {
   "cell_type": "code",
   "execution_count": 1,
   "metadata": {},
   "outputs": [],
   "source": [
    "import gurobipy as gp\n",
    "from gurobipy import GRB\n",
    "import itertools\n",
    "import numpy as np"
   ]
  },
  {
   "cell_type": "code",
   "execution_count": 2,
   "metadata": {},
   "outputs": [
    {
     "name": "stdout",
     "output_type": "stream",
     "text": [
      "0.0\n",
      "0.0\n",
      "0.0\n",
      "0.0\n",
      "0.0\n",
      "0.0\n",
      "0.0\n",
      "0.0\n"
     ]
    }
   ],
   "source": [
    "card_X = 2\n",
    "card_Y = 2\n",
    "card_Z = 2\n",
    "\n",
    "\n",
    "observable_probs = np.arange(card_X * card_Y * card_Z)\n",
    "observable_probs = observable_probs / observable_probs.sum()\n",
    "observable_probs = observable_probs.reshape(card_X, card_Y, card_Z)\n",
    "\n",
    "dist_XYZ = {}\n",
    "# defining a p distribution based on cardinality of A, B, C\n",
    "for x, y, z in itertools.product(range(card_X), range(card_Y), range(card_Z)):\n",
    "    print(observable_probs[0,0,0])\n",
    "    prob = observable_probs[x, y, z]\n",
    "    dist_XYZ[(x, y, z)] = prob"
   ]
  },
  {
   "cell_type": "code",
   "execution_count": 3,
   "metadata": {},
   "outputs": [],
   "source": [
    "# given distribution P_XYZ get P_XY|Z:\n",
    "dist_XY_giv_Z = {}\n",
    "for x, y, z in itertools.product(range(card_X), range(card_Y), range(card_Z)):\n",
    "    prob = dist_XYZ[(x, y, z)]\n",
    "    dist_XY_giv_Z[(x, y, z)] = prob / observable_probs[:, :, z].sum()"
   ]
  },
  {
   "cell_type": "markdown",
   "metadata": {},
   "source": [
    "distribution feasible?"
   ]
  },
  {
   "cell_type": "code",
   "execution_count": 4,
   "metadata": {},
   "outputs": [
    {
     "data": {
      "text/plain": [
       "{(0, 0, 0): 0.0,\n",
       " (0, 0, 1): 0.03571428571428571,\n",
       " (0, 1, 0): 0.07142857142857142,\n",
       " (0, 1, 1): 0.10714285714285714,\n",
       " (1, 0, 0): 0.14285714285714285,\n",
       " (1, 0, 1): 0.17857142857142858,\n",
       " (1, 1, 0): 0.21428571428571427,\n",
       " (1, 1, 1): 0.25}"
      ]
     },
     "execution_count": 4,
     "metadata": {},
     "output_type": "execute_result"
    }
   ],
   "source": [
    "dist_XYZ"
   ]
  },
  {
   "cell_type": "code",
   "execution_count": 5,
   "metadata": {},
   "outputs": [
    {
     "name": "stdout",
     "output_type": "stream",
     "text": [
      "True\n"
     ]
    }
   ],
   "source": [
    "print(sum(dist_XYZ.values()) == 1)"
   ]
  },
  {
   "cell_type": "code",
   "execution_count": 6,
   "metadata": {},
   "outputs": [
    {
     "data": {
      "text/plain": [
       "{(0, 0, 0): 0.0,\n",
       " (0, 0, 1): 0.0625,\n",
       " (0, 1, 0): 0.16666666666666666,\n",
       " (0, 1, 1): 0.1875,\n",
       " (1, 0, 0): 0.3333333333333333,\n",
       " (1, 0, 1): 0.3125,\n",
       " (1, 1, 0): 0.5,\n",
       " (1, 1, 1): 0.4375}"
      ]
     },
     "execution_count": 6,
     "metadata": {},
     "output_type": "execute_result"
    }
   ],
   "source": [
    "dist_XY_giv_Z"
   ]
  },
  {
   "cell_type": "markdown",
   "metadata": {},
   "source": [
    "$P_Z(Z)$"
   ]
  },
  {
   "cell_type": "code",
   "execution_count": 7,
   "metadata": {},
   "outputs": [],
   "source": [
    "# P_Z(z) = sum_{X,Y} P_XYZ(x,y,z)\n",
    "def P_Z(z):\n",
    "    return sum([dist_XYZ[(X, Y, z)] for X in range(card_X) for Y in range(card_Y)])"
   ]
  },
  {
   "cell_type": "markdown",
   "metadata": {},
   "source": [
    "$P_\\lambda (\\lambda), \\space P_{A|\\lambda} (A, \\lambda), \\space P_{C|B,\\lambda} (C, B, \\lambda)$"
   ]
  },
  {
   "cell_type": "code",
   "execution_count": 8,
   "metadata": {},
   "outputs": [
    {
     "name": "stdout",
     "output_type": "stream",
     "text": [
      "Set parameter Username\n",
      "Academic license - for non-commercial use only - expires 2025-01-09\n"
     ]
    }
   ],
   "source": [
    "m = gp.Model()\n",
    "#m.Params.LogToConsole = 0\n",
    "\n",
    "# variables\n",
    "P_Xb_Y_giv_Z_Xs = m.addMVar(shape = (card_X, card_Y, card_Z, card_X), vtype=GRB.CONTINUOUS, name=\"P_Xb_Y_giv_Z_Xs\", lb=0, ub=1)\n",
    "# P_Y_Z_giv_Xs = m.addMVar(shape = (card_Y, card_Z, card_X), vtype=GRB.CONTINUOUS, name=\"P_Y_Z_giv_Xs\", lb=0, ub=1)\n",
    "P_Y_giv_Z_Xs = m.addMVar(shape = (card_Y, card_Z, card_X), vtype=GRB.CONTINUOUS, name=\"P_Y_giv_Z_Xs\", lb=0, ub=1)\n",
    "P_Xb_giv_Z_Xs = m.addMVar(shape = (card_X, card_Z, card_X), vtype=GRB.CONTINUOUS, name=\"P_Xb_giv_Z_Xs\", lb=0, ub=1)\n",
    "P_Y_giv_Xs = m.addMVar(shape = (card_Y, card_X), vtype=GRB.CONTINUOUS, name=\"P_Y_giv_Xs\", lb=0, ub=1)\n",
    "P_Xb_giv_Z = m.addMVar(shape = (card_X, card_Z), vtype=GRB.CONTINUOUS, name=\"P_Xb_giv_Z\", lb=0, ub=1)\n",
    "# P_Z_giv_Xs = m.addMVar(shape = (card_Z, card_X), vtype=GRB.CONTINUOUS, name=\"P_Z_giv_Xs\", lb=0, ub=1)\n",
    "\n",
    "# consistency constraints\n",
    "for x, y, z in itertools.product(range(card_X), range(card_Y), range(card_Z)):\n",
    "    m.addConstr(P_Xb_Y_giv_Z_Xs[x,y,z,x] == dist_XY_giv_Z[(x, y, z)])\n",
    "\n",
    "\n",
    "### marginalization constraints:\n",
    "\n",
    "# sum over Y of P(Xb,Y|Z,X#) == P(Xb|Z,X#) / also #=P(Xb|Z) = P(X|Z)\n",
    "for xb, xs, z in itertools.product(range(card_X), range(card_X), range(card_Z)):\n",
    "    m.addConstr(P_Xb_giv_Z_Xs[xb,z,xs] == sum([P_Xb_Y_giv_Z_Xs[xb,y,z,xs] for y in range(card_Y)]))\n",
    "    m.addConstr(P_Xb_giv_Z_Xs[xb,z,xs] == P_Xb_giv_Z[xb,z]) #INDEP OF Xb from Xs\n",
    "\n",
    "# P_Y|ZX# = P_Y|X#\n",
    "for x, y, z in itertools.product(range(card_X), range(card_Y), range(card_Z)):\n",
    "    m.addConstr(P_Y_giv_Z_Xs[y,z,x] == sum([P_Xb_Y_giv_Z_Xs[xb,y,z,x] for xb in range(card_X)]))\n",
    "    m.addConstr(P_Y_giv_Z_Xs[y,z,x] == P_Y_giv_Xs[y,x]) #INDEP OF Y from Z\n",
    "\n",
    "\n",
    "\"\"\"\n",
    "### independance constraints:\n",
    "\n",
    "# ## Y d-indep of Z | X#\n",
    "# for y, x in itertools.product(range(card_Y), range(card_X)):\n",
    "#     # P(Y, Z=0|X#) = P(Y, Z=1|X#)\n",
    "#     m.addConstr(P_Y_Z_giv_Xs[y,0,x] == P_Y_Z_giv_Xs[y,1,x])    \n",
    "\n",
    "#     # P(Y_Z|X#) = P(Y|X#)P(Z|X#) = P(Y|X#)P(Z)\n",
    "#     temp1 = P_Y_Z_giv_Xs[y,z,x]\n",
    "#     m.addConstr(temp1 == P_Y_giv_Xs[y,x]*P_Z_giv_Xs[z,x])\n",
    "#     m.addConstr(temp1 == P_Y_giv_Xs[y,x]*P_Z(z)) #Z d-indep of X#:\n",
    "    \n",
    "#     # P(Y|Z=0, X#) = P(Y|Z=1, X#)\n",
    "#     m.addConstr(P_Y_giv_Z_Xs[y,0,x] == P_Y_giv_Z_Xs[y,1,x]) \n",
    "      \n",
    "# ## Xb d-indep of X# | Z:\n",
    "# for x, z in itertools.product(range(card_X), range(card_Z)):\n",
    "#     # P(Xb|Z, X#=0) = P(Xb|Z, X#=1)\n",
    "#     m.addConstr(P_Xb_giv_Z_Xs[x,z,0] == P_Xb_giv_Z_Xs[x,z,1])\n",
    "    \n",
    "\n",
    "# sum to one constraints\n",
    "\n",
    "# # P_Y_giv_Xs when summed over y should be 1\n",
    "# for x in range(card_X):\n",
    "#     m.addConstr(sum([P_Y_giv_Xs[y,x] for y in range(card_Y)]) == 1)\n",
    "\n",
    "# # P_Xb_giv_Z_Xs when summed over xb should be 1\n",
    "# for z, xs in itertools.product(range(card_Z), range(card_X)):\n",
    "#         m.addConstr(sum([P_Xb_giv_Z_Xs[xb,z,xs] for xb in range(card_X)]) == 1)\n",
    "\n",
    "\n",
    "\n",
    "# do-conditional P_Y|do(X#) = P_Y|X#\n",
    "# P_Y|do(X#) = sum_{l} P_l*P(Y|Z,X# P_l) # uneeded\n",
    "\n",
    "# # find P_Y|X# from P_Xb_Y_giv_Z_Xs\n",
    "# for y, xs in itertools.product(range(card_Y), range(card_X)):\n",
    "#     m.addConstr(\n",
    "#         P_Y_giv_Xs[y, xs] == sum(P_Xb_Y_giv_Z_Xs[xb, y, z, xs] * P_Z(z) for xb in range(card_X) for z in range(card_Z)),\n",
    "#         name=f\"Marginalization_{y}_{xs}\")\n",
    "# m.update()\n",
    "\"\"\"\n",
    "\n",
    "\n",
    "m.update()"
   ]
  },
  {
   "cell_type": "code",
   "execution_count": 9,
   "metadata": {},
   "outputs": [],
   "source": [
    "# optomize for P_YdoX#\n",
    "# P_YdoX# = P_Y_giv_Xs\n",
    "def P_YdoXs(y,x):\n",
    "    m.setObjective(P_Y_giv_Xs[y,x], GRB.MINIMIZE)\n",
    "    m.optimize()\n",
    "    min_val = P_Y_giv_Xs[y,x].X.item()\n",
    "\n",
    "    m.setObjective(P_Y_giv_Xs[y,x], GRB.MAXIMIZE)\n",
    "    m.optimize()\n",
    "    max_val = P_Y_giv_Xs[y,x].X.item()\n",
    "\n",
    "    print(\"\\nmin value: \", min_val)\n",
    "    print(\"max value: \", max_val)\n",
    "    print(\"distance:\", max_val - min_val)"
   ]
  },
  {
   "cell_type": "code",
   "execution_count": 10,
   "metadata": {},
   "outputs": [
    {
     "name": "stdout",
     "output_type": "stream",
     "text": [
      "Gurobi Optimizer version 11.0.1 build v11.0.1rc0 (win64 - Windows 11.0 (22631.2))\n",
      "\n",
      "CPU model: 11th Gen Intel(R) Core(TM) i7-11800H @ 2.30GHz, instruction set [SSE2|AVX|AVX2|AVX512]\n",
      "Thread count: 8 physical cores, 16 logical processors, using up to 16 threads\n",
      "\n",
      "Optimize a model with 40 rows, 40 columns and 88 nonzeros\n",
      "Model fingerprint: 0xb50ceba4\n",
      "Coefficient statistics:\n",
      "  Matrix range     [1e+00, 1e+00]\n",
      "  Objective range  [1e+00, 1e+00]\n",
      "  Bounds range     [1e+00, 1e+00]\n",
      "  RHS range        [6e-02, 5e-01]\n",
      "Presolve removed 40 rows and 40 columns\n",
      "Presolve time: 0.01s\n",
      "Presolve: All rows and columns removed\n",
      "Iteration    Objective       Primal Inf.    Dual Inf.      Time\n",
      "       0    5.0000000e-01   0.000000e+00   0.000000e+00      0s\n",
      "\n",
      "Solved in 0 iterations and 0.02 seconds (0.00 work units)\n",
      "Optimal objective  5.000000000e-01\n",
      "Gurobi Optimizer version 11.0.1 build v11.0.1rc0 (win64 - Windows 11.0 (22631.2))\n",
      "\n",
      "CPU model: 11th Gen Intel(R) Core(TM) i7-11800H @ 2.30GHz, instruction set [SSE2|AVX|AVX2|AVX512]\n",
      "Thread count: 8 physical cores, 16 logical processors, using up to 16 threads\n",
      "\n",
      "Optimize a model with 40 rows, 40 columns and 88 nonzeros\n",
      "Coefficient statistics:\n",
      "  Matrix range     [1e+00, 1e+00]\n",
      "  Objective range  [1e+00, 1e+00]\n",
      "  Bounds range     [1e+00, 1e+00]\n",
      "  RHS range        [6e-02, 5e-01]\n",
      "LP warm-start: use basis\n",
      "Iteration    Objective       Primal Inf.    Dual Inf.      Time\n",
      "       0    1.5000000e+00   4.708333e+00   0.000000e+00      0s\n",
      "       1    6.6666667e-01   0.000000e+00   0.000000e+00      0s\n",
      "\n",
      "Solved in 1 iterations and 0.01 seconds (0.00 work units)\n",
      "Optimal objective  6.666666667e-01\n",
      "\n",
      "min value:  0.5\n",
      "max value:  0.6666666666666667\n",
      "distance: 0.16666666666666674\n"
     ]
    }
   ],
   "source": [
    "P_YdoXs(1,1)"
   ]
  },
  {
   "cell_type": "code",
   "execution_count": 11,
   "metadata": {},
   "outputs": [
    {
     "ename": "",
     "evalue": "",
     "output_type": "error",
     "traceback": [
      "\u001b[1;31mThe Kernel crashed while executing code in the current cell or a previous cell. \n",
      "\u001b[1;31mPlease review the code in the cell(s) to identify a possible cause of the failure. \n",
      "\u001b[1;31mClick <a href='https://aka.ms/vscodeJupyterKernelCrash'>here</a> for more info. \n",
      "\u001b[1;31mView Jupyter <a href='command:jupyter.viewOutput'>log</a> for further details."
     ]
    }
   ],
   "source": [
    "#m.computeIIS()\n",
    "#m.write(\"model.ilp\")"
   ]
  }
 ],
 "metadata": {
  "kernelspec": {
   "display_name": "Python 3",
   "language": "python",
   "name": "python3"
  },
  "language_info": {
   "codemirror_mode": {
    "name": "ipython",
    "version": 3
   },
   "file_extension": ".py",
   "mimetype": "text/x-python",
   "name": "python",
   "nbconvert_exporter": "python",
   "pygments_lexer": "ipython3",
   "version": "3.10.4"
  }
 },
 "nbformat": 4,
 "nbformat_minor": 2
}
