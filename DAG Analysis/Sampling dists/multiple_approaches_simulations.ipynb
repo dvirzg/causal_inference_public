{
 "cells": [
  {
   "cell_type": "code",
   "execution_count": 1,
   "metadata": {},
   "outputs": [],
   "source": [
    "import networkx as nx\n",
    "import numpy as np\n",
    "import pandas as pd"
   ]
  },
  {
   "cell_type": "code",
   "execution_count": 2,
   "metadata": {},
   "outputs": [],
   "source": [
    "def dag_to_dist_matrix(dag, observables, cards, seed):\n",
    "    np.random.seed(seed)\n",
    "    n_simulations = 1000\n",
    "    hiddens = [node for node in dag.nodes if node not in observables]\n",
    "    \n",
    "    counts_matrix = np.zeros(cards)\n",
    "    \n",
    "    for _ in range(n_simulations):\n",
    "        hidden_vals = {h: np.random.randint(2) for h in hiddens}\n",
    "        \n",
    "        # track observable values\n",
    "        current_vals = []\n",
    "        for node in observables:\n",
    "            parents = list(dag.predecessors(node))\n",
    "            if parents:\n",
    "                parent_vals = np.array([hidden_vals[parent] if parent in hiddens else current_vals[observables.index(parent)] for parent in parents])\n",
    "                weights = np.random.dirichlet(np.ones(len(parents)))  # Weights sum to 1\n",
    "                weighted_sum = np.dot(parent_vals, weights)\n",
    "                node_val = 1 if weighted_sum > 0.5 else 0 # logit func\n",
    "            else:\n",
    "                node_val = np.random.randint(2)\n",
    "            current_vals.append(node_val)\n",
    "        \n",
    "        # increment the count\n",
    "        counts_matrix[tuple(current_vals)] += 1\n",
    "\n",
    "    # normalization\n",
    "    print(counts_matrix)\n",
    "    probability_matrix = counts_matrix / n_simulations\n",
    "    return probability_matrix"
   ]
  },
  {
   "cell_type": "code",
   "execution_count": 3,
   "metadata": {},
   "outputs": [],
   "source": [
    "def dag_to_dist_stronger_AB(dag, observables, cards, seed):\n",
    "    np.random.seed(seed)\n",
    "    n_simulations = 1000\n",
    "    hiddens = [node for node in dag.nodes if node not in observables]\n",
    "    counts_matrix = np.zeros(cards)\n",
    "    \n",
    "    for _ in range(n_simulations):\n",
    "        hidden_vals = {h: np.random.randint(2) for h in hiddens}\n",
    "        current_vals = []\n",
    "        \n",
    "        for node in observables:\n",
    "            parents = list(dag.predecessors(node))\n",
    "            if parents:\n",
    "                parent_vals = np.array([hidden_vals[parent] if parent in hiddens else current_vals[observables.index(parent)] for parent in parents])\n",
    "                if node == 'B':\n",
    "                    # A->B strong causal arrow strength\n",
    "                    dirichlet_params = np.ones(len(parents))\n",
    "                    dirichlet_params[-1] *= 5\n",
    "                else:\n",
    "                    dirichlet_params = np.ones(len(parents))\n",
    "                weights = np.random.dirichlet(dirichlet_params)\n",
    "                weighted_sum = np.dot(parent_vals, weights)\n",
    "                node_val = 1 if weighted_sum > 0.5 else 0\n",
    "            else:\n",
    "                node_val = np.random.randint(2)\n",
    "            current_vals.append(node_val)\n",
    "        \n",
    "        counts_matrix[tuple(current_vals)] += 1\n",
    "    probability_matrix = counts_matrix / n_simulations\n",
    "    \n",
    "    return probability_matrix"
   ]
  },
  {
   "cell_type": "code",
   "execution_count": 50,
   "metadata": {},
   "outputs": [
    {
     "data": {
      "text/plain": [
       "array([[[0.254, 0.24 ],\n",
       "        [0.   , 0.   ]],\n",
       "\n",
       "       [[0.   , 0.   ],\n",
       "        [0.259, 0.247]]])"
      ]
     },
     "execution_count": 50,
     "metadata": {},
     "output_type": "execute_result"
    }
   ],
   "source": [
    "G = nx.DiGraph()\n",
    "G.add_edges_from([('h1', 'A'), ('h1', 'C'), ('h2', 'A'), ('h2', 'B'), ('h3', 'B'), ('h3', 'C'), ('A', 'B')])\n",
    "dag, observables, cards, seed = G, ['A', 'B', 'C'], (2, 2, 2), 18 \n",
    "\n",
    "np.random.seed(seed)\n",
    "n_simulations = 1000\n",
    "hiddens = [node for node in dag.nodes if node not in observables]\n",
    "counts_matrix = np.zeros(cards)\n",
    "\n",
    "for _ in range(n_simulations):\n",
    "    hidden_vals = {h: np.random.randint(2) for h in hiddens}\n",
    "    current_vals = []\n",
    "    \n",
    "    for node in observables:\n",
    "        parents = list(dag.predecessors(node))\n",
    "        if parents:\n",
    "            parent_vals = np.array([hidden_vals[parent] if parent in hiddens else current_vals[observables.index(parent)] for parent in parents])\n",
    "            if node == 'B' or node == 'A':\n",
    "                # A->B strong causal arrow strength\n",
    "                dirichlet_params = np.ones(len(parents))\n",
    "                dirichlet_params[-1] *= 14\n",
    "            else:\n",
    "                dirichlet_params = np.ones(len(parents))\n",
    "            weights = np.random.dirichlet(dirichlet_params)\n",
    "            weighted_sum = np.dot(parent_vals, weights)\n",
    "            node_val = 1 if weighted_sum > 0.5 else 0\n",
    "        else:\n",
    "            node_val = 0\n",
    "        current_vals.append(node_val)\n",
    "    \n",
    "    counts_matrix[tuple(current_vals)] += 1\n",
    "probability_matrix = counts_matrix / n_simulations\n",
    "probability_matrix"
   ]
  },
  {
   "cell_type": "code",
   "execution_count": 42,
   "metadata": {},
   "outputs": [
    {
     "data": {
      "text/plain": [
       "array([0.05085855, 0.94914145])"
      ]
     },
     "execution_count": 42,
     "metadata": {},
     "output_type": "execute_result"
    }
   ],
   "source": [
    "dirichlet_params = np.ones(len(parents))\n",
    "dirichlet_params[-1] *= 5\n",
    "np.random.dirichlet(dirichlet_params)"
   ]
  },
  {
   "cell_type": "code",
   "execution_count": 4,
   "metadata": {},
   "outputs": [
    {
     "data": {
      "text/plain": [
       "array([[[0.289, 0.179],\n",
       "        [0.007, 0.008]],\n",
       "\n",
       "       [[0.008, 0.005],\n",
       "        [0.179, 0.325]]])"
      ]
     },
     "execution_count": 4,
     "metadata": {},
     "output_type": "execute_result"
    }
   ],
   "source": [
    "G = nx.DiGraph()\n",
    "G.add_edges_from([('h1', 'A'), ('h1', 'C'), ('h2', 'A'), ('h2', 'B'), ('h3', 'B'), ('h3', 'C'), ('A', 'B')])\n",
    "dag_to_dist_stronger_AB(G, \n",
    "                   ['A', 'B', 'C'], \n",
    "                   (2, 2, 2), \n",
    "                   18)"
   ]
  },
  {
   "cell_type": "code",
   "execution_count": 5,
   "metadata": {},
   "outputs": [
    {
     "data": {
      "text/plain": [
       "0.5021"
      ]
     },
     "execution_count": 5,
     "metadata": {},
     "output_type": "execute_result"
    }
   ],
   "source": [
    "def simulate_B_given_do_A(A_value, seed):\n",
    "    \"\"\"\n",
    "    Simulate B given do(A=A_value) a certain number of times and return the probability of B=1.\n",
    "    \"\"\"\n",
    "    np.random.seed(seed)\n",
    "    B_values = []\n",
    "    n_simulations = 10000\n",
    "    for _ in range(n_simulations):\n",
    "        h3 = np.random.randint(2)  # Simulate hidden variable\n",
    "        parents = [h3, A_value]\n",
    "        dirichlet_params = np.ones(len(parents))\n",
    "        dirichlet_params[-1] *= 5  # A's influence is stronger\n",
    "        weights = np.random.dirichlet(dirichlet_params)\n",
    "        weighted_sum = np.dot(parents, weights)\n",
    "        B_val = 1 if weighted_sum > 0.0001 else 0\n",
    "        B_values.append(B_val)\n",
    "    \n",
    "    return np.mean(B_values)\n",
    "\n",
    "# Calculate P(B=1|do(A=0)) and P(B=1|do(A=1))\n",
    "prob_B_given_do_A0 = simulate_B_given_do_A(0, 13)\n",
    "prob_B_given_do_A1 = simulate_B_given_do_A(1, 31)\n",
    "\n",
    "prob_B_given_do_A1-prob_B_given_do_A0"
   ]
  }
 ],
 "metadata": {
  "kernelspec": {
   "display_name": "Python 3",
   "language": "python",
   "name": "python3"
  },
  "language_info": {
   "codemirror_mode": {
    "name": "ipython",
    "version": 3
   },
   "file_extension": ".py",
   "mimetype": "text/x-python",
   "name": "python",
   "nbconvert_exporter": "python",
   "pygments_lexer": "ipython3",
   "version": "3.10.4"
  }
 },
 "nbformat": 4,
 "nbformat_minor": 2
}
