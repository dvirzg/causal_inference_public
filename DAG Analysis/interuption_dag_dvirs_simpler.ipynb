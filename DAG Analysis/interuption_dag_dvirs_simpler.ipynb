{
 "cells": [
  {
   "cell_type": "markdown",
   "metadata": {},
   "source": [
    "## Interuption DAG Task"
   ]
  },
  {
   "cell_type": "markdown",
   "metadata": {},
   "source": [
    "..."
   ]
  },
  {
   "cell_type": "code",
   "execution_count": 1,
   "metadata": {},
   "outputs": [],
   "source": [
    "import gurobipy as gp\n",
    "from gurobipy import GRB\n",
    "import itertools\n",
    "import numpy as np"
   ]
  },
  {
   "cell_type": "code",
   "execution_count": 2,
   "metadata": {},
   "outputs": [],
   "source": [
    "card_X = 2\n",
    "card_Y = 2\n",
    "card_Z = 2\n",
    "\n",
    "\n",
    "observable_probs = np.arange(card_X * card_Y * card_Z)\n",
    "observable_probs = observable_probs / observable_probs.sum()\n",
    "observable_probs = observable_probs.reshape(card_X, card_Y, card_Z)\n",
    "\n",
    "dist_XYZ = {}\n",
    "# defining a p distribution based on cardinality of A, B, C\n",
    "for x, y, z in itertools.product(range(card_X), range(card_Y), range(card_Z)):\n",
    "    prob = observable_probs[x, y, z]\n",
    "    dist_XYZ[(x, y, z)] = prob"
   ]
  },
  {
   "cell_type": "code",
   "execution_count": 3,
   "metadata": {},
   "outputs": [],
   "source": [
    "# given distribution P_XYZ get P_XY|Z:\n",
    "dist_XY_giv_Z = {}\n",
    "for x, y, z in itertools.product(range(card_X), range(card_Y), range(card_Z)):\n",
    "    prob = dist_XYZ[(x, y, z)]\n",
    "    dist_XY_giv_Z[(x, y, z)] = prob / observable_probs[:, :, z].sum()"
   ]
  },
  {
   "cell_type": "markdown",
   "metadata": {},
   "source": [
    "distribution feasible?"
   ]
  },
  {
   "cell_type": "code",
   "execution_count": 4,
   "metadata": {},
   "outputs": [
    {
     "data": {
      "text/plain": [
       "{(0, 0, 0): 0.0,\n",
       " (0, 0, 1): 0.03571428571428571,\n",
       " (0, 1, 0): 0.07142857142857142,\n",
       " (0, 1, 1): 0.10714285714285714,\n",
       " (1, 0, 0): 0.14285714285714285,\n",
       " (1, 0, 1): 0.17857142857142858,\n",
       " (1, 1, 0): 0.21428571428571427,\n",
       " (1, 1, 1): 0.25}"
      ]
     },
     "execution_count": 4,
     "metadata": {},
     "output_type": "execute_result"
    }
   ],
   "source": [
    "dist_XYZ"
   ]
  },
  {
   "cell_type": "code",
   "execution_count": 5,
   "metadata": {},
   "outputs": [
    {
     "name": "stdout",
     "output_type": "stream",
     "text": [
      "True\n"
     ]
    }
   ],
   "source": [
    "print(sum(dist_XYZ.values()) == 1)"
   ]
  },
  {
   "cell_type": "code",
   "execution_count": 6,
   "metadata": {},
   "outputs": [
    {
     "data": {
      "text/plain": [
       "{(0, 0, 0): 0.0,\n",
       " (0, 0, 1): 0.0625,\n",
       " (0, 1, 0): 0.16666666666666666,\n",
       " (0, 1, 1): 0.1875,\n",
       " (1, 0, 0): 0.3333333333333333,\n",
       " (1, 0, 1): 0.3125,\n",
       " (1, 1, 0): 0.5,\n",
       " (1, 1, 1): 0.4375}"
      ]
     },
     "execution_count": 6,
     "metadata": {},
     "output_type": "execute_result"
    }
   ],
   "source": [
    "dist_XY_giv_Z"
   ]
  },
  {
   "cell_type": "code",
   "execution_count": 7,
   "metadata": {},
   "outputs": [
    {
     "name": "stdout",
     "output_type": "stream",
     "text": [
      "Set parameter Username\n",
      "Academic license - for non-commercial use only - expires 2025-01-09\n"
     ]
    }
   ],
   "source": [
    "m = gp.Model()\n",
    "#m.Params.LogToConsole = 0\n",
    "\n",
    "# P_Z(z) = sum_{X,Y} P_XYZ(x,y,z)\n",
    "def P_Z(z):\n",
    "    return sum([dist_XYZ[(X, Y, z)] for X in range(card_X) for Y in range(card_Y)])\n",
    "\n",
    "\n",
    "P_Xb_Y_giv_Z_Xs = m.addMVar(shape = (card_X, card_Y, card_Z, card_X), vtype=GRB.CONTINUOUS, name=\"P_Xb_Y_giv_Z_Xs\", lb=0, ub=1)\n",
    "P_Xb_giv_Z_Xs = sum([P_Xb_Y_giv_Z_Xs[:,y,:,:] for y in range(card_Y)]) # P_Xb_giv_Z_Xs[xb,z,xs]\n",
    "P_Y_giv_Xs = sum([P_Xb_Y_giv_Z_Xs[xb,:,z,:]*P_Z(z) for xb in range(card_X)]) # P_Y_giv_Z_Xs[y,z,x] == P_Y_giv_Xs[y,x]\n",
    "P_Y_giv_Z_Xs = sum([P_Xb_Y_giv_Z_Xs[xb,:,:,:] for xb in range(card_X)]) # P_Y_giv_Z_Xs[y,z,xs]\n",
    "\n",
    "\n",
    "# consistency constraints\n",
    "for x, y, z in itertools.product(range(card_X), range(card_Y), range(card_Z)):\n",
    "    m.addConstr(P_Xb_Y_giv_Z_Xs[x,y,z,x] == dist_XY_giv_Z[(x, y, z)])\n",
    "    P_Y_Z_giv_Xs = P_Y_giv_Xs[y,x]*P_Z(z)\n",
    "\n",
    "for xb, xs, z in itertools.product(range(card_X), range(card_X), range(card_Z)):\n",
    "    m.addConstr(P_Xb_giv_Z_Xs[xb, z, 0] == P_Xb_giv_Z_Xs[xb, z, 1])\n",
    "\n",
    "# for x,y,z in itertools.product(range(card_X), range(card_Y), range(card_Z)):\n",
    "#     P_Y_Z_giv_Xs = P_Y_giv_Xs[y,x]*P_Z(z)\n",
    "\n",
    "for x,y in itertools.product(range(card_X), range(card_Y)):\n",
    "    m.addConstr(P_Y_giv_Z_Xs[y,0,x] == P_Y_giv_Z_Xs[y,1,x])\n",
    "\n",
    "m.update()"
   ]
  },
  {
   "cell_type": "code",
   "execution_count": 8,
   "metadata": {},
   "outputs": [],
   "source": [
    "# [P_Xb_Y_giv_Z_Xs[:,y,:,:]] # the array is made up of all combinations with y fixed"
   ]
  },
  {
   "cell_type": "code",
   "execution_count": 9,
   "metadata": {},
   "outputs": [],
   "source": [
    "# sum([P_Xb_Y_giv_Z_Xs[xb,:,:,:] for xb in range(card_X)]) "
   ]
  },
  {
   "cell_type": "code",
   "execution_count": 10,
   "metadata": {},
   "outputs": [],
   "source": [
    "# optomize for P_YdoX#\n",
    "# P_YdoX# = P_Y_giv_Xs\n",
    "def P_YdoXs(y,x):\n",
    "    m.setObjective(P_Y_giv_Xs[y,x], GRB.MINIMIZE)\n",
    "    m.optimize()\n",
    "    min_val = P_Y_giv_Xs[y,x].getValue()\n",
    "\n",
    "    m.setObjective(P_Y_giv_Xs[y,x], GRB.MAXIMIZE)\n",
    "    m.optimize()\n",
    "    max_val = P_Y_giv_Xs[y,x].getValue()\n",
    "\n",
    "    print(\"\\nmin value: \", min_val)\n",
    "    print(\"max value: \", max_val)\n",
    "    print(\"distance:\", max_val - min_val)"
   ]
  },
  {
   "cell_type": "code",
   "execution_count": 11,
   "metadata": {},
   "outputs": [
    {
     "name": "stdout",
     "output_type": "stream",
     "text": [
      "Gurobi Optimizer version 11.0.1 build v11.0.1rc0 (win64 - Windows 11.0 (22631.2))\n",
      "\n",
      "CPU model: 11th Gen Intel(R) Core(TM) i7-11800H @ 2.30GHz, instruction set [SSE2|AVX|AVX2|AVX512]\n",
      "Thread count: 8 physical cores, 16 logical processors, using up to 16 threads\n",
      "\n",
      "Optimize a model with 20 rows, 16 columns and 56 nonzeros\n",
      "Model fingerprint: 0xa8283788\n",
      "Coefficient statistics:\n",
      "  Matrix range     [1e+00, 1e+00]\n",
      "  Objective range  [6e-01, 6e-01]\n",
      "  Bounds range     [1e+00, 1e+00]\n",
      "  RHS range        [6e-02, 5e-01]\n",
      "Presolve removed 20 rows and 16 columns\n",
      "Presolve time: 0.01s\n",
      "Presolve: All rows and columns removed\n",
      "Iteration    Objective       Primal Inf.    Dual Inf.      Time\n",
      "       0    2.8571429e-01   0.000000e+00   0.000000e+00      0s\n",
      "\n",
      "Solved in 0 iterations and 0.01 seconds (0.00 work units)\n",
      "Optimal objective  2.857142857e-01\n",
      "Gurobi Optimizer version 11.0.1 build v11.0.1rc0 (win64 - Windows 11.0 (22631.2))\n",
      "\n",
      "CPU model: 11th Gen Intel(R) Core(TM) i7-11800H @ 2.30GHz, instruction set [SSE2|AVX|AVX2|AVX512]\n",
      "Thread count: 8 physical cores, 16 logical processors, using up to 16 threads\n",
      "\n",
      "Optimize a model with 20 rows, 16 columns and 56 nonzeros\n",
      "Coefficient statistics:\n",
      "  Matrix range     [1e+00, 1e+00]\n",
      "  Objective range  [6e-01, 6e-01]\n",
      "  Bounds range     [1e+00, 1e+00]\n",
      "  RHS range        [6e-02, 5e-01]\n",
      "LP warm-start: use basis\n",
      "Iteration    Objective       Primal Inf.    Dual Inf.      Time\n",
      "       0    8.5714286e-01   1.708333e+00   0.000000e+00      0s\n",
      "       1    3.8095238e-01   0.000000e+00   0.000000e+00      0s\n",
      "\n",
      "Solved in 1 iterations and 0.00 seconds (0.00 work units)\n",
      "Optimal objective  3.809523810e-01\n",
      "\n",
      "min value:  0.2857142857142857\n",
      "max value:  0.38095238095238093\n",
      "distance: 0.09523809523809523\n"
     ]
    }
   ],
   "source": [
    "P_YdoXs(1,1)"
   ]
  },
  {
   "cell_type": "code",
   "execution_count": 12,
   "metadata": {},
   "outputs": [],
   "source": [
    "#m.computeIIS()\n",
    "#m.write(\"model.ilp\")"
   ]
  }
 ],
 "metadata": {
  "kernelspec": {
   "display_name": "Python 3",
   "language": "python",
   "name": "python3"
  },
  "language_info": {
   "codemirror_mode": {
    "name": "ipython",
    "version": 3
   },
   "file_extension": ".py",
   "mimetype": "text/x-python",
   "name": "python",
   "nbconvert_exporter": "python",
   "pygments_lexer": "ipython3",
   "version": "3.10.4"
  }
 },
 "nbformat": 4,
 "nbformat_minor": 2
}
