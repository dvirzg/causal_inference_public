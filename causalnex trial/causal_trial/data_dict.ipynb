{
 "cells": [
  {
   "cell_type": "code",
   "execution_count": 30,
   "metadata": {},
   "outputs": [],
   "source": [
    "# data dictionary\n",
    "import pandas as pd\n",
    "import numpy as np\n",
    "\n",
    "def data_dicti(df):\n",
    "    data_dict = []\n",
    "\n",
    "    for col in df.columns:\n",
    "        col_info = {}\n",
    "        col_info['Column'] = col\n",
    "        col_info['Data Type'] = df[col].dtype\n",
    "        if df[col].dtype == 'float64':\n",
    "            col_info['Variable Type'] = 'Continuous'\n",
    "            col_info['Range'] = [df[col].min(), df[col].max()]\n",
    "            col_info['Mean'] = df[col].mean()\n",
    "            col_info['Median'] = df[col].median()\n",
    "\n",
    "        elif df[col].dtype == 'int64':\n",
    "            col_info['Variable Type'] = 'Categorical'\n",
    "            col_info['Range'] = [df[col].min(), df[col].max()]\n",
    "            col_info['Unique Values'] = df[col].nunique()\n",
    "            col_info['Most Frequent'] = df[col].mode().iloc[0]\n",
    "            # if less than 10 unique values, list them\n",
    "            if col_info['Unique Values'] <= 5:\n",
    "                col_info['Partial Listed Values'] = np.sort(df[col].unique())\n",
    "        else:\n",
    "            col_info['Variable Type'] = df[col].dtype\n",
    "        \n",
    "        data_dict.append(col_info)\n",
    "    \n",
    "    data_dict_df = pd.DataFrame(data_dict)\n",
    "    return data_dict_df"
   ]
  },
  {
   "cell_type": "code",
   "execution_count": 29,
   "metadata": {},
   "outputs": [],
   "source": [
    "# df = pd.read_csv('synthetic_data.csv')\n",
    "\n",
    "# data_dict_df = create_data_dictionary(df)\n",
    "# data_dict_df"
   ]
  }
 ],
 "metadata": {
  "kernelspec": {
   "display_name": "causal_env",
   "language": "python",
   "name": "python3"
  },
  "language_info": {
   "codemirror_mode": {
    "name": "ipython",
    "version": 3
   },
   "file_extension": ".py",
   "mimetype": "text/x-python",
   "name": "python",
   "nbconvert_exporter": "python",
   "pygments_lexer": "ipython3",
   "version": "3.8.19"
  }
 },
 "nbformat": 4,
 "nbformat_minor": 2
}
