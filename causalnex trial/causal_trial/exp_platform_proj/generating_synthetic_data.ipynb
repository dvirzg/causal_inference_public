{
 "cells": [
  {
   "cell_type": "markdown",
   "metadata": {},
   "source": [
    "# Generating Snythetic Data\n",
    "---"
   ]
  },
  {
   "cell_type": "markdown",
   "metadata": {},
   "source": [
    "want to modify SEM so that there's hidden confounding that breaks markovianity so that Markov Equivalence Class isn't good enough."
   ]
  },
  {
   "cell_type": "markdown",
   "metadata": {},
   "source": [
    "## Known SEM:\n",
    "Variables  \n",
    "**is_senior**: Binary  \n",
    "**sale_calls**: Non-negative integer  \n",
    "**interactions**: Non-negative integer  \n",
    "**bugs_faced**: Non-negative integer  \n",
    "**monthly_usage**: Non-negative integer  \n",
    "**consumer_trust**: Integer (0 to 5)  \n",
    "**discount**: Integer (0 to 4)  \n",
    "**renewal**: Outcome variable (binary)\n",
    "\n",
    "The \"Setting\" Variables:  \n",
    "**is_senior** $\\sim \\text{Binomial}(1, 0.25, n)$  \n",
    "**sale_calls** $\\sim \\text{Poisson}(3, n)$  \n",
    "**bugs_faced** $\\sim \\text{Poisson}(3, n)$  \n",
    "**consumer_trust** $\\text{round}(4\\text{beta}(3,2,n) + 1)$\n",
    "\n",
    "Structural Equations  \n",
    "**Interactions** $ = \\begin{cases} \\alpha_1 e^{-\\beta_1 \\cdot \\text{sales\\_call}} \\text{ if is senior } = 0: \\\\\n",
    "\\gamma_1 \\left(1 - e^{-\\delta_1 \\cdot \\text{sales\\_call}}\\right) \\text{ if is senior} = 1: \\end{cases}$\n",
    "\n",
    "**Discount**: $ = \\alpha_2 \\cdot \\text{bugs\\_faced} + \\beta_2 \\cdot \\text{monthly\\_usage} + \\epsilon_1$  \n",
    "   where $\\alpha_2$ and $\\beta_2$ are coefficients, and $\\epsilon_1$ is the error term.  \n",
    "\n",
    "**Logit(Renewal)**: $ = \\alpha_3 \\cdot \\text{interactions} - \\beta_3 \\cdot \\text{bugs\\_faced} + \\gamma_3 \\cdot \\text{monthly\\_usage} + \\delta_3 \\cdot \\text{consumer\\_trust} - \\lambda_3 \\cdot \\text{discount} + \\epsilon_2$  \n",
    "   where $\\alpha_3$, $\\beta_3$, $\\gamma_3$, $\\delta_3$, and $\\lambda_3$ are coefficients, and $\\epsilon_2$ is the error term.\n",
    "\n",
    "\n",
    "## Justification  \n",
    "- **Interactions**:\n",
    "  - For non-seniors (`is_senior` = 0), interactions decrease rapidly with increasing sale_calls.\n",
    "  - For seniors (`is_senior` = 1), interactions increase with increasing sale_calls.\n",
    "  \n",
    "- **Discount** is influenced by the number of bugs_faced and monthly_usage.\n",
    "  \n",
    "- **Renewal** probability (logit-transformed) is influenced by interactions, bugs_faced, monthly_usage, consumer trust, and discount."
   ]
  },
  {
   "cell_type": "code",
   "execution_count": 1,
   "metadata": {},
   "outputs": [],
   "source": [
    "import numpy as np\n",
    "import pandas as pd\n",
    "import sympy as sp\n",
    "import networkx as nx\n",
    "import matplotlib.pyplot as plt\n",
    "\n",
    "import random\n",
    "import string"
   ]
  },
  {
   "cell_type": "code",
   "execution_count": 2,
   "metadata": {},
   "outputs": [],
   "source": [
    "# problem, bugs_faced should heavily dependent on monthly usage !!\n",
    "\n",
    "np.random.seed(42)\n",
    "n_samples = 100000\n",
    "\n",
    "data = {\n",
    "    'is_senior': np.random.binomial(1, 0.25, n_samples),\n",
    "    'sale_calls': np.random.poisson(3, n_samples),\n",
    "    'bugs_faced': np.random.poisson(2, n_samples),\n",
    "    'monthly_usage': np.random.poisson(10, n_samples),\n",
    "    # 'consumer_trust': np.round(np.random.triangular(0, 4, 5, n_samples)),\n",
    "    # 'consumer_trust': np.round(skewnorm.rvs(4, size=n_samples, loc=4, scale=1)),\n",
    "    'consumer_trust': np.round(1 + 4 * np.random.beta(3, 2, n_samples)).astype(int),\n",
    "    }\n",
    "\n",
    "df = pd.DataFrame(data)\n",
    "\n",
    "df['interactions'] = np.where(\n",
    "    df['is_senior'] == 0,\n",
    "    np.exp(-0.5 * df['sale_calls']),\n",
    "    1 - np.exp(-0.3 * df['sale_calls']))\n",
    "\n",
    "# discount dependant on bugs_faced and monthly_usage with some noise\n",
    "df['discount'] = (0.5 * df['bugs_faced'] + 0.3 * df['monthly_usage'] + np.random.normal(0, 1, n_samples)).astype(int)\n",
    "df['discount'] = df['discount'].clip(0, 4)  # discount is between 0 and 4\n",
    "\n",
    "# renewal dependant on interactions, bugs_faced, monthly_usage, consumer_trust discount\n",
    "logit_renewal = (\n",
    "      df['interactions'] \n",
    "    - 0.5 * df['bugs_faced'] \n",
    "    + 0.3 * df['monthly_usage'] \n",
    "    + 0.2 * df['consumer_trust']\n",
    "    - 0.4 * df['discount']\n",
    "    + np.random.normal(0, 1, n_samples)\n",
    ")\n",
    "df['renewal'] = (logit_renewal > 0).astype(int)\n",
    "# categorize renewel to true/false boolean type\n",
    "# df['renewal'] = df['renewal'].astype('bool')"
   ]
  },
  {
   "cell_type": "markdown",
   "metadata": {},
   "source": [
    "## SymPy SEM:"
   ]
  },
  {
   "cell_type": "code",
   "execution_count": 3,
   "metadata": {},
   "outputs": [
    {
     "data": {
      "text/latex": [
       "$\\displaystyle \\left\\lfloor{\\min\\left(4, \\max\\left(0, 0.5 BF + 0.3 U\\right)\\right) + 0.5}\\right\\rfloor$"
      ],
      "text/plain": [
       "floor(Min(4, Max(0, 0.5*BF + 0.3*U)) + 0.5)"
      ]
     },
     "execution_count": 3,
     "metadata": {},
     "output_type": "execute_result"
    }
   ],
   "source": [
    "# is_senior: IS, sale_calls: SC, bugs_faced: BF, monthly_usage: U, consumer_trust: CT \n",
    "IS, SC, BF, U, CT = sp.symbols('IS SC BF U CT')\n",
    "discount = sp.floor(sp.Min(sp.Max(0.5 * BF + 0.3 * U, 0), 4) + 0.5)\n",
    "# discount = sp.Min(sp.Max(0.5 * BF + 0.3 * U, 0), 4)\n",
    "\n",
    "interactions = sp.Piecewise(\n",
    "    (sp.exp(-0.6 * SC), sp.Eq(IS, 0)),\n",
    "    (1 - sp.exp(-0.3 * SC), True))\n",
    "\n",
    "logit_renewal = interactions - 0.5 * BF + 0.3 * U + 0.2 * CT - 0.4 * discount\n",
    "renewal = sp.Heaviside(logit_renewal)\n",
    "\n",
    "renewal_function = sp.Lambda((IS, SC, BF, U, CT), renewal)\n",
    "renewal_function(0, 100, 20, 50, 2) # SEM\n",
    "renewal_function\n",
    "\n",
    "## then want to compare SEM's interventions & countefactuals on the causalnex model.\n",
    "# # renewal_function(is_senior, sale_calls, bugs_faced, monthly_usage, consumer_trust)\n",
    "# renewal_function(0, 100, 20, 20, 1)\n",
    "\n",
    "discount"
   ]
  },
  {
   "cell_type": "markdown",
   "metadata": {},
   "source": [
    "## Ground Truth DAG:"
   ]
  },
  {
   "cell_type": "code",
   "execution_count": 24,
   "metadata": {},
   "outputs": [
    {
     "data": {
      "image/png": "[encoded data removed]",
      "text/plain": [
       "<Figure size 640x480 with 1 Axes>"
      ]
     },
     "metadata": {},
     "output_type": "display_data"
    }
   ],
   "source": [
    "edges = [('is_senior', 'interactions'),\n",
    "         ('sale_calls', 'interactions'),\n",
    "         ('interactions', 'renewal'),\n",
    "         ('bugs_faced', 'renewal'),\n",
    "         ('bugs_faced', 'discount'),\n",
    "         ('monthly_usage', 'renewal'),\n",
    "         ('monthly_usage', 'discount'),\n",
    "         ('consumer_trust', 'renewal'),\n",
    "         ('discount', 'renewal')]\n",
    "\n",
    "G = nx.DiGraph()\n",
    "nodes = [\"is_senior\", \"sale_calls\", \"bugs_faced\", \"monthly_usage\", \"consumer_trust\", \"interactions\", \"discount\", \"renewal\"]\n",
    "G.add_nodes_from(nodes)\n",
    "G.add_edges_from(edges)\n",
    "nx.draw_networkx(G, arrows = True, node_shape = \"s\", node_color = \"white\")\n",
    "plt.title(\"Renewal DAG.\")\n",
    "plt.show()"
   ]
  },
  {
   "cell_type": "markdown",
   "metadata": {},
   "source": [
    "## Dimensionality problem"
   ]
  },
  {
   "cell_type": "code",
   "execution_count": 13,
   "metadata": {},
   "outputs": [],
   "source": [
    "# df\n",
    "def gen_postal_code():\n",
    "    pattern = [string.ascii_letters.upper(), string.digits]*2# *3\n",
    "    return ''.join(random.choice(group) for group in pattern)\n",
    "# gen_postal_code()\n",
    "df['postal_code'] = [gen_postal_code() for _ in range(n_samples)]"
   ]
  },
  {
   "cell_type": "code",
   "execution_count": 23,
   "metadata": {},
   "outputs": [
    {
     "data": {
      "text/plain": [
       "0        S8F5\n",
       "1        V9Q1\n",
       "2        C7Y5\n",
       "3        L5K2\n",
       "4        K3X1\n",
       "         ... \n",
       "99995    D5O9\n",
       "99996    O4B1\n",
       "99997    S1Q4\n",
       "99998    U1F5\n",
       "99999    N1P6\n",
       "Name: postal_code, Length: 100000, dtype: object"
      ]
     },
     "execution_count": 23,
     "metadata": {},
     "output_type": "execute_result"
    }
   ],
   "source": [
    "df.postal_code"
   ]
  },
  {
   "cell_type": "code",
   "execution_count": 22,
   "metadata": {},
   "outputs": [
    {
     "data": {
      "text/plain": [
       "52343"
      ]
     },
     "execution_count": 22,
     "metadata": {},
     "output_type": "execute_result"
    }
   ],
   "source": [
    "len(df.postal_code.unique())"
   ]
  }
 ],
 "metadata": {
  "kernelspec": {
   "display_name": "Python 3",
   "language": "python",
   "name": "python3"
  },
  "language_info": {
   "codemirror_mode": {
    "name": "ipython",
    "version": 3
   },
   "file_extension": ".py",
   "mimetype": "text/x-python",
   "name": "python",
   "nbconvert_exporter": "python",
   "pygments_lexer": "ipython3",
   "version": "3.8.19"
  }
 },
 "nbformat": 4,
 "nbformat_minor": 2
}
