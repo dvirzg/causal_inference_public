{
 "cells": [
  {
   "cell_type": "markdown",
   "metadata": {},
   "source": [
    "## Experimentation Platform\n",
    "\n",
    "no data given yet, user will specify causal structure with the following further info:\n",
    "* edges [('cause1', 'effect'), ('cause2', 'effect'), ...]\n",
    "    - (do we want to somewhere automatically generate suggestions using cond-indeps/correlations of causal hypothesis DAG? can be for either og or simplified DAG)\n",
    "* which nodes can be simplified to one (ex. if there exists columns injury1, injury2... -> injury_categorical)\n",
    "* which nodes are interveneable\n",
    "* what is the chosen outcome variable\n",
    "\n",
    "Then the user's should note which nodes are construct and what proxy data should be used for those.  \n",
    "note: need to decide how to do data-fusion (multi-view?) and whether to give freedom to use VAEs or other options.  \n",
    "\n",
    "For each construct variable, a VAE will be train on it to give concrete function of the consturct.  \n",
    "User will specify whether to categorize construct variables and how.  \n",
    "The dashborad will create a data dictionary report (what variables are cts, categorical, summary stats).  \n",
    "\n",
    "Should fit observational data to causal structure, estimate individual treatment effects, let user experiment with do conditionals on interveneable values.\n",
    "\n",
    "---"
   ]
  },
  {
   "cell_type": "markdown",
   "metadata": {},
   "source": [
    "Q: do we keep latent nodes and find range of do-cond, or do we make observable via VAEs and then get fixed-point do-cond estimation.  \n",
    "note: data would almost always be sparse, so need to carefully chose architecture to estimate interventional data, *check assumptions*."
   ]
  },
  {
   "cell_type": "markdown",
   "metadata": {},
   "source": [
    "## side features:\n",
    "* plot \"setting\" nodes\n",
    "* dashoboard front-end\n",
    "\n",
    "* can either train to fit DAG in the experimentation platform, or use pretrained model with DICE  \n",
    "Q: where and how do we want DICE in the platform, plausibly it can replace the fitting part, as well as can be used for backtesting\n",
    "---"
   ]
  },
  {
   "cell_type": "markdown",
   "metadata": {},
   "source": [
    "## First Try:"
   ]
  },
  {
   "cell_type": "code",
   "execution_count": null,
   "metadata": {},
   "outputs": [],
   "source": [
    "# # generate data_dictionary report for a given dataset\n",
    "# from data_dict import data_dicti\n",
    "\n",
    "# # might want to discretesize variables, and quantify categorical variables\n",
    "# data_dicti(df)"
   ]
  },
  {
   "cell_type": "code",
   "execution_count": 111,
   "metadata": {},
   "outputs": [],
   "source": [
    "class myDAG:\n",
    "    def __init__(self, edges):\n",
    "        self.edges = edges\n",
    "        self.nodes = list(set([x for y in edges for x in y]))\n",
    "        self.simplify_to_dict = {}\n",
    "        self.intrevenable_dict = {}\n",
    "\n",
    "        # ...\n",
    "        self.intrevenable_dict = {k: False for k in self.nodes}\n",
    "\n",
    "    def simplify(self, simplify_from, simplify_to):\n",
    "        # every element from simplify_from will be mapped in a dictionary to simplify_to\n",
    "        self.simplify_to_dict = {k: simplify_to for k in simplify_from}\n",
    "        # now replace in edges\n",
    "        for i in range(len(self.edges)):\n",
    "            self.edges[i] = [simplify_to if x in simplify_from else x for x in self.edges[i]]         \n",
    "        # if repeating edges keep all but one\n",
    "        self.edges = list(set(tuple(x) for x in self.edges))\n",
    "\n",
    "    def make_intrevenable(self, intrevenable_nodes):\n",
    "        for k in self.nodes:\n",
    "            if k in intrevenable_nodes:\n",
    "                self.intrevenable_dict[k] = True\n",
    "\n",
    "    def make_target(self, target_node):\n",
    "        self.target_node = target_node\n",
    "\n",
    "    def make_constructs(self, construct_nodes):\n",
    "        self.construct_nodes = construct_nodes\n",
    "\n",
    "    def plot_orphans(self):\n",
    "        # plotting parentless nodes, found automatically from networkx graph\n",
    "        ... \n",
    "    \n",
    "    def quantify_constructs(self, construct, dataset, loss_function):\n",
    "        # train VAE on construct and dataset, make customizable loss func\n",
    "        # VAE because...\n",
    "        # need to make sure discretisizing and quantifying is done correctly for the type of data and construct\n",
    "        # i.e. one-hot encoding for categorical variables, etc.\n",
    "        # representation of categorical data matter. so does discretization of continuous data.\n",
    "\n",
    "        # eventually want to do data fusion on datasets\n",
    "        # will return a function that can be used on new data to get outcome\n",
    "        # after created want to add those features to relevant node in training data\n",
    "        ...\n",
    "        # maybe: bayessian hyperparameter optimization?\n",
    "\n",
    "    # check if all preceading steps were completed:\n",
    "    ...\n",
    "\n",
    "    def __str__(self):\n",
    "        return str(self.edges)"
   ]
  },
  {
   "cell_type": "code",
   "execution_count": 114,
   "metadata": {},
   "outputs": [],
   "source": [
    "# input:\n",
    "edges = [('is_senior', 'interactions'),\n",
    "         ('is_adult', 'interactions'),\n",
    "         ('is_young', 'interactions'),\n",
    "         ('sale_calls', 'interactions'),\n",
    "         ('interactions', 'renewal'),\n",
    "         ('bugs_faced', 'renewal'),\n",
    "         ('bugs_faced', 'discount'),\n",
    "         ('monthly_usage', 'renewal'),\n",
    "         ('monthly_usage', 'discount'),\n",
    "         ('consumer_trust', 'renewal'),\n",
    "         ('discount', 'renewal')]\n",
    "g = myDAG(edges)\n",
    "g.simplify(['is_senior', 'is_adult', 'is_young'], 'age_status')\n",
    "g.make_intrevenable(['sale_calls', 'interactions', 'bugs_faced', 'discount', 'consumer_trust'])\n",
    "g.make_target('renewal')\n",
    "g.make_constructs(['consumer_trust'])"
   ]
  },
  {
   "cell_type": "code",
   "execution_count": 60,
   "metadata": {},
   "outputs": [
    {
     "data": {
      "text/plain": [
       "True"
      ]
     },
     "execution_count": 60,
     "metadata": {},
     "output_type": "execute_result"
    }
   ],
   "source": [
    "# testing:\n",
    "edges2 = [('age_status', 'interactions'), ('sale_calls', 'interactions'), ('interactions', 'renewal'), ('bugs_faced', 'renewal'), ('bugs_faced', 'discount'), ('monthly_usage', 'renewal'), ('monthly_usage', 'discount'), ('consumer_trust', 'renewal'), ('discount', 'renewal')]\n",
    "# sort element of g.edges and edges2 and compare\n",
    "sorted(g.edges) == sorted(edges2)"
   ]
  },
  {
   "cell_type": "code",
   "execution_count": null,
   "metadata": {},
   "outputs": [],
   "source": [
    "# if all steps completed and myDAG is completely initialized, \n",
    "# can now fetch observational data and 'fit' to DAG\n",
    "...\n",
    "\n",
    "# then should be able to predict, intrevene, ask counterfactuals...\n",
    "# make an interactive dashboard for this"
   ]
  }
 ],
 "metadata": {
  "kernelspec": {
   "display_name": "causal_env",
   "language": "python",
   "name": "python3"
  },
  "language_info": {
   "codemirror_mode": {
    "name": "ipython",
    "version": 3
   },
   "file_extension": ".py",
   "mimetype": "text/x-python",
   "name": "python",
   "nbconvert_exporter": "python",
   "pygments_lexer": "ipython3",
   "version": "3.8.19"
  }
 },
 "nbformat": 4,
 "nbformat_minor": 2
}
