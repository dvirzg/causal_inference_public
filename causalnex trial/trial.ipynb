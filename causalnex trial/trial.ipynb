{
 "cells": [
  {
   "cell_type": "markdown",
   "metadata": {},
   "source": [
    "## CausalNEX trial, with toy model"
   ]
  },
  {
   "cell_type": "code",
   "execution_count": 1,
   "metadata": {},
   "outputs": [
    {
     "data": {
      "text/plain": [
       "OutEdgeView([('health', 'absences'), ('health', 'G1')])"
      ]
     },
     "execution_count": 1,
     "metadata": {},
     "output_type": "execute_result"
    }
   ],
   "source": [
    "import warnings\n",
    "from causalnex.structure import StructureModel\n",
    "warnings.filterwarnings(\"ignore\")  # silence warnings\n",
    "\n",
    "sm = StructureModel()\n",
    "sm.add_edges_from([\n",
    "    ('health', 'absences'),\n",
    "    ('health', 'G1')\n",
    "])\n",
    "sm.edges"
   ]
  },
  {
   "cell_type": "code",
   "execution_count": 2,
   "metadata": {},
   "outputs": [
    {
     "name": "stdout",
     "output_type": "stream",
     "text": [
      "simple_plot.html\n"
     ]
    },
    {
     "ename": "UnicodeEncodeError",
     "evalue": "'charmap' codec can't encode characters in position 263607-263621: character maps to <undefined>",
     "output_type": "error",
     "traceback": [
      "\u001b[1;31m---------------------------------------------------------------------------\u001b[0m",
      "\u001b[1;31mUnicodeEncodeError\u001b[0m                        Traceback (most recent call last)",
      "Cell \u001b[1;32mIn[2], line 8\u001b[0m\n\u001b[0;32m      1\u001b[0m \u001b[38;5;28;01mfrom\u001b[39;00m \u001b[38;5;21;01mcausalnex\u001b[39;00m\u001b[38;5;21;01m.\u001b[39;00m\u001b[38;5;21;01mplots\u001b[39;00m \u001b[38;5;28;01mimport\u001b[39;00m plot_structure, NODE_STYLE, EDGE_STYLE\n\u001b[0;32m      3\u001b[0m viz \u001b[38;5;241m=\u001b[39m plot_structure(\n\u001b[0;32m      4\u001b[0m     sm,\n\u001b[0;32m      5\u001b[0m     all_node_attributes\u001b[38;5;241m=\u001b[39mNODE_STYLE\u001b[38;5;241m.\u001b[39mWEAK,\n\u001b[0;32m      6\u001b[0m     all_edge_attributes\u001b[38;5;241m=\u001b[39mEDGE_STYLE\u001b[38;5;241m.\u001b[39mWEAK,\n\u001b[0;32m      7\u001b[0m )\n\u001b[1;32m----> 8\u001b[0m \u001b[43mviz\u001b[49m\u001b[38;5;241;43m.\u001b[39;49m\u001b[43mshow\u001b[49m\u001b[43m(\u001b[49m\u001b[38;5;124;43m\"\u001b[39;49m\u001b[38;5;124;43msimple_plot.html\u001b[39;49m\u001b[38;5;124;43m\"\u001b[39;49m\u001b[43m)\u001b[49m\n",
      "File \u001b[1;32mc:\\Users\\dvirz\\AppData\\Local\\Programs\\Python\\Python310\\lib\\site-packages\\pyvis\\network.py:546\u001b[0m, in \u001b[0;36mNetwork.show\u001b[1;34m(self, name, local, notebook)\u001b[0m\n\u001b[0;32m    544\u001b[0m \u001b[38;5;28mprint\u001b[39m(name)\n\u001b[0;32m    545\u001b[0m \u001b[38;5;28;01mif\u001b[39;00m notebook:\n\u001b[1;32m--> 546\u001b[0m     \u001b[38;5;28;43mself\u001b[39;49m\u001b[38;5;241;43m.\u001b[39;49m\u001b[43mwrite_html\u001b[49m\u001b[43m(\u001b[49m\u001b[43mname\u001b[49m\u001b[43m,\u001b[49m\u001b[43m \u001b[49m\u001b[43mopen_browser\u001b[49m\u001b[38;5;241;43m=\u001b[39;49m\u001b[38;5;28;43;01mFalse\u001b[39;49;00m\u001b[43m,\u001b[49m\u001b[43mnotebook\u001b[49m\u001b[38;5;241;43m=\u001b[39;49m\u001b[38;5;28;43;01mTrue\u001b[39;49;00m\u001b[43m)\u001b[49m\n\u001b[0;32m    547\u001b[0m \u001b[38;5;28;01melse\u001b[39;00m:\n\u001b[0;32m    548\u001b[0m     \u001b[38;5;28mself\u001b[39m\u001b[38;5;241m.\u001b[39mwrite_html(name, open_browser\u001b[38;5;241m=\u001b[39m\u001b[38;5;28;01mTrue\u001b[39;00m)\n",
      "File \u001b[1;32mc:\\Users\\dvirz\\AppData\\Local\\Programs\\Python\\Python310\\lib\\site-packages\\pyvis\\network.py:530\u001b[0m, in \u001b[0;36mNetwork.write_html\u001b[1;34m(self, name, local, notebook, open_browser)\u001b[0m\n\u001b[0;32m    528\u001b[0m \u001b[38;5;28;01melif\u001b[39;00m \u001b[38;5;28mself\u001b[39m\u001b[38;5;241m.\u001b[39mcdn_resources \u001b[38;5;241m==\u001b[39m \u001b[38;5;124m\"\u001b[39m\u001b[38;5;124min_line\u001b[39m\u001b[38;5;124m\"\u001b[39m \u001b[38;5;129;01mor\u001b[39;00m \u001b[38;5;28mself\u001b[39m\u001b[38;5;241m.\u001b[39mcdn_resources \u001b[38;5;241m==\u001b[39m \u001b[38;5;124m\"\u001b[39m\u001b[38;5;124mremote\u001b[39m\u001b[38;5;124m\"\u001b[39m:\n\u001b[0;32m    529\u001b[0m     \u001b[38;5;28;01mwith\u001b[39;00m \u001b[38;5;28mopen\u001b[39m(getcwd_name, \u001b[38;5;124m\"\u001b[39m\u001b[38;5;124mw+\u001b[39m\u001b[38;5;124m\"\u001b[39m) \u001b[38;5;28;01mas\u001b[39;00m out:\n\u001b[1;32m--> 530\u001b[0m         \u001b[43mout\u001b[49m\u001b[38;5;241;43m.\u001b[39;49m\u001b[43mwrite\u001b[49m\u001b[43m(\u001b[49m\u001b[38;5;28;43mself\u001b[39;49m\u001b[38;5;241;43m.\u001b[39;49m\u001b[43mhtml\u001b[49m\u001b[43m)\u001b[49m\n\u001b[0;32m    531\u001b[0m \u001b[38;5;28;01melse\u001b[39;00m:\n\u001b[0;32m    532\u001b[0m     \u001b[38;5;28;01massert\u001b[39;00m \u001b[38;5;124m\"\u001b[39m\u001b[38;5;124mcdn_resources is not in [\u001b[39m\u001b[38;5;124m'\u001b[39m\u001b[38;5;124min_line\u001b[39m\u001b[38;5;124m'\u001b[39m\u001b[38;5;124m,\u001b[39m\u001b[38;5;124m'\u001b[39m\u001b[38;5;124mremote\u001b[39m\u001b[38;5;124m'\u001b[39m\u001b[38;5;124m,\u001b[39m\u001b[38;5;124m'\u001b[39m\u001b[38;5;124mlocal\u001b[39m\u001b[38;5;124m'\u001b[39m\u001b[38;5;124m].\u001b[39m\u001b[38;5;124m\"\u001b[39m\n",
      "File \u001b[1;32mc:\\Users\\dvirz\\AppData\\Local\\Programs\\Python\\Python310\\lib\\encodings\\cp1255.py:19\u001b[0m, in \u001b[0;36mIncrementalEncoder.encode\u001b[1;34m(self, input, final)\u001b[0m\n\u001b[0;32m     18\u001b[0m \u001b[38;5;28;01mdef\u001b[39;00m \u001b[38;5;21mencode\u001b[39m(\u001b[38;5;28mself\u001b[39m, \u001b[38;5;28minput\u001b[39m, final\u001b[38;5;241m=\u001b[39m\u001b[38;5;28;01mFalse\u001b[39;00m):\n\u001b[1;32m---> 19\u001b[0m     \u001b[38;5;28;01mreturn\u001b[39;00m \u001b[43mcodecs\u001b[49m\u001b[38;5;241;43m.\u001b[39;49m\u001b[43mcharmap_encode\u001b[49m\u001b[43m(\u001b[49m\u001b[38;5;28;43minput\u001b[39;49m\u001b[43m,\u001b[49m\u001b[38;5;28;43mself\u001b[39;49m\u001b[38;5;241;43m.\u001b[39;49m\u001b[43merrors\u001b[49m\u001b[43m,\u001b[49m\u001b[43mencoding_table\u001b[49m\u001b[43m)\u001b[49m[\u001b[38;5;241m0\u001b[39m]\n",
      "\u001b[1;31mUnicodeEncodeError\u001b[0m: 'charmap' codec can't encode characters in position 263607-263621: character maps to <undefined>"
     ]
    }
   ],
   "source": [
    "from causalnex.plots import plot_structure, NODE_STYLE, EDGE_STYLE\n",
    "\n",
    "viz = plot_structure(\n",
    "    sm,\n",
    "    all_node_attributes=NODE_STYLE.WEAK,\n",
    "    all_edge_attributes=EDGE_STYLE.WEAK,\n",
    ")\n",
    "viz.show(\"simple_plot.html\")"
   ]
  },
  {
   "cell_type": "code",
   "execution_count": 1,
   "metadata": {},
   "outputs": [
    {
     "data": {
      "text/html": [
       "\n",
       "        <iframe\n",
       "            width=\"100%\"\n",
       "            height=\"600px\"\n",
       "            src=\"03_final_plot.html\"\n",
       "            frameborder=\"0\"\n",
       "            allowfullscreen\n",
       "            \n",
       "        ></iframe>\n",
       "        "
      ],
      "text/plain": [
       "<IPython.lib.display.IFrame at 0x1eeb4fe51b0>"
      ]
     },
     "execution_count": 1,
     "metadata": {},
     "output_type": "execute_result"
    }
   ],
   "source": [
    "# import numpy as np\n",
    "# from causalnex.structure import StructureModel\n",
    "# from causalnex.plots import plot_structure\n",
    "# from IPython.display import Image\n",
    "\n",
    "# import warnings\n",
    "\n",
    "# warnings.filterwarnings(\"ignore\")\n",
    "\n",
    "# from itertools import chain\n",
    "\n",
    "# edges = [\n",
    "#     (\"Age\", \"SocioEcon\", {\"weight\": 0.37}),\n",
    "#     (\"SocioEcon\", \"OtherCar\", {\"weight\": 0.95}),\n",
    "#     (\"SocioEcon\", \"GoodStudent\", {\"weight\": 0.73}),\n",
    "#     (\"Age\", \"GoodStudent\", {\"weight\": 0.6}),\n",
    "#     (\"SocioEcon\", \"RiskAversion\", {\"weight\": 0.16}),\n",
    "#     (\"Age\", \"RiskAversion\", {\"weight\": 0.16}),\n",
    "#     (\"RiskAversion\", \"VehicleYear\", {\"weight\": 0.06}),\n",
    "#     (\"SocioEcon\", \"VehicleYear\", {\"weight\": 0.87}),\n",
    "#     (\"Accident\", \"ThisCarDam\", {\"weight\": 0.6}),\n",
    "#     (\"RuggedAuto\", \"ThisCarDam\", {\"weight\": 0.71}),\n",
    "#     (\"MakeModel\", \"RuggedAuto\", {\"weight\": 0.02}),\n",
    "#     (\"VehicleYear\", \"RuggedAuto\", {\"weight\": 0.97}),\n",
    "#     (\"Mileage\", \"Accident\", {\"weight\": 0.83}),\n",
    "#     (\"DrivQuality\", \"Accident\", {\"weight\": 0.21}),\n",
    "#     (\"Antilock\", \"Accident\", {\"weight\": 0.18}),\n",
    "#     (\"RiskAversion\", \"MakeModel\", {\"weight\": 0.18}),\n",
    "#     (\"SocioEcon\", \"MakeModel\", {\"weight\": 0.3}),\n",
    "#     (\"RiskAversion\", \"DrivQuality\", {\"weight\": 0.52}),\n",
    "#     (\"DrivingSkill\", \"DrivQuality\", {\"weight\": 0.43}),\n",
    "#     (\"MakeModel\", \"Antilock\", {\"weight\": 0.29}),\n",
    "#     (\"VehicleYear\", \"Antilock\", {\"weight\": 0.61}),\n",
    "#     (\"SeniorTrain\", \"DrivingSkill\", {\"weight\": 0.14}),\n",
    "#     (\"Age\", \"DrivingSkill\", {\"weight\": 0.29}),\n",
    "#     (\"RiskAversion\", \"SeniorTrain\", {\"weight\": 0.37}),\n",
    "#     (\"Age\", \"SeniorTrain\", {\"weight\": 0.46}),\n",
    "#     (\"Theft\", \"ThisCarCost\", {\"weight\": 0.79}),\n",
    "#     (\"CarValue\", \"ThisCarCost\", {\"weight\": 0.2}),\n",
    "#     (\"ThisCarDam\", \"ThisCarCost\", {\"weight\": 0.51}),\n",
    "#     (\"HomeBase\", \"Theft\", {\"weight\": 0.59}),\n",
    "#     (\"AntiTheft\", \"Theft\", {\"weight\": 0.05}),\n",
    "#     (\"CarValue\", \"Theft\", {\"weight\": 0.61}),\n",
    "#     (\"Mileage\", \"CarValue\", {\"weight\": 0.17}),\n",
    "#     (\"MakeModel\", \"CarValue\", {\"weight\": 0.07}),\n",
    "#     (\"VehicleYear\", \"CarValue\", {\"weight\": 0.95}),\n",
    "#     (\"RiskAversion\", \"HomeBase\", {\"weight\": 0.97}),\n",
    "#     (\"SocioEcon\", \"HomeBase\", {\"weight\": 0.81}),\n",
    "#     (\"RiskAversion\", \"AntiTheft\", {\"weight\": 0.3}),\n",
    "#     (\"SocioEcon\", \"AntiTheft\", {\"weight\": 0.1}),\n",
    "#     (\"OtherCarCost\", \"PropCost\", {\"weight\": 0.68}),\n",
    "#     (\"ThisCarCost\", \"PropCost\", {\"weight\": 0.44}),\n",
    "#     (\"Accident\", \"OtherCarCost\", {\"weight\": 0.12}),\n",
    "#     (\"RuggedAuto\", \"OtherCarCost\", {\"weight\": 0.5}),\n",
    "#     (\"Accident\", \"MedCost\", {\"weight\": 0.03}),\n",
    "#     (\"Cushioning\", \"MedCost\", {\"weight\": 0.91}),\n",
    "#     (\"Age\", \"MedCost\", {\"weight\": 0.26}),\n",
    "# ]\n",
    "# g = StructureModel(edges)\n",
    "# from IPython.lib.display import IFrame\n",
    "# IFrame( src='03_final_plot.html', width=\"100%\", height=\"600px\")"
   ]
  },
  {
   "cell_type": "code",
   "execution_count": null,
   "metadata": {},
   "outputs": [],
   "source": [
    "# # Generate example data\n",
    "# np.random.seed(42)\n",
    "# data = {\n",
    "#     'is_senior': np.random.binomial(1, 0.5, 100),\n",
    "#     'sales_call': np.random.poisson(3, 100),\n",
    "#     'bugs_faced': np.random.poisson(2, 100),\n",
    "#     'monthly_usage': np.random.poisson(10, 100),\n",
    "#     'consumer_confidence': np.random.randint(0, 6, 100),\n",
    "#     'discount': np.random.randint(0, 5, 100),\n",
    "#     'renewal': np.random.binomial(1, 0.5, 100)\n",
    "# }\n",
    "\n",
    "# # Create a DataFrame\n",
    "# df = pd.DataFrame(data)\n",
    "\n",
    "# # Apply non-linear transformations for interactions\n",
    "# df['interactions'] = np.where(\n",
    "#     df['is_senior'] == 0,\n",
    "#     np.exp(-0.3 * df['sales_call']),\n",
    "#     1 - np.exp(-0.3 * df['sales_call'])\n",
    "# )\n",
    "\n",
    "# # Define the model syntax in `semopy` format\n",
    "# model_desc = \"\"\"\n",
    "# # Measurement model\n",
    "# interactions =~ is_senior\n",
    "\n",
    "# # Structural model\n",
    "# discount ~ bugs_faced + monthly_usage\n",
    "# renewal ~ interactions + bugs_faced + monthly_usage + consumer_confidence + discount\n",
    "# \"\"\"\n",
    "\n",
    "# # Create the model\n",
    "# mod = Model(model_desc)\n",
    "\n",
    "# # Fit the model\n",
    "# res = mod.fit(df)\n",
    "# print(res)\n",
    "\n",
    "# # Summarize the results\n",
    "# mod.inspect()"
   ]
  }
 ],
 "metadata": {
  "kernelspec": {
   "display_name": "Python 3",
   "language": "python",
   "name": "python3"
  },
  "language_info": {
   "codemirror_mode": {
    "name": "ipython",
    "version": 3
   },
   "file_extension": ".py",
   "mimetype": "text/x-python",
   "name": "python",
   "nbconvert_exporter": "python",
   "pygments_lexer": "ipython3",
   "version": "3.10.4"
  }
 },
 "nbformat": 4,
 "nbformat_minor": 2
}
