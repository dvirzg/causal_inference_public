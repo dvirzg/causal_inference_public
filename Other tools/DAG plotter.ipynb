{
 "cells": [
  {
   "cell_type": "code",
   "execution_count": 10,
   "metadata": {},
   "outputs": [],
   "source": [
    "import networkx as nx\n",
    "import matplotlib.pyplot as plt"
   ]
  },
  {
   "cell_type": "code",
   "execution_count": 11,
   "metadata": {},
   "outputs": [],
   "source": [
    "G = nx.DiGraph()\n",
    "G.add_edges_from([\n",
    "        (\"H1\", \"H2\"),\n",
    "        (\"H2\", \"H3\"),\n",
    "        (\"H3\", \"H4\"),\n",
    "        (\"H4\", \"H5\"),\n",
    "        (\"H1\", \"O1\"),\n",
    "        (\"H2\", \"O2\"),\n",
    "        (\"H3\", \"O3\"),\n",
    "        (\"H4\", \"O4\"),\n",
    "        (\"H5\", \"O5\"),])\n",
    "\n",
    "x, y, z = ({\"H1\", \"O1\"}, {\"H5\", \"O5\"}, {\"H3\"})"
   ]
  },
  {
   "cell_type": "code",
   "execution_count": 12,
   "metadata": {},
   "outputs": [
    {
     "data": {
      "text/plain": [
       "'\\nnx.d_separated(G, x, y, z) # working, from old version\\n\\nnx.is_d_separator(G, x, y, z) # not working, from new version\\nnx.is_minimala_d_separator(G, x, y, z) # not working, from new version?\\nnx.is_minimal_d_separator(G, x, y, z | {\"O3\"})\\nz = nx.find_minimal_d_separator(G, x | y, {\"O2\", \"O3\", \"O4\"})\\nz == {\"H2\", \"H4\"}\\n'"
      ]
     },
     "execution_count": 12,
     "metadata": {},
     "output_type": "execute_result"
    }
   ],
   "source": [
    "# new version not in pip\n",
    "# nx.minimal_d_separator(instrumental_dag, {\"Z\", \"X\"}, {\"X\", \"Y\"}, {\"X\"}) # not working, from old version\n",
    "\"\"\"\n",
    "nx.d_separated(G, x, y, z) # working, from old version\n",
    "\n",
    "nx.is_d_separator(G, x, y, z) # not working, from new version\n",
    "nx.is_minimala_d_separator(G, x, y, z) # not working, from new version?\n",
    "nx.is_minimal_d_separator(G, x, y, z | {\"O3\"})\n",
    "z = nx.find_minimal_d_separator(G, x | y, {\"O2\", \"O3\", \"O4\"})\n",
    "z == {\"H2\", \"H4\"}\n",
    "\"\"\""
   ]
  },
  {
   "cell_type": "code",
   "execution_count": 13,
   "metadata": {},
   "outputs": [
    {
     "data": {
      "text/plain": [
       "{'q1', 'x1', 'x2', 'y1', 'y2', 'z1', 'z2'}"
      ]
     },
     "execution_count": 13,
     "metadata": {},
     "output_type": "execute_result"
    }
   ],
   "source": [
    "x1 = {\"x1\", \"y1\", \"z1\"}\n",
    "x2 = {\"x2\", \"y2\", \"z2\", \"q1\"}\n",
    "x3 = x1 |x2\n",
    "\n",
    "x3\n",
    "#print(x3)"
   ]
  },
  {
   "cell_type": "code",
   "execution_count": 14,
   "metadata": {},
   "outputs": [],
   "source": [
    "# create DAGs\n",
    "\n",
    "dag0 = nx.DiGraph()\n",
    "dag0.add_edges_from([\n",
    "        (\"A\", \"B\"),\n",
    "        (\"A\", \"C\"),\n",
    "        (\"B\", \"D\"),\n",
    "        (\"C\", \"D\"),\n",
    "        (\"C\", \"E\"),])\n",
    "\n",
    "instrumental_dag = nx.DiGraph()\n",
    "instrumental_dag.add_edges_from([\n",
    "        (\"Z\", \"X\"),\n",
    "        (\"X\", \"Y\"),\n",
    "        (\"H\", \"X\"),\n",
    "        (\"H\", \"Y\"),])"
   ]
  },
  {
   "cell_type": "code",
   "execution_count": 15,
   "metadata": {},
   "outputs": [],
   "source": [
    "bell_dag = nx.DiGraph()\n",
    "bell_dag.add_edges_from([\n",
    "        (\"l\", \"A\"),\n",
    "        (\"l\", \"B\"),\n",
    "        (\"X\", \"A\"),\n",
    "        (\"Y\", \"B\"),])\n",
    "\n",
    "\n",
    "dag2 = nx.DiGraph()\n",
    "# dag2.add_edges_from([\n",
    "#         (\"A\", \"B\", \"C\"),\n",
    "#         (\"D\", \"E\", \"F\"),\n",
    "#         (\"G\", \"H\", \"I\"),])\n",
    "dag2.add_edges_from([\n",
    "        (\"A\", \"B\"),\n",
    "        (\"B\", \"C\"),\n",
    "\n",
    "        (\"D\", \"E\"),\n",
    "        (\"E\", \"F\"),\n",
    "\n",
    "        (\"G\", \"H\"),\n",
    "        (\"H\", \"I\"),])\n",
    "\n",
    "\n",
    "ex_dag = nx.DiGraph()\n",
    "ex_dag.add_edges_from([\n",
    "        (\"X2\", \"X3\"),\n",
    "        (\"X1\", \"X3\"),\n",
    "        (\"X1\", \"X4\"),\n",
    "        (\"X4\", \"X5\"),\n",
    "        (\"X3\", \"X5\"),])"
   ]
  },
  {
   "cell_type": "code",
   "execution_count": 16,
   "metadata": {},
   "outputs": [
    {
     "data": {
      "text/plain": [
       "False"
      ]
     },
     "execution_count": 16,
     "metadata": {},
     "output_type": "execute_result"
    }
   ],
   "source": [
    "#nx.is_d_separator(instrumental_dag, {\"Z\", \"X\"}, {\"X\", \"Y\"}, {\"X\"})\n",
    "nx.d_separated(instrumental_dag, {\"Z\", \"X\"}, {\"X\", \"Y\"}, {\"X\"})"
   ]
  },
  {
   "cell_type": "code",
   "execution_count": 17,
   "metadata": {},
   "outputs": [],
   "source": [
    "def plt_dag(dag):\n",
    "        plt.figure(figsize=(8, 5))\n",
    "        nx.draw(dag, with_labels=True, \n",
    "                node_size=2000, node_color=\"white\", edgecolors=\"black\", \n",
    "                font_size=20, font_weight='bold', \n",
    "                arrowstyle='->', arrowsize=20)\n",
    "        plt.title(\"DAG Example\")\n",
    "        plt.show()\n",
    "\n",
    "def plot_dag(dag, hidden):\n",
    "    # node positions\n",
    "    pos = nx.spring_layout(dag)\n",
    "\n",
    "    plt.figure(figsize=(8, 5))\n",
    "    \n",
    "    # hidden nodes\n",
    "    if hidden:\n",
    "        nx.draw_networkx_nodes(dag, pos, nodelist=hidden, node_size=2000, node_color=\"white\", edgecolors=\"black\", \n",
    "                               node_shape='^')\n",
    "    \n",
    "    # observable nodes\n",
    "    circle_nodes = [node for node in dag.nodes if node not in hidden]\n",
    "    nx.draw_networkx_nodes(dag, pos, nodelist=circle_nodes, node_size=2000, node_color=\"white\", edgecolors=\"black\", \n",
    "                           node_shape='o')\n",
    "\n",
    "    # connecting edges\n",
    "    nx.draw_networkx_edges(dag, pos, edgelist=dag.edges(), arrows=True, arrowstyle='->', arrowsize=20,\n",
    "                           min_source_margin=25, min_target_margin=25)\n",
    "\n",
    "\n",
    "    nx.draw_networkx_labels(dag, pos, font_size=20, font_weight='bold')\n",
    "\n",
    "\n",
    "    \"\"\"\n",
    "    # observable labels\n",
    "    nx.draw_networkx_labels(dag, pos, font_size=20, font_weight='bold', labels={n: n for n in circle_nodes})\n",
    "\n",
    "    # adjustable hidden nodes labels\n",
    "    #offset = 0.015\n",
    "    l#abel_pos = {n: (p[0], p[1] - offset) for n, p in pos.items() if n in hidden} # adjust offset as needed\n",
    "    nx.draw_networkx_labels(dag, label_pos, font_size=20, font_weight='bold', labels={n: n for n in hidden})\n",
    "    \"\"\"\n",
    "\n",
    "    plt.title(\"DAG Example\")\n",
    "    plt.show()\n"
   ]
  },
  {
   "cell_type": "code",
   "execution_count": 21,
   "metadata": {},
   "outputs": [
    {
     "data": {
      "image/png": "[encoded data removed]",
      "text/plain": [
       "<Figure size 800x500 with 1 Axes>"
      ]
     },
     "metadata": {},
     "output_type": "display_data"
    }
   ],
   "source": [
    "#plot_dag(dag0, [\"D\"])\n",
    "#plot_dag(G, [\"O1\", \"O5\"])\n",
    "plot_dag(instrumental_dag, [\"H\"])\n",
    "#plot_dag(bell_dag, [\"X\"])\n",
    "#plot_dag(ex_dag, [])"
   ]
  },
  {
   "cell_type": "code",
   "execution_count": 19,
   "metadata": {},
   "outputs": [
    {
     "name": "stdout",
     "output_type": "stream",
     "text": [
      "X: False\n",
      "X: False\n",
      "H: False\n"
     ]
    }
   ],
   "source": [
    "#nx.is_directed_acyclic_graph(instrumental_dag)\n",
    "\n",
    "# is path (Z, X, Y) d-seperated by X\n",
    "print(\"X:\", nx.d_separated(instrumental_dag, {\"Z\", \"X\"}, {\"X\", \"Y\"}, {\"X\"}))\n",
    "\n",
    "# is path (Z, X, H, Y) d-seperated by X or H\n",
    "print(\"X:\", nx.d_separated(instrumental_dag, {\"Z\", \"X\"}, {\"X\", \"Y\"}, {\"X\"}))\n",
    "print(\"H:\", nx.d_separated(instrumental_dag, {\"Z\", \"X\"}, {\"X\", \"Y\"}, {\"H\"}))\n",
    "\n",
    "# if all paths are d-seperated, then all paths are open, and Z-Y (or the entire DAG?) is d-unseperable\n"
   ]
  },
  {
   "cell_type": "code",
   "execution_count": 20,
   "metadata": {},
   "outputs": [
    {
     "name": "stdout",
     "output_type": "stream",
     "text": [
      "['Z', 'X', 'Y']\n",
      "{'X', 'Y', 'H', 'Z'}\n"
     ]
    }
   ],
   "source": [
    "# to find whether d_unseperable?\n",
    "# find all weekly connected paths, then check if any of them is d_seperated by all elements in the path but source and target\n",
    "\n",
    "for i in nx.all_simple_paths(instrumental_dag, source= \"Z\", target=\"Y\"):\n",
    "    print(i)\n",
    "for i in nx.weakly_connected_components(instrumental_dag):\n",
    "    print(i)\n",
    "\n",
    "\n",
    "# lst= [node for node in instrumental_dag.nodes() if node not in [\"X\", \"Y\"]]\n",
    "# for node in lst:\n",
    "#     print(f\"{node}:\", nx.d_separated(instrumental_dag, {\"Z\", \"X\"}, {\"X\", \"Y\"}, {node}))"
   ]
  }
 ],
 "metadata": {
  "kernelspec": {
   "display_name": "Python 3",
   "language": "python",
   "name": "python3"
  },
  "language_info": {
   "codemirror_mode": {
    "name": "ipython",
    "version": 3
   },
   "file_extension": ".py",
   "mimetype": "text/x-python",
   "name": "python",
   "nbconvert_exporter": "python",
   "pygments_lexer": "ipython3",
   "version": "3.10.4"
  }
 },
 "nbformat": 4,
 "nbformat_minor": 2
}
