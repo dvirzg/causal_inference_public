{
 "cells": [
  {
   "cell_type": "code",
   "execution_count": 63,
   "metadata": {},
   "outputs": [],
   "source": [
    "import numpy as np\n",
    "import itertools\n",
    "import sympy as sp\n",
    "\n",
    "# Define the four functions\n",
    "\n",
    "## Bin(INT), Bin(INT) -> Bin(INT)\n",
    "def identity(x):\n",
    "    return x\n",
    "\n",
    "def swap(x):\n",
    "    return 1-x\n",
    "\n",
    "def to0(_):\n",
    "    return 0\n",
    "\n",
    "def to1(_):\n",
    "    return 1\n",
    "\n",
    "\n",
    "basic_strategies = [identity, swap, to0, to1]\n",
    "all_strategies = list(itertools.product(basic_strategies, repeat=2))"
   ]
  },
  {
   "cell_type": "code",
   "execution_count": 64,
   "metadata": {},
   "outputs": [],
   "source": [
    "def generate_top(u):\n",
    "    f_u, g_u = all_strategies[u]\n",
    "    print(f\"f_{u} = {f_u.__name__} \\ng_{u} = {g_u.__name__}\\n\")\n",
    "\n",
    "    # value 1 at point(a,b) = (f_u(x),g_u(y)), zero everywhere else\n",
    "    def middle_entry(x,y):\n",
    "        # value 1 at (f_u(x),g_u(y)) zero everywhere else\n",
    "        middle = np.zeros((2,2), dtype=int)\n",
    "        middle[f_u(x), g_u(y)] = 1\n",
    "        return middle\n",
    "\n",
    "    top_level = np.array([\n",
    "                [middle_entry(0,0), middle_entry(1,0)], \n",
    "                [middle_entry(0,1), middle_entry(1,1)]\n",
    "                ]) \n",
    "\n",
    "    return top_level\n",
    "\n",
    "\n",
    "# u=5\n",
    "# print(\"top level for strategy u =\", u)\n",
    "# generate_top(u)"
   ]
  },
  {
   "cell_type": "code",
   "execution_count": 65,
   "metadata": {},
   "outputs": [],
   "source": [
    "# make it symbolic\n",
    "tokens = [f\"w{i}\" for i in range(16)]\n",
    "symb = sp.symbols(\" \".join(tokens))"
   ]
  },
  {
   "cell_type": "code",
   "execution_count": 66,
   "metadata": {},
   "outputs": [],
   "source": [
    "%%capture\n",
    "\n",
    "# add strategy matrices\n",
    "summed_strategies = sum([symb[i]*generate_top(i) for i in range(16)])"
   ]
  },
  {
   "cell_type": "code",
   "execution_count": 67,
   "metadata": {},
   "outputs": [
    {
     "data": {
      "text/plain": [
       "array([[[[w0 + w10 + w2 + w8, w1 + w11 + w3 + w9],\n",
       "         [w12 + w14 + w4 + w6, w13 + w15 + w5 + w7]],\n",
       "\n",
       "        [[w10 + w4 + w6 + w8, w11 + w5 + w7 + w9],\n",
       "         [w0 + w12 + w14 + w2, w1 + w13 + w15 + w3]]],\n",
       "\n",
       "\n",
       "       [[[w1 + w10 + w2 + w9, w0 + w11 + w3 + w8],\n",
       "         [w13 + w14 + w5 + w6, w12 + w15 + w4 + w7]],\n",
       "\n",
       "        [[w10 + w5 + w6 + w9, w11 + w4 + w7 + w8],\n",
       "         [w1 + w13 + w14 + w2, w0 + w12 + w15 + w3]]]], dtype=object)"
      ]
     },
     "execution_count": 67,
     "metadata": {},
     "output_type": "execute_result"
    }
   ],
   "source": [
    "summed_strategies"
   ]
  },
  {
   "cell_type": "markdown",
   "metadata": {},
   "source": [
    "Found summed strategies matrices for all U!"
   ]
  },
  {
   "cell_type": "code",
   "execution_count": 68,
   "metadata": {},
   "outputs": [],
   "source": [
    "# declaring Gurobi variable W_i with each lb=0 and ub=1\n",
    "import gurobipy as gp\n",
    "from gurobipy import GRB\n",
    "m = gp.Model()\n",
    "W = m.addVars(16, lb=0, ub=1, vtype=GRB.CONTINUOUS, name=\"W\")\n",
    "m.update()"
   ]
  },
  {
   "cell_type": "code",
   "execution_count": 69,
   "metadata": {},
   "outputs": [],
   "source": [
    "dist_ABXY = {\n",
    "    (0, 0, 0, 0): 0.0,\n",
    "    (0, 0, 0, 1): 0.008333333333333333,\n",
    "    (0, 0, 1, 0): 0.016666666666666666,\n",
    "    (0, 0, 1, 1): 0.025,\n",
    "    (0, 1, 0, 0): 0.03333333333333333,\n",
    "    (0, 1, 0, 1): 0.041666666666666664,\n",
    "    (0, 1, 1, 0): 0.05,\n",
    "    (0, 1, 1, 1): 0.058333333333333334,\n",
    "    (1, 0, 0, 0): 0.06666666666666667,\n",
    "    (1, 0, 0, 1): 0.075,\n",
    "    (1, 0, 1, 0): 0.08333333333333333,\n",
    "    (1, 0, 1, 1): 0.09166666666666666,\n",
    "    (1, 1, 0, 0): 0.1,\n",
    "    (1, 1, 0, 1): 0.10833333333333334,\n",
    "    (1, 1, 1, 0): 0.11666666666666667,\n",
    "    (1, 1, 1, 1): 0.125}\n",
    "sum(dist_ABXY.values()) == 1\n",
    "\n",
    "# get P_AB|XY from P_ABXY\n",
    "def P_AB_giv_XY(A,B, X, Y):\n",
    "    P_ABXY = sum([dist_ABXY[(a,b,x,y)] for a,b,x,y in dist_ABXY if a==A and b==B and x==X and y==Y])\n",
    "    P_AB = sum([dist_ABXY[(a,b,x,y)] for a,b,x,y in dist_ABXY if a==A and b==B])\n",
    "    return P_ABXY/P_AB\n",
    "\n",
    "\n",
    "# dist_AB_given_XY_2 = {\n",
    "#     (0,0,0,0): 0.5,\n",
    "#     (1,1,0,0): 0.5,\n",
    "#     (1,0,0,0): 0,\n",
    "#     (0,1,0,0): 0,\n",
    "#     (0,0,0,1): 0.25,\n",
    "#     (1,1,0,1): 0.25,\n",
    "#     (0,1,0,1): 0.25,\n",
    "#     (1,0,0,1): 0.25,\n",
    "#     (0,0,1,0): 0.5,\n",
    "#     (1,1,1,0): 0.5,\n",
    "#     (0,1,1,0): 0,\n",
    "#     (1,0,1,0): 0,\n",
    "#     (0,0,1,1): 0.25,\n",
    "#     (1,1,1,1): 0.25,\n",
    "#     (0,1,1,1): 0,\n",
    "#     (1,0,1,1): 0.25}\n",
    "\n",
    "# # get P_AB|XY from P_ABXY\n",
    "# def P_AB_giv_XY(A,B, X, Y):\n",
    "#     return dist_AB_given_XY_2[A,B,X,Y]"
   ]
  },
  {
   "cell_type": "code",
   "execution_count": 70,
   "metadata": {},
   "outputs": [
    {
     "data": {
      "text/plain": [
       "0"
      ]
     },
     "execution_count": 70,
     "metadata": {},
     "output_type": "execute_result"
    }
   ],
   "source": [
    "np.kron(0,0)"
   ]
  },
  {
   "cell_type": "code",
   "execution_count": 71,
   "metadata": {},
   "outputs": [],
   "source": [
    "# P(AB|XY)\n",
    "\n",
    "# v=0 # works!\n",
    "# v=1 # infeasible\n",
    "# v=0.000000000001\n",
    "def P_AB_giv_XY(A,B, X, Y):\n",
    "    return v*(0.5*np.kron((A % 2) & B, X*Y)) + (1-v)/4\n",
    "\n"
   ]
  },
  {
   "cell_type": "code",
   "execution_count": 72,
   "metadata": {},
   "outputs": [],
   "source": [
    "# summed_strategies[x,y][a,b]       # [x,y][a,b]\n",
    "# P_AB_giv_XY(a,b,x,y)              # [a,b][x,y]"
   ]
  },
  {
   "cell_type": "code",
   "execution_count": 73,
   "metadata": {},
   "outputs": [],
   "source": [
    "sym_to_gurobi = {symb[i]: W[i] for i in range(16)}\n",
    "for x,y, a,b in itertools.product(range(2), repeat=4):\n",
    "    # summed_strategies returns SymPy expression\n",
    "    sympy_expr = summed_strategies[x,y][a,b]\n",
    "\n",
    "    # Convert the SymPy expression to a Gurobi expression\n",
    "    gurobi_expr = sum(sym_to_gurobi[sym] * coef for sym, coef in sympy_expr.as_coefficients_dict().items())\n",
    "\n",
    "    # Add the constraint to the model\n",
    "    m.addConstr(gurobi_expr == P_AB_giv_XY(a,b,x,y), f\"P({a},{b}|{x},{y}) == {gurobi_expr} == {P_AB_giv_XY(a,b,x,y)}\")\n"
   ]
  },
  {
   "cell_type": "code",
   "execution_count": 74,
   "metadata": {},
   "outputs": [],
   "source": [
    "m.update()\n",
    "constr = m.getConstrs()"
   ]
  },
  {
   "cell_type": "markdown",
   "metadata": {},
   "source": [
    "## SymPy Expression"
   ]
  },
  {
   "cell_type": "code",
   "execution_count": 75,
   "metadata": {},
   "outputs": [
    {
     "name": "stdout",
     "output_type": "stream",
     "text": [
      "P(0,0|0,0) =  w0 + w10 + w2 + w8  =  0.24999999999975\n",
      "P(0,1|0,0) =  w1 + w11 + w3 + w9  =  0.24999999999975\n",
      "P(1,0|0,0) =  w12 + w14 + w4 + w6  =  0.24999999999975\n",
      "P(1,1|0,0) =  w13 + w15 + w5 + w7  =  0.24999999999975\n",
      "P(0,0|0,1) =  w10 + w4 + w6 + w8  =  0.24999999999975\n",
      "P(0,1|0,1) =  w11 + w5 + w7 + w9  =  0.24999999999975\n",
      "P(1,0|0,1) =  w0 + w12 + w14 + w2  =  0.24999999999975\n",
      "P(1,1|0,1) =  w1 + w13 + w15 + w3  =  0.24999999999975\n",
      "P(0,0|1,0) =  w1 + w10 + w2 + w9  =  0.24999999999975\n",
      "P(0,1|1,0) =  w0 + w11 + w3 + w8  =  0.24999999999975\n",
      "P(1,0|1,0) =  w13 + w14 + w5 + w6  =  0.24999999999975\n",
      "P(1,1|1,0) =  w12 + w15 + w4 + w7  =  0.24999999999975\n",
      "P(0,0|1,1) =  w10 + w5 + w6 + w9  =  0.24999999999975\n",
      "P(0,1|1,1) =  w11 + w4 + w7 + w8  =  0.24999999999975\n",
      "P(1,0|1,1) =  w1 + w13 + w14 + w2  =  0.24999999999975\n",
      "P(1,1|1,1) =  w0 + w12 + w15 + w3  =  0.25000000000025\n"
     ]
    }
   ],
   "source": [
    "# summed_strategies[x,y][a,b]\n",
    "# print(\"P(a,b|x,y)\")\n",
    "\n",
    "for x,y, a,b in itertools.product(range(2), repeat=4):\n",
    "     print(f\"P({a},{b}|{x},{y}) = \", summed_strategies[x,y][a,b], \" = \", P_AB_giv_XY(a,b,x,y))"
   ]
  },
  {
   "cell_type": "markdown",
   "metadata": {},
   "source": [
    "## Gurobi Constraints"
   ]
  },
  {
   "cell_type": "code",
   "execution_count": 76,
   "metadata": {},
   "outputs": [
    {
     "name": "stdout",
     "output_type": "stream",
     "text": [
      "<gurobi.Constr P(0,0|0,0) == W[0] + W[10] + W[2] + W[8] == 0.24999999999975>\n",
      "<gurobi.Constr P(0,1|0,0) == W[1] + W[11] + W[3] + W[9] == 0.24999999999975>\n",
      "<gurobi.Constr P(1,0|0,0) == W[12] + W[14] + W[4] + W[6] == 0.24999999999975>\n",
      "<gurobi.Constr P(1,1|0,0) == W[13] + W[15] + W[5] + W[7] == 0.24999999999975>\n",
      "<gurobi.Constr P(0,0|0,1) == W[10] + W[4] + W[6] + W[8] == 0.24999999999975>\n",
      "<gurobi.Constr P(0,1|0,1) == W[11] + W[5] + W[7] + W[9] == 0.24999999999975>\n",
      "<gurobi.Constr P(1,0|0,1) == W[0] + W[12] + W[14] + W[2] == 0.24999999999975>\n",
      "<gurobi.Constr P(1,1|0,1) == W[1] + W[13] + W[15] + W[3] == 0.24999999999975>\n",
      "<gurobi.Constr P(0,0|1,0) == W[1] + W[10] + W[2] + W[9] == 0.24999999999975>\n",
      "<gurobi.Constr P(0,1|1,0) == W[0] + W[11] + W[3] + W[8] == 0.24999999999975>\n",
      "<gurobi.Constr P(1,0|1,0) == W[13] + W[14] + W[5] + W[6] == 0.24999999999975>\n",
      "<gurobi.Constr P(1,1|1,0) == W[12] + W[15] + W[4] + W[7] == 0.24999999999975>\n",
      "<gurobi.Constr P(0,0|1,1) == W[10] + W[5] + W[6] + W[9] == 0.24999999999975>\n",
      "<gurobi.Constr P(0,1|1,1) == W[11] + W[4] + W[7] + W[8] == 0.24999999999975>\n",
      "<gurobi.Constr P(1,0|1,1) == W[1] + W[13] + W[14] + W[2] == 0.24999999999975>\n",
      "<gurobi.Constr P(1,1|1,1) == W[0] + W[12] + W[15] + W[3] == 0.25000000000025>\n"
     ]
    }
   ],
   "source": [
    "for cons in constr:\n",
    "    print(cons)"
   ]
  },
  {
   "cell_type": "code",
   "execution_count": 77,
   "metadata": {},
   "outputs": [
    {
     "name": "stdout",
     "output_type": "stream",
     "text": [
      "Gurobi Optimizer version 11.0.0 build v11.0.0rc2 (win64 - Windows 11.0 (22621.2))\n",
      "\n",
      "CPU model: 11th Gen Intel(R) Core(TM) i7-11800H @ 2.30GHz, instruction set [SSE2|AVX|AVX2|AVX512]\n",
      "Thread count: 8 physical cores, 16 logical processors, using up to 16 threads\n",
      "\n",
      "Optimize a model with 16 rows, 16 columns and 64 nonzeros\n",
      "Model fingerprint: 0x5687b77f\n",
      "Coefficient statistics:\n",
      "  Matrix range     [1e+00, 1e+00]\n",
      "  Objective range  [1e+00, 1e+00]\n",
      "  Bounds range     [1e+00, 1e+00]\n",
      "  RHS range        [2e-01, 3e-01]\n",
      "Presolve removed 7 rows and 0 columns\n",
      "Presolve time: 0.00s\n",
      "Presolved: 9 rows, 16 columns, 36 nonzeros\n",
      "\n",
      "Iteration    Objective       Primal Inf.    Dual Inf.      Time\n",
      "       0    1.0000000e+00   2.015000e+00   0.000000e+00      0s\n",
      "      10    1.0000000e+00   0.000000e+00   0.000000e+00      0s\n",
      "\n",
      "Solved in 10 iterations and 0.01 seconds (0.00 work units)\n",
      "Optimal objective  1.000000000e+00\n"
     ]
    }
   ],
   "source": [
    "# set objective, find all W_i\n",
    "obj = sum(W[i] for i in range(16))\n",
    "m.setObjective(obj, GRB.MAXIMIZE)\n",
    "m.update()\n",
    "\n",
    "m.optimize()"
   ]
  },
  {
   "cell_type": "code",
   "execution_count": 78,
   "metadata": {},
   "outputs": [
    {
     "name": "stdout",
     "output_type": "stream",
     "text": [
      "***********************\n",
      "W_0 = 5.000166947155549e-13\n",
      "W_1 = 0.0\n",
      "W_2 = 0.0\n",
      "W_3 = 0.0\n",
      "W_4 = 0.0\n",
      "W_5 = 0.0\n",
      "W_6 = 0.0\n",
      "W_7 = 0.0\n",
      "W_8 = 0.24999999999975\n",
      "W_9 = 0.24999999999975\n",
      "W_10 = -5.000166947155549e-13\n",
      "W_11 = 0.0\n",
      "W_12 = 0.24999999999975\n",
      "W_13 = 0.24999999999975\n",
      "W_14 = 0.0\n",
      "W_15 = 0.0\n"
     ]
    }
   ],
   "source": [
    "print(\"***********************\")\n",
    "for i in range(16):\n",
    "    print(f\"W_{i} = {W[i].x}\")"
   ]
  }
 ],
 "metadata": {
  "kernelspec": {
   "display_name": "Python 3",
   "language": "python",
   "name": "python3"
  },
  "language_info": {
   "codemirror_mode": {
    "name": "ipython",
    "version": 3
   },
   "file_extension": ".py",
   "mimetype": "text/x-python",
   "name": "python",
   "nbconvert_exporter": "python",
   "pygments_lexer": "ipython3",
   "version": "3.10.4"
  }
 },
 "nbformat": 4,
 "nbformat_minor": 2
}
