{
 "cells": [
  {
   "cell_type": "code",
   "execution_count": 1,
   "metadata": {},
   "outputs": [],
   "source": [
    "import numpy as np\n",
    "import itertools"
   ]
  },
  {
   "cell_type": "markdown",
   "metadata": {},
   "source": [
    "DESC:"
   ]
  },
  {
   "cell_type": "code",
   "execution_count": 2,
   "metadata": {},
   "outputs": [],
   "source": [
    "# for an unkown function, take input cardinality and output cardinality, return a list of all possible functions\n",
    "\n",
    "# should only take card in >/= card out to be deterministic\n",
    "def generate_functions(card_in, card_out):\n",
    "    # all possible outputs for each input\n",
    "    all_possible_outputs = list(itertools.product(range(card_out), repeat=card_in))\n",
    "\n",
    "    # creates a function for each possible output\n",
    "    functions = []\n",
    "    for outputs in all_possible_outputs:\n",
    "        function = dict(zip(range(card_in), outputs)) # use dict or list?\n",
    "        functions.append(function)\n",
    "\n",
    "    return functions"
   ]
  },
  {
   "cell_type": "code",
   "execution_count": 16,
   "metadata": {},
   "outputs": [
    {
     "data": {
      "text/plain": [
       "[{0: 0, 1: 0, 2: 0, 3: 0, 4: 0, 5: 0},\n",
       " {0: 0, 1: 0, 2: 0, 3: 0, 4: 0, 5: 1},\n",
       " {0: 0, 1: 0, 2: 0, 3: 0, 4: 1, 5: 0},\n",
       " {0: 0, 1: 0, 2: 0, 3: 0, 4: 1, 5: 1},\n",
       " {0: 0, 1: 0, 2: 0, 3: 1, 4: 0, 5: 0},\n",
       " {0: 0, 1: 0, 2: 0, 3: 1, 4: 0, 5: 1},\n",
       " {0: 0, 1: 0, 2: 0, 3: 1, 4: 1, 5: 0},\n",
       " {0: 0, 1: 0, 2: 0, 3: 1, 4: 1, 5: 1},\n",
       " {0: 0, 1: 0, 2: 1, 3: 0, 4: 0, 5: 0},\n",
       " {0: 0, 1: 0, 2: 1, 3: 0, 4: 0, 5: 1},\n",
       " {0: 0, 1: 0, 2: 1, 3: 0, 4: 1, 5: 0},\n",
       " {0: 0, 1: 0, 2: 1, 3: 0, 4: 1, 5: 1},\n",
       " {0: 0, 1: 0, 2: 1, 3: 1, 4: 0, 5: 0},\n",
       " {0: 0, 1: 0, 2: 1, 3: 1, 4: 0, 5: 1},\n",
       " {0: 0, 1: 0, 2: 1, 3: 1, 4: 1, 5: 0},\n",
       " {0: 0, 1: 0, 2: 1, 3: 1, 4: 1, 5: 1},\n",
       " {0: 0, 1: 1, 2: 0, 3: 0, 4: 0, 5: 0},\n",
       " {0: 0, 1: 1, 2: 0, 3: 0, 4: 0, 5: 1},\n",
       " {0: 0, 1: 1, 2: 0, 3: 0, 4: 1, 5: 0},\n",
       " {0: 0, 1: 1, 2: 0, 3: 0, 4: 1, 5: 1},\n",
       " {0: 0, 1: 1, 2: 0, 3: 1, 4: 0, 5: 0},\n",
       " {0: 0, 1: 1, 2: 0, 3: 1, 4: 0, 5: 1},\n",
       " {0: 0, 1: 1, 2: 0, 3: 1, 4: 1, 5: 0},\n",
       " {0: 0, 1: 1, 2: 0, 3: 1, 4: 1, 5: 1},\n",
       " {0: 0, 1: 1, 2: 1, 3: 0, 4: 0, 5: 0},\n",
       " {0: 0, 1: 1, 2: 1, 3: 0, 4: 0, 5: 1},\n",
       " {0: 0, 1: 1, 2: 1, 3: 0, 4: 1, 5: 0},\n",
       " {0: 0, 1: 1, 2: 1, 3: 0, 4: 1, 5: 1},\n",
       " {0: 0, 1: 1, 2: 1, 3: 1, 4: 0, 5: 0},\n",
       " {0: 0, 1: 1, 2: 1, 3: 1, 4: 0, 5: 1},\n",
       " {0: 0, 1: 1, 2: 1, 3: 1, 4: 1, 5: 0},\n",
       " {0: 0, 1: 1, 2: 1, 3: 1, 4: 1, 5: 1},\n",
       " {0: 1, 1: 0, 2: 0, 3: 0, 4: 0, 5: 0},\n",
       " {0: 1, 1: 0, 2: 0, 3: 0, 4: 0, 5: 1},\n",
       " {0: 1, 1: 0, 2: 0, 3: 0, 4: 1, 5: 0},\n",
       " {0: 1, 1: 0, 2: 0, 3: 0, 4: 1, 5: 1},\n",
       " {0: 1, 1: 0, 2: 0, 3: 1, 4: 0, 5: 0},\n",
       " {0: 1, 1: 0, 2: 0, 3: 1, 4: 0, 5: 1},\n",
       " {0: 1, 1: 0, 2: 0, 3: 1, 4: 1, 5: 0},\n",
       " {0: 1, 1: 0, 2: 0, 3: 1, 4: 1, 5: 1},\n",
       " {0: 1, 1: 0, 2: 1, 3: 0, 4: 0, 5: 0},\n",
       " {0: 1, 1: 0, 2: 1, 3: 0, 4: 0, 5: 1},\n",
       " {0: 1, 1: 0, 2: 1, 3: 0, 4: 1, 5: 0},\n",
       " {0: 1, 1: 0, 2: 1, 3: 0, 4: 1, 5: 1},\n",
       " {0: 1, 1: 0, 2: 1, 3: 1, 4: 0, 5: 0},\n",
       " {0: 1, 1: 0, 2: 1, 3: 1, 4: 0, 5: 1},\n",
       " {0: 1, 1: 0, 2: 1, 3: 1, 4: 1, 5: 0},\n",
       " {0: 1, 1: 0, 2: 1, 3: 1, 4: 1, 5: 1},\n",
       " {0: 1, 1: 1, 2: 0, 3: 0, 4: 0, 5: 0},\n",
       " {0: 1, 1: 1, 2: 0, 3: 0, 4: 0, 5: 1},\n",
       " {0: 1, 1: 1, 2: 0, 3: 0, 4: 1, 5: 0},\n",
       " {0: 1, 1: 1, 2: 0, 3: 0, 4: 1, 5: 1},\n",
       " {0: 1, 1: 1, 2: 0, 3: 1, 4: 0, 5: 0},\n",
       " {0: 1, 1: 1, 2: 0, 3: 1, 4: 0, 5: 1},\n",
       " {0: 1, 1: 1, 2: 0, 3: 1, 4: 1, 5: 0},\n",
       " {0: 1, 1: 1, 2: 0, 3: 1, 4: 1, 5: 1},\n",
       " {0: 1, 1: 1, 2: 1, 3: 0, 4: 0, 5: 0},\n",
       " {0: 1, 1: 1, 2: 1, 3: 0, 4: 0, 5: 1},\n",
       " {0: 1, 1: 1, 2: 1, 3: 0, 4: 1, 5: 0},\n",
       " {0: 1, 1: 1, 2: 1, 3: 0, 4: 1, 5: 1},\n",
       " {0: 1, 1: 1, 2: 1, 3: 1, 4: 0, 5: 0},\n",
       " {0: 1, 1: 1, 2: 1, 3: 1, 4: 0, 5: 1},\n",
       " {0: 1, 1: 1, 2: 1, 3: 1, 4: 1, 5: 0},\n",
       " {0: 1, 1: 1, 2: 1, 3: 1, 4: 1, 5: 1}]"
      ]
     },
     "execution_count": 16,
     "metadata": {},
     "output_type": "execute_result"
    }
   ],
   "source": [
    "# generate all combination of the functions\n",
    "generate_functions(6, 2) # (2,2) -> {to0, id, swap, to1}"
   ]
  },
  {
   "cell_type": "markdown",
   "metadata": {},
   "source": [
    "$\\vec F_i = \\begin{bmatrix} f_i(0) \\\\ f_i(1) \\\\ \\vdots \\\\ f_i(m) \\end{bmatrix} $"
   ]
  },
  {
   "cell_type": "markdown",
   "metadata": {},
   "source": [
    "$\\vec F = \\left[ \\vec F_1, \\vec F_2, ... \\vec F_n \\right] = \n",
    "\\left[ \\begin{bmatrix} f_1(0) \\\\ f_1(1) \\\\ \\vdots \\\\ f_1(m) \\end{bmatrix}, \\begin{bmatrix} f_2(0) \\\\ f_2(1) \\\\ \\vdots \\\\ f_2(m) \\end{bmatrix}, \\dots \\space \\begin{bmatrix} f_n(0) \\\\ f_n(1) \\\\ \\vdots \\\\ f_n(m) \\end{bmatrix}\\right] =  \n",
    "\\begin{bmatrix}\n",
    "f_1(0) & f_2(0) & \\dots & f_n(0) \\\\\n",
    "f_1(1) & f_2(1) & \\dots & f_n(1) \\\\\n",
    "\\vdots& \\vdots& \\ddots & \\vdots \\\\\n",
    "f_1(m) & f_2(m)& \\dots & f_n(m)\n",
    "\\end{bmatrix}$\n",
    "\n",
    "^matrix of functions generated"
   ]
  },
  {
   "cell_type": "code",
   "execution_count": 22,
   "metadata": {},
   "outputs": [
    {
     "name": "stdout",
     "output_type": "stream",
     "text": [
      "0 {0: 0, 1: 0}\n",
      "1 {0: 0, 1: 1}\n",
      "2 {0: 1, 1: 0}\n",
      "3 {0: 1, 1: 1}\n"
     ]
    }
   ],
   "source": [
    "for hidden1_index, hidden1 in enumerate(generate_functions(2,2)):\n",
    "    print(hidden1_index, hidden1)\n",
    "    # if there's more hidden variables: ...\n",
    "    #     for hidden2 in [generate_functions(2*2,2)]:\n",
    "    #         print(hidden2)\n",
    "\n",
    "    p_det = np.zeros((2,2,2,2)) # np.zeros(how many matrices, shape_vertical, shape_horitzontal, ...  , for each element, crete a matrices)"
   ]
  },
  {
   "cell_type": "markdown",
   "metadata": {},
   "source": [
    "number of values = $\\prod_i (\\text{card in list}) \\times \\prod_j(\\text{card out list})$\n"
   ]
  },
  {
   "cell_type": "markdown",
   "metadata": {},
   "source": [
    "we create matrix of zeros s.t.\n",
    "\n",
    "$\\begin{bmatrix} *_1 & * \\\\ * & * \\end{bmatrix} \n",
    "\\longrightarrow *_1 = \\begin{bmatrix} *_{11} & * \\\\ * & * \\end{bmatrix} \\longrightarrow *_{11} = 0 \\text{ OR } 1$"
   ]
  },
  {
   "cell_type": "code",
   "execution_count": 8,
   "metadata": {},
   "outputs": [
    {
     "data": {
      "text/plain": [
       "array([[[[0., 0.],\n",
       "         [0., 0.]],\n",
       "\n",
       "        [[0., 0.],\n",
       "         [0., 0.]]],\n",
       "\n",
       "\n",
       "       [[[0., 0.],\n",
       "         [0., 0.]],\n",
       "\n",
       "        [[0., 0.],\n",
       "         [0., 0.]]]])"
      ]
     },
     "execution_count": 8,
     "metadata": {},
     "output_type": "execute_result"
    }
   ],
   "source": [
    "### for the case of 1 hidden variable\n",
    "\n",
    "# (list of cardinalities for input variables, list of cardinalities for output variables) -> zero matrices structrue\n",
    "def zero_matrices(in_lst, out_lst):\n",
    "    num_vals = np.prod(in_lst)*np.prod(out_lst) # total number of cells is the product of elements in the lists\n",
    "    \n",
    "    return np.zeros(num_vals).reshape(tuple(sum([in_lst, out_lst], [])))    # create matrix of zeros, reshape it to ??? \n",
    "                                                                            # tuple(sum([[1,2],[3,4]], [] )) needs explanation\n",
    "\n",
    "zero_matrices([2,2], [2,2])"
   ]
  },
  {
   "cell_type": "markdown",
   "metadata": {},
   "source": [
    "## Example generalized:"
   ]
  },
  {
   "cell_type": "markdown",
   "metadata": {},
   "source": [
    "$\\space$"
   ]
  },
  {
   "cell_type": "code",
   "execution_count": 17,
   "metadata": {},
   "outputs": [
    {
     "name": "stdout",
     "output_type": "stream",
     "text": [
      "for the example\n",
      "[[[0. 0.]\n",
      "  [0. 0.]]\n",
      "\n",
      " [[0. 0.]\n",
      "  [0. 0.]]]\n"
     ]
    }
   ],
   "source": [
    "m = zero_matrices([2],[2,2])\n",
    "print(\"for the example\")\n",
    "print(m)"
   ]
  },
  {
   "cell_type": "code",
   "execution_count": 10,
   "metadata": {},
   "outputs": [
    {
     "name": "stdout",
     "output_type": "stream",
     "text": [
      "we want relevant position to be = 1\n",
      "[[[1. 0.]\n",
      "  [0. 0.]]\n",
      "\n",
      " [[0. 0.]\n",
      "  [0. 1.]]]\n"
     ]
    }
   ],
   "source": [
    "base_strategies = generate_functions(2,2)\n",
    "all_strategies = list(itertools.product(base_strategies, repeat=2))\n",
    "\n",
    "# we want to use these functions i.e. this strategy:\n",
    "f_u, g_u = all_strategies[5]\n",
    "\n",
    "\n",
    "print(\"we want relevant position to be = 1\")\n",
    "for submatrix in range(2): # 2 comes from cardinality of output variable\n",
    "    (x,y) = (f_u[submatrix], g_u[f_u[submatrix]])\n",
    "    m[submatrix][y,x] = 1\n",
    "print(m)"
   ]
  },
  {
   "cell_type": "code",
   "execution_count": 11,
   "metadata": {},
   "outputs": [
    {
     "name": "stdout",
     "output_type": "stream",
     "text": [
      "for the example\n",
      "[[[[0. 0.]\n",
      "   [0. 0.]]\n",
      "\n",
      "  [[0. 0.]\n",
      "   [0. 0.]]]\n",
      "\n",
      "\n",
      " [[[0. 0.]\n",
      "   [0. 0.]]\n",
      "\n",
      "  [[0. 0.]\n",
      "   [0. 0.]]]]\n"
     ]
    }
   ],
   "source": [
    "# now for example XY -> AB\n",
    "\n",
    "m = zero_matrices([2,2],[2,2])\n",
    "print(\"for the example\")\n",
    "print(m)"
   ]
  },
  {
   "cell_type": "code",
   "execution_count": 12,
   "metadata": {},
   "outputs": [
    {
     "name": "stdout",
     "output_type": "stream",
     "text": [
      "we want relevant position to be = 1\n",
      "[[[[1. 1.]\n",
      "   [0. 0.]]\n",
      "\n",
      "  [[0. 0.]\n",
      "   [0. 0.]]]\n",
      "\n",
      "\n",
      " [[[0. 0.]\n",
      "   [0. 0.]]\n",
      "\n",
      "  [[0. 0.]\n",
      "   [1. 1.]]]]\n"
     ]
    }
   ],
   "source": [
    "base_strategies = generate_functions(2,2)\n",
    "all_strategies = list(itertools.product(base_strategies, repeat=2))\n",
    "\n",
    "# we want to use these functions i.e. this strategy:\n",
    "f_u, g_u = all_strategies[5]\n",
    "\n",
    "\n",
    "print(\"we want relevant position to be = 1\")\n",
    "for submatrix in range(2): # 2 comes from cardinality of output variable\n",
    "    (x,y) = (f_u[submatrix], g_u[f_u[submatrix]])\n",
    "    m[submatrix][y,x] = 1\n",
    "print(m)"
   ]
  },
  {
   "cell_type": "code",
   "execution_count": 13,
   "metadata": {},
   "outputs": [
    {
     "name": "stdout",
     "output_type": "stream",
     "text": [
      "0 0\n"
     ]
    }
   ],
   "source": [
    "# the position will be\n",
    "\n",
    "\n",
    "#[input for func] -> output for func\n",
    "def f(input):\n",
    "    return generate_functions(2,1)[0][input] #generate_functions(card_in, card_out)[always 0][input]\n",
    "\n",
    "(x,y) = (f(0), f(1))\n",
    "\n",
    "print(x,y)"
   ]
  },
  {
   "cell_type": "code",
   "execution_count": 14,
   "metadata": {},
   "outputs": [
    {
     "name": "stdout",
     "output_type": "stream",
     "text": [
      "F1 : {0: 0, 1: 0, 2: 0, 3: 0}\n",
      "F2 : {0: 0, 1: 0, 2: 0, 3: 1}\n",
      "F3 : {0: 0, 1: 0, 2: 1, 3: 0}\n",
      "F4 : {0: 0, 1: 0, 2: 1, 3: 1}\n",
      "F5 : {0: 0, 1: 1, 2: 0, 3: 0}\n",
      "F6 : {0: 0, 1: 1, 2: 0, 3: 1}\n",
      "F7 : {0: 0, 1: 1, 2: 1, 3: 0}\n",
      "F8 : {0: 0, 1: 1, 2: 1, 3: 1}\n",
      "F9 : {0: 1, 1: 0, 2: 0, 3: 0}\n",
      "F10 : {0: 1, 1: 0, 2: 0, 3: 1}\n",
      "F11 : {0: 1, 1: 0, 2: 1, 3: 0}\n",
      "F12 : {0: 1, 1: 0, 2: 1, 3: 1}\n",
      "F13 : {0: 1, 1: 1, 2: 0, 3: 0}\n",
      "F14 : {0: 1, 1: 1, 2: 0, 3: 1}\n",
      "F15 : {0: 1, 1: 1, 2: 1, 3: 0}\n",
      "F16 : {0: 1, 1: 1, 2: 1, 3: 1}\n"
     ]
    }
   ],
   "source": [
    "# i: each funciton generated\n",
    "for i in range(4**2):\n",
    "    print(f\"F{i+1} :\", generate_functions(4,2)[i])\n",
    "    # print(f\"F{i+1}(0) = \", generate_functions(4,2)[i][0])"
   ]
  },
  {
   "cell_type": "code",
   "execution_count": null,
   "metadata": {},
   "outputs": [],
   "source": [
    "def gen_top_matrix():\n",
    "    ..."
   ]
  }
 ],
 "metadata": {
  "kernelspec": {
   "display_name": "Python 3",
   "language": "python",
   "name": "python3"
  },
  "language_info": {
   "codemirror_mode": {
    "name": "ipython",
    "version": 3
   },
   "file_extension": ".py",
   "mimetype": "text/x-python",
   "name": "python",
   "nbconvert_exporter": "python",
   "pygments_lexer": "ipython3",
   "version": "3.10.4"
  }
 },
 "nbformat": 4,
 "nbformat_minor": 2
}
