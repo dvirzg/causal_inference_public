{
 "cells": [
  {
   "cell_type": "code",
   "execution_count": 1,
   "metadata": {},
   "outputs": [],
   "source": [
    "import numpy as np\n",
    "import itertools\n",
    "import gurobipy as gp\n",
    "from gurobipy import GRB"
   ]
  },
  {
   "cell_type": "markdown",
   "metadata": {},
   "source": [
    "Want:  \n",
    "    get deterministic strategies (extrema points) of "
   ]
  },
  {
   "cell_type": "code",
   "execution_count": null,
   "metadata": {},
   "outputs": [],
   "source": [
    "def generate_"
   ]
  },
  {
   "cell_type": "code",
   "execution_count": 2,
   "metadata": {},
   "outputs": [],
   "source": [
    "# should only take card in >/= card out to be deterministic\n",
    "def generate_functions(card_in, card_out):\n",
    "    all_possible_outputs = list(itertools.product(range(card_out), repeat=card_in))\n",
    "\n",
    "    # creates a function for each possible output\n",
    "    functions = []\n",
    "    for outputs in all_possible_outputs:\n",
    "        function = dict(zip(range(card_in), outputs)) # use dict or list?\n",
    "        functions.append(function)\n",
    "\n",
    "    return functions\n",
    "\n",
    "\n",
    "card_in, card_out = 2, 2\n",
    "combs = []\n",
    "# find any combination of 2 functions from the functions generated:\n",
    "for f,g in np.ndindex(card_in*card_out,card_in*card_out):\n",
    "    combs.append([generate_functions(card_in,card_out)[f], generate_functions(card_in,card_out)[g]])\n",
    "\n",
    "\n",
    "def generate_top_new(u):\n",
    "    # f_u, g_u = all_strategies[u]\n",
    "    f_u, g_u = combs[u][0], combs[u][1] \n",
    "\n",
    "    # value 1 at point(a,b) = (f_u(x),g_u(y)), zero everywhere else\n",
    "    def middle_entry(x,y):\n",
    "        # value 1 at (f_u(x),g_u(y)) zero everywhere else\n",
    "        middle = np.zeros((2,2), dtype=int)\n",
    "        middle[f_u[(x)], g_u[(y)]] = 1\n",
    "        return middle\n",
    "\n",
    "    top_level = np.array([\n",
    "                [middle_entry(0,0), middle_entry(1,0)], \n",
    "                [middle_entry(0,1), middle_entry(1,1)]\n",
    "                ]) \n",
    "\n",
    "    return top_level"
   ]
  },
  {
   "cell_type": "code",
   "execution_count": 3,
   "metadata": {},
   "outputs": [
    {
     "data": {
      "text/plain": [
       "array([[[[0, 0],\n",
       "         [1, 0]],\n",
       "\n",
       "        [[0, 0],\n",
       "         [1, 0]]],\n",
       "\n",
       "\n",
       "       [[[0, 0],\n",
       "         [0, 1]],\n",
       "\n",
       "        [[0, 0],\n",
       "         [0, 1]]]])"
      ]
     },
     "execution_count": 3,
     "metadata": {},
     "output_type": "execute_result"
    }
   ],
   "source": [
    "generate_top_new(13)"
   ]
  },
  {
   "cell_type": "code",
   "execution_count": 4,
   "metadata": {},
   "outputs": [
    {
     "name": "stdout",
     "output_type": "stream",
     "text": [
      "Set parameter Username\n",
      "Academic license - for non-commercial use only - expires 2025-01-09\n"
     ]
    }
   ],
   "source": [
    "# declaring Gurobi variable W_i w/ i in {0,1,...,15}, and declaring v\n",
    "m = gp.Model()\n",
    "W = m.addVars(16, lb=0, ub=1, vtype=GRB.CONTINUOUS, name=\"W\")\n",
    "\n",
    "m.addConstr(sum([W[i] for i in range(16)]) == 1)\n",
    "internal_gurobi_expr = sum([W[i]*generate_top_new(i) for i in range(16)])\n",
    "m.update()"
   ]
  },
  {
   "cell_type": "code",
   "execution_count": 5,
   "metadata": {},
   "outputs": [
    {
     "data": {
      "text/plain": [
       "array([[[[<gurobi.LinExpr: W[0] + W[1] + 0.0 W[2] + 0.0 W[3] + W[4] + W[5] + 0.0 W[6] + 0.0 W[7] + 0.0 W[8] + 0.0 W[9] + 0.0 W[10] + 0.0 W[11] + 0.0 W[12] + 0.0 W[13] + 0.0 W[14] + 0.0 W[15]>,\n",
       "          <gurobi.LinExpr: 0.0 W[0] + 0.0 W[1] + W[2] + W[3] + 0.0 W[4] + 0.0 W[5] + W[6] + W[7] + 0.0 W[8] + 0.0 W[9] + 0.0 W[10] + 0.0 W[11] + 0.0 W[12] + 0.0 W[13] + 0.0 W[14] + 0.0 W[15]>],\n",
       "         [<gurobi.LinExpr: 0.0 W[0] + 0.0 W[1] + 0.0 W[2] + 0.0 W[3] + 0.0 W[4] + 0.0 W[5] + 0.0 W[6] + 0.0 W[7] + W[8] + W[9] + 0.0 W[10] + 0.0 W[11] + W[12] + W[13] + 0.0 W[14] + 0.0 W[15]>,\n",
       "          <gurobi.LinExpr: 0.0 W[0] + 0.0 W[1] + 0.0 W[2] + 0.0 W[3] + 0.0 W[4] + 0.0 W[5] + 0.0 W[6] + 0.0 W[7] + 0.0 W[8] + 0.0 W[9] + W[10] + W[11] + 0.0 W[12] + 0.0 W[13] + W[14] + W[15]>]],\n",
       "\n",
       "        [[<gurobi.LinExpr: W[0] + W[1] + 0.0 W[2] + 0.0 W[3] + 0.0 W[4] + 0.0 W[5] + 0.0 W[6] + 0.0 W[7] + W[8] + W[9] + 0.0 W[10] + 0.0 W[11] + 0.0 W[12] + 0.0 W[13] + 0.0 W[14] + 0.0 W[15]>,\n",
       "          <gurobi.LinExpr: 0.0 W[0] + 0.0 W[1] + W[2] + W[3] + 0.0 W[4] + 0.0 W[5] + 0.0 W[6] + 0.0 W[7] + 0.0 W[8] + 0.0 W[9] + W[10] + W[11] + 0.0 W[12] + 0.0 W[13] + 0.0 W[14] + 0.0 W[15]>],\n",
       "         [<gurobi.LinExpr: 0.0 W[0] + 0.0 W[1] + 0.0 W[2] + 0.0 W[3] + W[4] + W[5] + 0.0 W[6] + 0.0 W[7] + 0.0 W[8] + 0.0 W[9] + 0.0 W[10] + 0.0 W[11] + W[12] + W[13] + 0.0 W[14] + 0.0 W[15]>,\n",
       "          <gurobi.LinExpr: 0.0 W[0] + 0.0 W[1] + 0.0 W[2] + 0.0 W[3] + 0.0 W[4] + 0.0 W[5] + W[6] + W[7] + 0.0 W[8] + 0.0 W[9] + 0.0 W[10] + 0.0 W[11] + 0.0 W[12] + 0.0 W[13] + W[14] + W[15]>]]],\n",
       "\n",
       "\n",
       "       [[[<gurobi.LinExpr: W[0] + 0.0 W[1] + W[2] + 0.0 W[3] + W[4] + 0.0 W[5] + W[6] + 0.0 W[7] + 0.0 W[8] + 0.0 W[9] + 0.0 W[10] + 0.0 W[11] + 0.0 W[12] + 0.0 W[13] + 0.0 W[14] + 0.0 W[15]>,\n",
       "          <gurobi.LinExpr: 0.0 W[0] + W[1] + 0.0 W[2] + W[3] + 0.0 W[4] + W[5] + 0.0 W[6] + W[7] + 0.0 W[8] + 0.0 W[9] + 0.0 W[10] + 0.0 W[11] + 0.0 W[12] + 0.0 W[13] + 0.0 W[14] + 0.0 W[15]>],\n",
       "         [<gurobi.LinExpr: 0.0 W[0] + 0.0 W[1] + 0.0 W[2] + 0.0 W[3] + 0.0 W[4] + 0.0 W[5] + 0.0 W[6] + 0.0 W[7] + W[8] + 0.0 W[9] + W[10] + 0.0 W[11] + W[12] + 0.0 W[13] + W[14] + 0.0 W[15]>,\n",
       "          <gurobi.LinExpr: 0.0 W[0] + 0.0 W[1] + 0.0 W[2] + 0.0 W[3] + 0.0 W[4] + 0.0 W[5] + 0.0 W[6] + 0.0 W[7] + 0.0 W[8] + W[9] + 0.0 W[10] + W[11] + 0.0 W[12] + W[13] + 0.0 W[14] + W[15]>]],\n",
       "\n",
       "        [[<gurobi.LinExpr: W[0] + 0.0 W[1] + W[2] + 0.0 W[3] + 0.0 W[4] + 0.0 W[5] + 0.0 W[6] + 0.0 W[7] + W[8] + 0.0 W[9] + W[10] + 0.0 W[11] + 0.0 W[12] + 0.0 W[13] + 0.0 W[14] + 0.0 W[15]>,\n",
       "          <gurobi.LinExpr: 0.0 W[0] + W[1] + 0.0 W[2] + W[3] + 0.0 W[4] + 0.0 W[5] + 0.0 W[6] + 0.0 W[7] + 0.0 W[8] + W[9] + 0.0 W[10] + W[11] + 0.0 W[12] + 0.0 W[13] + 0.0 W[14] + 0.0 W[15]>],\n",
       "         [<gurobi.LinExpr: 0.0 W[0] + 0.0 W[1] + 0.0 W[2] + 0.0 W[3] + W[4] + 0.0 W[5] + W[6] + 0.0 W[7] + 0.0 W[8] + 0.0 W[9] + 0.0 W[10] + 0.0 W[11] + W[12] + 0.0 W[13] + W[14] + 0.0 W[15]>,\n",
       "          <gurobi.LinExpr: 0.0 W[0] + 0.0 W[1] + 0.0 W[2] + 0.0 W[3] + 0.0 W[4] + W[5] + 0.0 W[6] + W[7] + 0.0 W[8] + 0.0 W[9] + 0.0 W[10] + 0.0 W[11] + 0.0 W[12] + W[13] + 0.0 W[14] + W[15]>]]]],\n",
       "      dtype=object)"
      ]
     },
     "execution_count": 5,
     "metadata": {},
     "output_type": "execute_result"
    }
   ],
   "source": [
    "internal_gurobi_expr"
   ]
  },
  {
   "cell_type": "code",
   "execution_count": 6,
   "metadata": {},
   "outputs": [],
   "source": [
    "# add constraint such that "
   ]
  }
 ],
 "metadata": {
  "kernelspec": {
   "display_name": "Python 3",
   "language": "python",
   "name": "python3"
  },
  "language_info": {
   "codemirror_mode": {
    "name": "ipython",
    "version": 3
   },
   "file_extension": ".py",
   "mimetype": "text/x-python",
   "name": "python",
   "nbconvert_exporter": "python",
   "pygments_lexer": "ipython3",
   "version": "3.10.4"
  }
 },
 "nbformat": 4,
 "nbformat_minor": 2
}
