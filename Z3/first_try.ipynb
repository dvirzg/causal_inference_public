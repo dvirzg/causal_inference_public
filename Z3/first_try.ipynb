{
 "cells": [
  {
   "cell_type": "code",
   "execution_count": null,
   "metadata": {},
   "outputs": [],
   "source": [
    "from pysmt.logics import QF_NRA\n",
    "# from pysmt.shortcuts import reset_env, get_env\n",
    "import pysmt.environment as pysmt_env\n",
    "from pysmt.formula import FormulaManager\n",
    "from pysmt.typing import REAL\n",
    "from pysmt.solvers.z3 import Z3Solver\n",
    "\n",
    "def string_to_real_var(event_as_string, env=None, create=False):\n",
    "        if env is None:\n",
    "            env = get_env()\n",
    "        if create:\n",
    "            return env.formula_manager._create_symbol('P_' + event_as_string, typename=REAL)\n",
    "        else:\n",
    "            return env.formula_manager.get_or_create_symbol('P_' + event_as_string, typename=REAL)\n",
    "\n",
    "\n",
    "# env = pysmt_env.reset_env()\n",
    "# fm = FormulaManager(env=env)\n",
    "# z3_solver = Z3Solver(environment=env, logic=QF_NRA)\n",
    "\n",
    "# # ...\n",
    "# clause = fm.Equals(fm.Plus(*nl_sat_original_vars), fm.Real(1))\n",
    "# z3_solver._add_assertion(clause)\n",
    "# # ...\n",
    "# z3_solver._solve()\n",
    "# z3_solver.get_model()\n",
    "# # ..."
   ]
  },
  {
   "cell_type": "code",
   "execution_count": 8,
   "metadata": {},
   "outputs": [],
   "source": [
    "from z3 import *"
   ]
  },
  {
   "cell_type": "code",
   "execution_count": 9,
   "metadata": {},
   "outputs": [
    {
     "name": "stdout",
     "output_type": "stream",
     "text": [
      "And(p, q) == Not(Or(Not(p), Not(q)))\n",
      "Proving demorgan...\n",
      "proved\n"
     ]
    }
   ],
   "source": [
    "p, q = Bools('p q')\n",
    "demorgan = And(p, q) == Not(Or(Not(p), Not(q)))\n",
    "print (demorgan)\n",
    "\n",
    "def prove(f):\n",
    "    s = Solver()\n",
    "    s.add(Not(f))\n",
    "    if s.check() == unsat:\n",
    "        print (\"proved\")\n",
    "    else:\n",
    "        print (\"failed to prove\")\n",
    "\n",
    "print (\"Proving demorgan...\")\n",
    "prove(demorgan)"
   ]
  },
  {
   "cell_type": "code",
   "execution_count": 10,
   "metadata": {},
   "outputs": [
    {
     "data": {
      "text/html": [
       "[f(f(x)) = x, f(x) = y, x &ne; y]"
      ],
      "text/plain": [
       "[f(f(x)) == x, f(x) == y, x != y]"
      ]
     },
     "execution_count": 10,
     "metadata": {},
     "output_type": "execute_result"
    }
   ],
   "source": [
    "s"
   ]
  }
 ],
 "metadata": {
  "kernelspec": {
   "display_name": "Python 3",
   "language": "python",
   "name": "python3"
  },
  "language_info": {
   "codemirror_mode": {
    "name": "ipython",
    "version": 3
   },
   "file_extension": ".py",
   "mimetype": "text/x-python",
   "name": "python",
   "nbconvert_exporter": "python",
   "pygments_lexer": "ipython3",
   "version": "3.10.4"
  }
 },
 "nbformat": 4,
 "nbformat_minor": 2
}
